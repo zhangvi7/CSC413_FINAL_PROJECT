{
  "nbformat": 4,
  "nbformat_minor": 0,
  "metadata": {
    "accelerator": "GPU",
    "colab": {
      "name": "CSC413_Project.ipynb",
      "provenance": [],
      "collapsed_sections": [],
      "toc_visible": true
    },
    "kernelspec": {
      "display_name": "Python 3",
      "name": "python3"
    },
    "language_info": {
      "name": "python"
    },
    "widgets": {
      "application/vnd.jupyter.widget-state+json": {
        "00b524570e0e4010b82d77b517e9b78e": {
          "model_module": "@jupyter-widgets/controls",
          "model_name": "HBoxModel",
          "state": {
            "_dom_classes": [],
            "_model_module": "@jupyter-widgets/controls",
            "_model_module_version": "1.5.0",
            "_model_name": "HBoxModel",
            "_view_count": null,
            "_view_module": "@jupyter-widgets/controls",
            "_view_module_version": "1.5.0",
            "_view_name": "HBoxView",
            "box_style": "",
            "children": [
              "IPY_MODEL_78aef4e83fd74025a9d56389b2613fd4",
              "IPY_MODEL_9e57aec5581a4f81b2bf6e5537a386c4"
            ],
            "layout": "IPY_MODEL_b0469d48d491449f85009c4881c8ee41"
          }
        },
        "78aef4e83fd74025a9d56389b2613fd4": {
          "model_module": "@jupyter-widgets/controls",
          "model_name": "FloatProgressModel",
          "state": {
            "_dom_classes": [],
            "_model_module": "@jupyter-widgets/controls",
            "_model_module_version": "1.5.0",
            "_model_name": "FloatProgressModel",
            "_view_count": null,
            "_view_module": "@jupyter-widgets/controls",
            "_view_module_version": "1.5.0",
            "_view_name": "ProgressView",
            "bar_style": "success",
            "description": "",
            "description_tooltip": null,
            "layout": "IPY_MODEL_799f52c19b9a49bdb18b83a59890d228",
            "max": 9912422,
            "min": 0,
            "orientation": "horizontal",
            "style": "IPY_MODEL_99dcc81021da4d2287bb7e151c8cb317",
            "value": 9912422
          }
        },
        "9e57aec5581a4f81b2bf6e5537a386c4": {
          "model_module": "@jupyter-widgets/controls",
          "model_name": "HTMLModel",
          "state": {
            "_dom_classes": [],
            "_model_module": "@jupyter-widgets/controls",
            "_model_module_version": "1.5.0",
            "_model_name": "HTMLModel",
            "_view_count": null,
            "_view_module": "@jupyter-widgets/controls",
            "_view_module_version": "1.5.0",
            "_view_name": "HTMLView",
            "description": "",
            "description_tooltip": null,
            "layout": "IPY_MODEL_5b2b1060a5314c6390aee34349c89829",
            "placeholder": "​",
            "style": "IPY_MODEL_4aafd40c6dd2434aa0664b14f2501d3e",
            "value": " 9913344/? [01:13&lt;00:00, 134347.54it/s]"
          }
        },
        "b0469d48d491449f85009c4881c8ee41": {
          "model_module": "@jupyter-widgets/base",
          "model_name": "LayoutModel",
          "state": {
            "_model_module": "@jupyter-widgets/base",
            "_model_module_version": "1.2.0",
            "_model_name": "LayoutModel",
            "_view_count": null,
            "_view_module": "@jupyter-widgets/base",
            "_view_module_version": "1.2.0",
            "_view_name": "LayoutView",
            "align_content": null,
            "align_items": null,
            "align_self": null,
            "border": null,
            "bottom": null,
            "display": null,
            "flex": null,
            "flex_flow": null,
            "grid_area": null,
            "grid_auto_columns": null,
            "grid_auto_flow": null,
            "grid_auto_rows": null,
            "grid_column": null,
            "grid_gap": null,
            "grid_row": null,
            "grid_template_areas": null,
            "grid_template_columns": null,
            "grid_template_rows": null,
            "height": null,
            "justify_content": null,
            "justify_items": null,
            "left": null,
            "margin": null,
            "max_height": null,
            "max_width": null,
            "min_height": null,
            "min_width": null,
            "object_fit": null,
            "object_position": null,
            "order": null,
            "overflow": null,
            "overflow_x": null,
            "overflow_y": null,
            "padding": null,
            "right": null,
            "top": null,
            "visibility": null,
            "width": null
          }
        },
        "799f52c19b9a49bdb18b83a59890d228": {
          "model_module": "@jupyter-widgets/base",
          "model_name": "LayoutModel",
          "state": {
            "_model_module": "@jupyter-widgets/base",
            "_model_module_version": "1.2.0",
            "_model_name": "LayoutModel",
            "_view_count": null,
            "_view_module": "@jupyter-widgets/base",
            "_view_module_version": "1.2.0",
            "_view_name": "LayoutView",
            "align_content": null,
            "align_items": null,
            "align_self": null,
            "border": null,
            "bottom": null,
            "display": null,
            "flex": null,
            "flex_flow": null,
            "grid_area": null,
            "grid_auto_columns": null,
            "grid_auto_flow": null,
            "grid_auto_rows": null,
            "grid_column": null,
            "grid_gap": null,
            "grid_row": null,
            "grid_template_areas": null,
            "grid_template_columns": null,
            "grid_template_rows": null,
            "height": null,
            "justify_content": null,
            "justify_items": null,
            "left": null,
            "margin": null,
            "max_height": null,
            "max_width": null,
            "min_height": null,
            "min_width": null,
            "object_fit": null,
            "object_position": null,
            "order": null,
            "overflow": null,
            "overflow_x": null,
            "overflow_y": null,
            "padding": null,
            "right": null,
            "top": null,
            "visibility": null,
            "width": null
          }
        },
        "99dcc81021da4d2287bb7e151c8cb317": {
          "model_module": "@jupyter-widgets/controls",
          "model_name": "ProgressStyleModel",
          "state": {
            "_model_module": "@jupyter-widgets/controls",
            "_model_module_version": "1.5.0",
            "_model_name": "ProgressStyleModel",
            "_view_count": null,
            "_view_module": "@jupyter-widgets/base",
            "_view_module_version": "1.2.0",
            "_view_name": "StyleView",
            "bar_color": null,
            "description_width": "initial"
          }
        },
        "5b2b1060a5314c6390aee34349c89829": {
          "model_module": "@jupyter-widgets/base",
          "model_name": "LayoutModel",
          "state": {
            "_model_module": "@jupyter-widgets/base",
            "_model_module_version": "1.2.0",
            "_model_name": "LayoutModel",
            "_view_count": null,
            "_view_module": "@jupyter-widgets/base",
            "_view_module_version": "1.2.0",
            "_view_name": "LayoutView",
            "align_content": null,
            "align_items": null,
            "align_self": null,
            "border": null,
            "bottom": null,
            "display": null,
            "flex": null,
            "flex_flow": null,
            "grid_area": null,
            "grid_auto_columns": null,
            "grid_auto_flow": null,
            "grid_auto_rows": null,
            "grid_column": null,
            "grid_gap": null,
            "grid_row": null,
            "grid_template_areas": null,
            "grid_template_columns": null,
            "grid_template_rows": null,
            "height": null,
            "justify_content": null,
            "justify_items": null,
            "left": null,
            "margin": null,
            "max_height": null,
            "max_width": null,
            "min_height": null,
            "min_width": null,
            "object_fit": null,
            "object_position": null,
            "order": null,
            "overflow": null,
            "overflow_x": null,
            "overflow_y": null,
            "padding": null,
            "right": null,
            "top": null,
            "visibility": null,
            "width": null
          }
        },
        "4aafd40c6dd2434aa0664b14f2501d3e": {
          "model_module": "@jupyter-widgets/controls",
          "model_name": "DescriptionStyleModel",
          "state": {
            "_model_module": "@jupyter-widgets/controls",
            "_model_module_version": "1.5.0",
            "_model_name": "DescriptionStyleModel",
            "_view_count": null,
            "_view_module": "@jupyter-widgets/base",
            "_view_module_version": "1.2.0",
            "_view_name": "StyleView",
            "description_width": ""
          }
        },
        "2978dc45196f4547908e311df1e6c5df": {
          "model_module": "@jupyter-widgets/controls",
          "model_name": "HBoxModel",
          "state": {
            "_dom_classes": [],
            "_model_module": "@jupyter-widgets/controls",
            "_model_module_version": "1.5.0",
            "_model_name": "HBoxModel",
            "_view_count": null,
            "_view_module": "@jupyter-widgets/controls",
            "_view_module_version": "1.5.0",
            "_view_name": "HBoxView",
            "box_style": "",
            "children": [
              "IPY_MODEL_0f358e018ccf47cc9d02f1dae554e7f1",
              "IPY_MODEL_9df53b0e2ce44265903806e8912fa63b"
            ],
            "layout": "IPY_MODEL_60aead14d7884f8ba585308d78ca0143"
          }
        },
        "0f358e018ccf47cc9d02f1dae554e7f1": {
          "model_module": "@jupyter-widgets/controls",
          "model_name": "FloatProgressModel",
          "state": {
            "_dom_classes": [],
            "_model_module": "@jupyter-widgets/controls",
            "_model_module_version": "1.5.0",
            "_model_name": "FloatProgressModel",
            "_view_count": null,
            "_view_module": "@jupyter-widgets/controls",
            "_view_module_version": "1.5.0",
            "_view_name": "ProgressView",
            "bar_style": "success",
            "description": "",
            "description_tooltip": null,
            "layout": "IPY_MODEL_623d299dcfa74fc6a7a112ab15d13647",
            "max": 28881,
            "min": 0,
            "orientation": "horizontal",
            "style": "IPY_MODEL_cf8b3a3f586146a9a3f0de6fa039035f",
            "value": 28881
          }
        },
        "9df53b0e2ce44265903806e8912fa63b": {
          "model_module": "@jupyter-widgets/controls",
          "model_name": "HTMLModel",
          "state": {
            "_dom_classes": [],
            "_model_module": "@jupyter-widgets/controls",
            "_model_module_version": "1.5.0",
            "_model_name": "HTMLModel",
            "_view_count": null,
            "_view_module": "@jupyter-widgets/controls",
            "_view_module_version": "1.5.0",
            "_view_name": "HTMLView",
            "description": "",
            "description_tooltip": null,
            "layout": "IPY_MODEL_e6cfd4bf35c94722bd8fe2f42a01fae6",
            "placeholder": "​",
            "style": "IPY_MODEL_909fb32323044bbea13b03df70390065",
            "value": " 29696/? [00:02&lt;00:00, 10913.74it/s]"
          }
        },
        "60aead14d7884f8ba585308d78ca0143": {
          "model_module": "@jupyter-widgets/base",
          "model_name": "LayoutModel",
          "state": {
            "_model_module": "@jupyter-widgets/base",
            "_model_module_version": "1.2.0",
            "_model_name": "LayoutModel",
            "_view_count": null,
            "_view_module": "@jupyter-widgets/base",
            "_view_module_version": "1.2.0",
            "_view_name": "LayoutView",
            "align_content": null,
            "align_items": null,
            "align_self": null,
            "border": null,
            "bottom": null,
            "display": null,
            "flex": null,
            "flex_flow": null,
            "grid_area": null,
            "grid_auto_columns": null,
            "grid_auto_flow": null,
            "grid_auto_rows": null,
            "grid_column": null,
            "grid_gap": null,
            "grid_row": null,
            "grid_template_areas": null,
            "grid_template_columns": null,
            "grid_template_rows": null,
            "height": null,
            "justify_content": null,
            "justify_items": null,
            "left": null,
            "margin": null,
            "max_height": null,
            "max_width": null,
            "min_height": null,
            "min_width": null,
            "object_fit": null,
            "object_position": null,
            "order": null,
            "overflow": null,
            "overflow_x": null,
            "overflow_y": null,
            "padding": null,
            "right": null,
            "top": null,
            "visibility": null,
            "width": null
          }
        },
        "623d299dcfa74fc6a7a112ab15d13647": {
          "model_module": "@jupyter-widgets/base",
          "model_name": "LayoutModel",
          "state": {
            "_model_module": "@jupyter-widgets/base",
            "_model_module_version": "1.2.0",
            "_model_name": "LayoutModel",
            "_view_count": null,
            "_view_module": "@jupyter-widgets/base",
            "_view_module_version": "1.2.0",
            "_view_name": "LayoutView",
            "align_content": null,
            "align_items": null,
            "align_self": null,
            "border": null,
            "bottom": null,
            "display": null,
            "flex": null,
            "flex_flow": null,
            "grid_area": null,
            "grid_auto_columns": null,
            "grid_auto_flow": null,
            "grid_auto_rows": null,
            "grid_column": null,
            "grid_gap": null,
            "grid_row": null,
            "grid_template_areas": null,
            "grid_template_columns": null,
            "grid_template_rows": null,
            "height": null,
            "justify_content": null,
            "justify_items": null,
            "left": null,
            "margin": null,
            "max_height": null,
            "max_width": null,
            "min_height": null,
            "min_width": null,
            "object_fit": null,
            "object_position": null,
            "order": null,
            "overflow": null,
            "overflow_x": null,
            "overflow_y": null,
            "padding": null,
            "right": null,
            "top": null,
            "visibility": null,
            "width": null
          }
        },
        "cf8b3a3f586146a9a3f0de6fa039035f": {
          "model_module": "@jupyter-widgets/controls",
          "model_name": "ProgressStyleModel",
          "state": {
            "_model_module": "@jupyter-widgets/controls",
            "_model_module_version": "1.5.0",
            "_model_name": "ProgressStyleModel",
            "_view_count": null,
            "_view_module": "@jupyter-widgets/base",
            "_view_module_version": "1.2.0",
            "_view_name": "StyleView",
            "bar_color": null,
            "description_width": "initial"
          }
        },
        "e6cfd4bf35c94722bd8fe2f42a01fae6": {
          "model_module": "@jupyter-widgets/base",
          "model_name": "LayoutModel",
          "state": {
            "_model_module": "@jupyter-widgets/base",
            "_model_module_version": "1.2.0",
            "_model_name": "LayoutModel",
            "_view_count": null,
            "_view_module": "@jupyter-widgets/base",
            "_view_module_version": "1.2.0",
            "_view_name": "LayoutView",
            "align_content": null,
            "align_items": null,
            "align_self": null,
            "border": null,
            "bottom": null,
            "display": null,
            "flex": null,
            "flex_flow": null,
            "grid_area": null,
            "grid_auto_columns": null,
            "grid_auto_flow": null,
            "grid_auto_rows": null,
            "grid_column": null,
            "grid_gap": null,
            "grid_row": null,
            "grid_template_areas": null,
            "grid_template_columns": null,
            "grid_template_rows": null,
            "height": null,
            "justify_content": null,
            "justify_items": null,
            "left": null,
            "margin": null,
            "max_height": null,
            "max_width": null,
            "min_height": null,
            "min_width": null,
            "object_fit": null,
            "object_position": null,
            "order": null,
            "overflow": null,
            "overflow_x": null,
            "overflow_y": null,
            "padding": null,
            "right": null,
            "top": null,
            "visibility": null,
            "width": null
          }
        },
        "909fb32323044bbea13b03df70390065": {
          "model_module": "@jupyter-widgets/controls",
          "model_name": "DescriptionStyleModel",
          "state": {
            "_model_module": "@jupyter-widgets/controls",
            "_model_module_version": "1.5.0",
            "_model_name": "DescriptionStyleModel",
            "_view_count": null,
            "_view_module": "@jupyter-widgets/base",
            "_view_module_version": "1.2.0",
            "_view_name": "StyleView",
            "description_width": ""
          }
        },
        "41dd59da37644d8e83ebe75cda09641d": {
          "model_module": "@jupyter-widgets/controls",
          "model_name": "HBoxModel",
          "state": {
            "_dom_classes": [],
            "_model_module": "@jupyter-widgets/controls",
            "_model_module_version": "1.5.0",
            "_model_name": "HBoxModel",
            "_view_count": null,
            "_view_module": "@jupyter-widgets/controls",
            "_view_module_version": "1.5.0",
            "_view_name": "HBoxView",
            "box_style": "",
            "children": [
              "IPY_MODEL_5e35ae38b410404ca4141a68abbd54ff",
              "IPY_MODEL_74b34dffeaf545df91c8b250e49eeaf2"
            ],
            "layout": "IPY_MODEL_1fc12dae24a8496a9cef0c1f4266bf85"
          }
        },
        "5e35ae38b410404ca4141a68abbd54ff": {
          "model_module": "@jupyter-widgets/controls",
          "model_name": "FloatProgressModel",
          "state": {
            "_dom_classes": [],
            "_model_module": "@jupyter-widgets/controls",
            "_model_module_version": "1.5.0",
            "_model_name": "FloatProgressModel",
            "_view_count": null,
            "_view_module": "@jupyter-widgets/controls",
            "_view_module_version": "1.5.0",
            "_view_name": "ProgressView",
            "bar_style": "success",
            "description": "",
            "description_tooltip": null,
            "layout": "IPY_MODEL_6f87767ef8fd44fe98baba151cea31c2",
            "max": 1648877,
            "min": 0,
            "orientation": "horizontal",
            "style": "IPY_MODEL_cb6cc2df116343c6a9288fb615d0e534",
            "value": 1648877
          }
        },
        "74b34dffeaf545df91c8b250e49eeaf2": {
          "model_module": "@jupyter-widgets/controls",
          "model_name": "HTMLModel",
          "state": {
            "_dom_classes": [],
            "_model_module": "@jupyter-widgets/controls",
            "_model_module_version": "1.5.0",
            "_model_name": "HTMLModel",
            "_view_count": null,
            "_view_module": "@jupyter-widgets/controls",
            "_view_module_version": "1.5.0",
            "_view_name": "HTMLView",
            "description": "",
            "description_tooltip": null,
            "layout": "IPY_MODEL_b856bfbceab240189ac7775bb6475024",
            "placeholder": "​",
            "style": "IPY_MODEL_6b7a65c5c0604802977e7cabfee0fc44",
            "value": " 1649664/? [00:01&lt;00:00, 1010638.55it/s]"
          }
        },
        "1fc12dae24a8496a9cef0c1f4266bf85": {
          "model_module": "@jupyter-widgets/base",
          "model_name": "LayoutModel",
          "state": {
            "_model_module": "@jupyter-widgets/base",
            "_model_module_version": "1.2.0",
            "_model_name": "LayoutModel",
            "_view_count": null,
            "_view_module": "@jupyter-widgets/base",
            "_view_module_version": "1.2.0",
            "_view_name": "LayoutView",
            "align_content": null,
            "align_items": null,
            "align_self": null,
            "border": null,
            "bottom": null,
            "display": null,
            "flex": null,
            "flex_flow": null,
            "grid_area": null,
            "grid_auto_columns": null,
            "grid_auto_flow": null,
            "grid_auto_rows": null,
            "grid_column": null,
            "grid_gap": null,
            "grid_row": null,
            "grid_template_areas": null,
            "grid_template_columns": null,
            "grid_template_rows": null,
            "height": null,
            "justify_content": null,
            "justify_items": null,
            "left": null,
            "margin": null,
            "max_height": null,
            "max_width": null,
            "min_height": null,
            "min_width": null,
            "object_fit": null,
            "object_position": null,
            "order": null,
            "overflow": null,
            "overflow_x": null,
            "overflow_y": null,
            "padding": null,
            "right": null,
            "top": null,
            "visibility": null,
            "width": null
          }
        },
        "6f87767ef8fd44fe98baba151cea31c2": {
          "model_module": "@jupyter-widgets/base",
          "model_name": "LayoutModel",
          "state": {
            "_model_module": "@jupyter-widgets/base",
            "_model_module_version": "1.2.0",
            "_model_name": "LayoutModel",
            "_view_count": null,
            "_view_module": "@jupyter-widgets/base",
            "_view_module_version": "1.2.0",
            "_view_name": "LayoutView",
            "align_content": null,
            "align_items": null,
            "align_self": null,
            "border": null,
            "bottom": null,
            "display": null,
            "flex": null,
            "flex_flow": null,
            "grid_area": null,
            "grid_auto_columns": null,
            "grid_auto_flow": null,
            "grid_auto_rows": null,
            "grid_column": null,
            "grid_gap": null,
            "grid_row": null,
            "grid_template_areas": null,
            "grid_template_columns": null,
            "grid_template_rows": null,
            "height": null,
            "justify_content": null,
            "justify_items": null,
            "left": null,
            "margin": null,
            "max_height": null,
            "max_width": null,
            "min_height": null,
            "min_width": null,
            "object_fit": null,
            "object_position": null,
            "order": null,
            "overflow": null,
            "overflow_x": null,
            "overflow_y": null,
            "padding": null,
            "right": null,
            "top": null,
            "visibility": null,
            "width": null
          }
        },
        "cb6cc2df116343c6a9288fb615d0e534": {
          "model_module": "@jupyter-widgets/controls",
          "model_name": "ProgressStyleModel",
          "state": {
            "_model_module": "@jupyter-widgets/controls",
            "_model_module_version": "1.5.0",
            "_model_name": "ProgressStyleModel",
            "_view_count": null,
            "_view_module": "@jupyter-widgets/base",
            "_view_module_version": "1.2.0",
            "_view_name": "StyleView",
            "bar_color": null,
            "description_width": "initial"
          }
        },
        "b856bfbceab240189ac7775bb6475024": {
          "model_module": "@jupyter-widgets/base",
          "model_name": "LayoutModel",
          "state": {
            "_model_module": "@jupyter-widgets/base",
            "_model_module_version": "1.2.0",
            "_model_name": "LayoutModel",
            "_view_count": null,
            "_view_module": "@jupyter-widgets/base",
            "_view_module_version": "1.2.0",
            "_view_name": "LayoutView",
            "align_content": null,
            "align_items": null,
            "align_self": null,
            "border": null,
            "bottom": null,
            "display": null,
            "flex": null,
            "flex_flow": null,
            "grid_area": null,
            "grid_auto_columns": null,
            "grid_auto_flow": null,
            "grid_auto_rows": null,
            "grid_column": null,
            "grid_gap": null,
            "grid_row": null,
            "grid_template_areas": null,
            "grid_template_columns": null,
            "grid_template_rows": null,
            "height": null,
            "justify_content": null,
            "justify_items": null,
            "left": null,
            "margin": null,
            "max_height": null,
            "max_width": null,
            "min_height": null,
            "min_width": null,
            "object_fit": null,
            "object_position": null,
            "order": null,
            "overflow": null,
            "overflow_x": null,
            "overflow_y": null,
            "padding": null,
            "right": null,
            "top": null,
            "visibility": null,
            "width": null
          }
        },
        "6b7a65c5c0604802977e7cabfee0fc44": {
          "model_module": "@jupyter-widgets/controls",
          "model_name": "DescriptionStyleModel",
          "state": {
            "_model_module": "@jupyter-widgets/controls",
            "_model_module_version": "1.5.0",
            "_model_name": "DescriptionStyleModel",
            "_view_count": null,
            "_view_module": "@jupyter-widgets/base",
            "_view_module_version": "1.2.0",
            "_view_name": "StyleView",
            "description_width": ""
          }
        },
        "3ee1d2c06dee48308d4ceb0079fed7c1": {
          "model_module": "@jupyter-widgets/controls",
          "model_name": "HBoxModel",
          "state": {
            "_dom_classes": [],
            "_model_module": "@jupyter-widgets/controls",
            "_model_module_version": "1.5.0",
            "_model_name": "HBoxModel",
            "_view_count": null,
            "_view_module": "@jupyter-widgets/controls",
            "_view_module_version": "1.5.0",
            "_view_name": "HBoxView",
            "box_style": "",
            "children": [
              "IPY_MODEL_c3b5d92531ae4aa98b0c2f4d40e5931c",
              "IPY_MODEL_8f0dd476f8dc4440a2c6e7b82d317465"
            ],
            "layout": "IPY_MODEL_f63d6b6ebaef4c8ab30f5ce697d9aca7"
          }
        },
        "c3b5d92531ae4aa98b0c2f4d40e5931c": {
          "model_module": "@jupyter-widgets/controls",
          "model_name": "FloatProgressModel",
          "state": {
            "_dom_classes": [],
            "_model_module": "@jupyter-widgets/controls",
            "_model_module_version": "1.5.0",
            "_model_name": "FloatProgressModel",
            "_view_count": null,
            "_view_module": "@jupyter-widgets/controls",
            "_view_module_version": "1.5.0",
            "_view_name": "ProgressView",
            "bar_style": "success",
            "description": "",
            "description_tooltip": null,
            "layout": "IPY_MODEL_fc5b5b9e9c7845899cc659b581dd6878",
            "max": 4542,
            "min": 0,
            "orientation": "horizontal",
            "style": "IPY_MODEL_5ed5eff84f96401d8866e10a3abbf408",
            "value": 4542
          }
        },
        "8f0dd476f8dc4440a2c6e7b82d317465": {
          "model_module": "@jupyter-widgets/controls",
          "model_name": "HTMLModel",
          "state": {
            "_dom_classes": [],
            "_model_module": "@jupyter-widgets/controls",
            "_model_module_version": "1.5.0",
            "_model_name": "HTMLModel",
            "_view_count": null,
            "_view_module": "@jupyter-widgets/controls",
            "_view_module_version": "1.5.0",
            "_view_name": "HTMLView",
            "description": "",
            "description_tooltip": null,
            "layout": "IPY_MODEL_42503ed1f57a439db57cd499881c38ae",
            "placeholder": "​",
            "style": "IPY_MODEL_1da9991716a240b487fd37bbd03bdf31",
            "value": " 5120/? [01:08&lt;00:00, 74.45it/s]"
          }
        },
        "f63d6b6ebaef4c8ab30f5ce697d9aca7": {
          "model_module": "@jupyter-widgets/base",
          "model_name": "LayoutModel",
          "state": {
            "_model_module": "@jupyter-widgets/base",
            "_model_module_version": "1.2.0",
            "_model_name": "LayoutModel",
            "_view_count": null,
            "_view_module": "@jupyter-widgets/base",
            "_view_module_version": "1.2.0",
            "_view_name": "LayoutView",
            "align_content": null,
            "align_items": null,
            "align_self": null,
            "border": null,
            "bottom": null,
            "display": null,
            "flex": null,
            "flex_flow": null,
            "grid_area": null,
            "grid_auto_columns": null,
            "grid_auto_flow": null,
            "grid_auto_rows": null,
            "grid_column": null,
            "grid_gap": null,
            "grid_row": null,
            "grid_template_areas": null,
            "grid_template_columns": null,
            "grid_template_rows": null,
            "height": null,
            "justify_content": null,
            "justify_items": null,
            "left": null,
            "margin": null,
            "max_height": null,
            "max_width": null,
            "min_height": null,
            "min_width": null,
            "object_fit": null,
            "object_position": null,
            "order": null,
            "overflow": null,
            "overflow_x": null,
            "overflow_y": null,
            "padding": null,
            "right": null,
            "top": null,
            "visibility": null,
            "width": null
          }
        },
        "fc5b5b9e9c7845899cc659b581dd6878": {
          "model_module": "@jupyter-widgets/base",
          "model_name": "LayoutModel",
          "state": {
            "_model_module": "@jupyter-widgets/base",
            "_model_module_version": "1.2.0",
            "_model_name": "LayoutModel",
            "_view_count": null,
            "_view_module": "@jupyter-widgets/base",
            "_view_module_version": "1.2.0",
            "_view_name": "LayoutView",
            "align_content": null,
            "align_items": null,
            "align_self": null,
            "border": null,
            "bottom": null,
            "display": null,
            "flex": null,
            "flex_flow": null,
            "grid_area": null,
            "grid_auto_columns": null,
            "grid_auto_flow": null,
            "grid_auto_rows": null,
            "grid_column": null,
            "grid_gap": null,
            "grid_row": null,
            "grid_template_areas": null,
            "grid_template_columns": null,
            "grid_template_rows": null,
            "height": null,
            "justify_content": null,
            "justify_items": null,
            "left": null,
            "margin": null,
            "max_height": null,
            "max_width": null,
            "min_height": null,
            "min_width": null,
            "object_fit": null,
            "object_position": null,
            "order": null,
            "overflow": null,
            "overflow_x": null,
            "overflow_y": null,
            "padding": null,
            "right": null,
            "top": null,
            "visibility": null,
            "width": null
          }
        },
        "5ed5eff84f96401d8866e10a3abbf408": {
          "model_module": "@jupyter-widgets/controls",
          "model_name": "ProgressStyleModel",
          "state": {
            "_model_module": "@jupyter-widgets/controls",
            "_model_module_version": "1.5.0",
            "_model_name": "ProgressStyleModel",
            "_view_count": null,
            "_view_module": "@jupyter-widgets/base",
            "_view_module_version": "1.2.0",
            "_view_name": "StyleView",
            "bar_color": null,
            "description_width": "initial"
          }
        },
        "42503ed1f57a439db57cd499881c38ae": {
          "model_module": "@jupyter-widgets/base",
          "model_name": "LayoutModel",
          "state": {
            "_model_module": "@jupyter-widgets/base",
            "_model_module_version": "1.2.0",
            "_model_name": "LayoutModel",
            "_view_count": null,
            "_view_module": "@jupyter-widgets/base",
            "_view_module_version": "1.2.0",
            "_view_name": "LayoutView",
            "align_content": null,
            "align_items": null,
            "align_self": null,
            "border": null,
            "bottom": null,
            "display": null,
            "flex": null,
            "flex_flow": null,
            "grid_area": null,
            "grid_auto_columns": null,
            "grid_auto_flow": null,
            "grid_auto_rows": null,
            "grid_column": null,
            "grid_gap": null,
            "grid_row": null,
            "grid_template_areas": null,
            "grid_template_columns": null,
            "grid_template_rows": null,
            "height": null,
            "justify_content": null,
            "justify_items": null,
            "left": null,
            "margin": null,
            "max_height": null,
            "max_width": null,
            "min_height": null,
            "min_width": null,
            "object_fit": null,
            "object_position": null,
            "order": null,
            "overflow": null,
            "overflow_x": null,
            "overflow_y": null,
            "padding": null,
            "right": null,
            "top": null,
            "visibility": null,
            "width": null
          }
        },
        "1da9991716a240b487fd37bbd03bdf31": {
          "model_module": "@jupyter-widgets/controls",
          "model_name": "DescriptionStyleModel",
          "state": {
            "_model_module": "@jupyter-widgets/controls",
            "_model_module_version": "1.5.0",
            "_model_name": "DescriptionStyleModel",
            "_view_count": null,
            "_view_module": "@jupyter-widgets/base",
            "_view_module_version": "1.2.0",
            "_view_name": "StyleView",
            "description_width": ""
          }
        }
      }
    }
  },
  "cells": [
    {
      "cell_type": "code",
      "metadata": {
        "id": "gqXEOHaPsP81"
      },
      "source": [
        "# fetch the chairs dataset\n",
        "%mkdir -p content/rendered_chairs\n",
        "!wget https://www.di.ens.fr/willow/research/seeing3Dchairs/data/rendered_chairs.tar\n",
        "!tar -xvf  'rendered_chairs.tar' -C 'content/rendered_chairs'"
      ],
      "execution_count": null,
      "outputs": []
    },
    {
      "cell_type": "code",
      "metadata": {
        "colab": {
          "base_uri": "https://localhost:8080/"
        },
        "id": "wzCzLTuW4W5G",
        "outputId": "8a1e8226-e68c-42d7-b95d-11ba952bcd40"
      },
      "source": [
        ""
      ],
      "execution_count": null,
      "outputs": [
        {
          "output_type": "stream",
          "text": [
            "sample_data\n"
          ],
          "name": "stdout"
        }
      ]
    },
    {
      "cell_type": "code",
      "metadata": {
        "colab": {
          "base_uri": "https://localhost:8080/"
        },
        "id": "hLQj1THQtBGR",
        "outputId": "b982a95d-8702-4299-c7ed-c8cfe20a5c28"
      },
      "source": [
        "# fetch the beta-vae synthetic dataset (from the deepmind repo)\n",
        "!git clone https://github.com/deepmind/dsprites-dataset\n",
        "!rm -rf .git* *.md LICENSE *.ipynb *.gif *.hdf5"
      ],
      "execution_count": 6,
      "outputs": [
        {
          "output_type": "stream",
          "text": [
            "Cloning into 'dsprites-dataset'...\n",
            "remote: Enumerating objects: 16, done.\u001b[K\n",
            "remote: Total 16 (delta 0), reused 0 (delta 0), pack-reused 16\u001b[K\n",
            "Unpacking objects: 100% (16/16), done.\n"
          ],
          "name": "stdout"
        }
      ]
    },
    {
      "cell_type": "code",
      "metadata": {
        "id": "mwBBbiCxW70c"
      },
      "source": [
        "import torch \n",
        "import torch.nn as nn\n",
        "from torchvision import datasets, transforms, utils\n",
        "from torch.nn import functional as F\n",
        "\n",
        "import numpy as np\n",
        "import matplotlib.pyplot as plt\n",
        "import random"
      ],
      "execution_count": 7,
      "outputs": []
    },
    {
      "cell_type": "code",
      "metadata": {
        "id": "0V2gkl9R3RuY"
      },
      "source": [
        "## GPU\n",
        "device = torch.device('cuda:' + str(0) if torch.cuda.is_available() else 'cpu')\n",
        "\n",
        "SEED = 1\n",
        "\n",
        "torch.manual_seed(SEED)\n",
        "torch.cuda.manual_seed(SEED)"
      ],
      "execution_count": 8,
      "outputs": []
    },
    {
      "cell_type": "markdown",
      "metadata": {
        "id": "8tURpThH1psd"
      },
      "source": [
        "## Simple MNIST For Testing"
      ]
    },
    {
      "cell_type": "code",
      "metadata": {
        "id": "taDDWOIx1kcH"
      },
      "source": [
        "BATCH_SIZE = 100"
      ],
      "execution_count": null,
      "outputs": []
    },
    {
      "cell_type": "code",
      "metadata": {
        "colab": {
          "base_uri": "https://localhost:8080/",
          "height": 845,
          "referenced_widgets": [
            "00b524570e0e4010b82d77b517e9b78e",
            "78aef4e83fd74025a9d56389b2613fd4",
            "9e57aec5581a4f81b2bf6e5537a386c4",
            "b0469d48d491449f85009c4881c8ee41",
            "799f52c19b9a49bdb18b83a59890d228",
            "99dcc81021da4d2287bb7e151c8cb317",
            "5b2b1060a5314c6390aee34349c89829",
            "4aafd40c6dd2434aa0664b14f2501d3e",
            "2978dc45196f4547908e311df1e6c5df",
            "0f358e018ccf47cc9d02f1dae554e7f1",
            "9df53b0e2ce44265903806e8912fa63b",
            "60aead14d7884f8ba585308d78ca0143",
            "623d299dcfa74fc6a7a112ab15d13647",
            "cf8b3a3f586146a9a3f0de6fa039035f",
            "e6cfd4bf35c94722bd8fe2f42a01fae6",
            "909fb32323044bbea13b03df70390065",
            "41dd59da37644d8e83ebe75cda09641d",
            "5e35ae38b410404ca4141a68abbd54ff",
            "74b34dffeaf545df91c8b250e49eeaf2",
            "1fc12dae24a8496a9cef0c1f4266bf85",
            "6f87767ef8fd44fe98baba151cea31c2",
            "cb6cc2df116343c6a9288fb615d0e534",
            "b856bfbceab240189ac7775bb6475024",
            "6b7a65c5c0604802977e7cabfee0fc44",
            "3ee1d2c06dee48308d4ceb0079fed7c1",
            "c3b5d92531ae4aa98b0c2f4d40e5931c",
            "8f0dd476f8dc4440a2c6e7b82d317465",
            "f63d6b6ebaef4c8ab30f5ce697d9aca7",
            "fc5b5b9e9c7845899cc659b581dd6878",
            "5ed5eff84f96401d8866e10a3abbf408",
            "42503ed1f57a439db57cd499881c38ae",
            "1da9991716a240b487fd37bbd03bdf31"
          ]
        },
        "id": "8Tog3LiXZQaE",
        "outputId": "5f16b054-8e73-4257-f795-58e8b8ee0683"
      },
      "source": [
        "train_dataset = datasets.MNIST(root='./mnist_data/', train=True, transform=transforms.ToTensor(), download=True)\n"
      ],
      "execution_count": null,
      "outputs": [
        {
          "output_type": "stream",
          "text": [
            "Downloading http://yann.lecun.com/exdb/mnist/train-images-idx3-ubyte.gz\n",
            "Failed to download (trying next):\n",
            "HTTP Error 503: Service Unavailable\n",
            "\n",
            "Downloading https://ossci-datasets.s3.amazonaws.com/mnist/train-images-idx3-ubyte.gz\n",
            "Downloading https://ossci-datasets.s3.amazonaws.com/mnist/train-images-idx3-ubyte.gz to ./mnist_data/MNIST/raw/train-images-idx3-ubyte.gz\n"
          ],
          "name": "stdout"
        },
        {
          "output_type": "display_data",
          "data": {
            "application/vnd.jupyter.widget-view+json": {
              "model_id": "00b524570e0e4010b82d77b517e9b78e",
              "version_major": 2,
              "version_minor": 0
            },
            "text/plain": [
              "HBox(children=(FloatProgress(value=0.0, max=9912422.0), HTML(value='')))"
            ]
          },
          "metadata": {
            "tags": []
          }
        },
        {
          "output_type": "stream",
          "text": [
            "\n",
            "Extracting ./mnist_data/MNIST/raw/train-images-idx3-ubyte.gz to ./mnist_data/MNIST/raw\n",
            "\n",
            "Downloading http://yann.lecun.com/exdb/mnist/train-labels-idx1-ubyte.gz\n",
            "Failed to download (trying next):\n",
            "HTTP Error 503: Service Unavailable\n",
            "\n",
            "Downloading https://ossci-datasets.s3.amazonaws.com/mnist/train-labels-idx1-ubyte.gz\n",
            "Downloading https://ossci-datasets.s3.amazonaws.com/mnist/train-labels-idx1-ubyte.gz to ./mnist_data/MNIST/raw/train-labels-idx1-ubyte.gz\n"
          ],
          "name": "stdout"
        },
        {
          "output_type": "display_data",
          "data": {
            "application/vnd.jupyter.widget-view+json": {
              "model_id": "2978dc45196f4547908e311df1e6c5df",
              "version_major": 2,
              "version_minor": 0
            },
            "text/plain": [
              "HBox(children=(FloatProgress(value=0.0, max=28881.0), HTML(value='')))"
            ]
          },
          "metadata": {
            "tags": []
          }
        },
        {
          "output_type": "stream",
          "text": [
            "\n",
            "Extracting ./mnist_data/MNIST/raw/train-labels-idx1-ubyte.gz to ./mnist_data/MNIST/raw\n",
            "\n",
            "Downloading http://yann.lecun.com/exdb/mnist/t10k-images-idx3-ubyte.gz\n",
            "Failed to download (trying next):\n",
            "HTTP Error 503: Service Unavailable\n",
            "\n",
            "Downloading https://ossci-datasets.s3.amazonaws.com/mnist/t10k-images-idx3-ubyte.gz\n",
            "Downloading https://ossci-datasets.s3.amazonaws.com/mnist/t10k-images-idx3-ubyte.gz to ./mnist_data/MNIST/raw/t10k-images-idx3-ubyte.gz\n"
          ],
          "name": "stdout"
        },
        {
          "output_type": "display_data",
          "data": {
            "application/vnd.jupyter.widget-view+json": {
              "model_id": "41dd59da37644d8e83ebe75cda09641d",
              "version_major": 2,
              "version_minor": 0
            },
            "text/plain": [
              "HBox(children=(FloatProgress(value=0.0, max=1648877.0), HTML(value='')))"
            ]
          },
          "metadata": {
            "tags": []
          }
        },
        {
          "output_type": "stream",
          "text": [
            "\n",
            "Extracting ./mnist_data/MNIST/raw/t10k-images-idx3-ubyte.gz to ./mnist_data/MNIST/raw\n",
            "\n",
            "Downloading http://yann.lecun.com/exdb/mnist/t10k-labels-idx1-ubyte.gz\n",
            "Failed to download (trying next):\n",
            "HTTP Error 503: Service Unavailable\n",
            "\n",
            "Downloading https://ossci-datasets.s3.amazonaws.com/mnist/t10k-labels-idx1-ubyte.gz\n",
            "Downloading https://ossci-datasets.s3.amazonaws.com/mnist/t10k-labels-idx1-ubyte.gz to ./mnist_data/MNIST/raw/t10k-labels-idx1-ubyte.gz\n"
          ],
          "name": "stdout"
        },
        {
          "output_type": "display_data",
          "data": {
            "application/vnd.jupyter.widget-view+json": {
              "model_id": "3ee1d2c06dee48308d4ceb0079fed7c1",
              "version_major": 2,
              "version_minor": 0
            },
            "text/plain": [
              "HBox(children=(FloatProgress(value=0.0, max=4542.0), HTML(value='')))"
            ]
          },
          "metadata": {
            "tags": []
          }
        },
        {
          "output_type": "stream",
          "text": [
            "\n",
            "Extracting ./mnist_data/MNIST/raw/t10k-labels-idx1-ubyte.gz to ./mnist_data/MNIST/raw\n",
            "\n",
            "Processing...\n",
            "Done!\n"
          ],
          "name": "stdout"
        },
        {
          "output_type": "stream",
          "text": [
            "/usr/local/lib/python3.7/dist-packages/torchvision/datasets/mnist.py:502: UserWarning: The given NumPy array is not writeable, and PyTorch does not support non-writeable tensors. This means you can write to the underlying (supposedly non-writeable) NumPy array using the tensor. You may want to copy the array to protect its data or make it writeable before converting it to a tensor. This type of warning will be suppressed for the rest of this program. (Triggered internally at  /pytorch/torch/csrc/utils/tensor_numpy.cpp:143.)\n",
            "  return torch.from_numpy(parsed.astype(m[2], copy=False)).view(*s)\n"
          ],
          "name": "stderr"
        }
      ]
    },
    {
      "cell_type": "code",
      "metadata": {
        "id": "nO91OACB1SZK"
      },
      "source": [
        "val_dataset = datasets.MNIST(root='./mnist_data/', train=False, transform=transforms.ToTensor(), download=True)"
      ],
      "execution_count": null,
      "outputs": []
    },
    {
      "cell_type": "markdown",
      "metadata": {
        "id": "vZYxiZE51tRI"
      },
      "source": [
        "## VAE Model"
      ]
    },
    {
      "cell_type": "code",
      "metadata": {
        "id": "FuiT_Nr41u7E"
      },
      "source": [
        "class VAE(nn.Module):\n",
        "    def __init__(self, inp_dim, latent_dim, h_dim):\n",
        "        super(VAE, self).__init__()\n",
        "\n",
        "        #inp_dim is flattened image size\n",
        "        self.inp_dim = inp_dim\n",
        "        self.latent_dim = latent_dim\n",
        "        self.h_dim = h_dim\n",
        "\n",
        "        #### ENCODER ##########\n",
        "        #3 hidden layer encoder\n",
        "        self.e_fc1 = nn.Linear(inp_dim, h_dim)\n",
        "        self.e_fc2 =  nn.Linear(h_dim, int(h_dim/2))\n",
        "        \n",
        "        self.e_fc_mean = nn.Linear(int(h_dim/2), latent_dim)\n",
        "        self.e_fc_log_std = nn.Linear(int(h_dim/2), latent_dim)\n",
        "\n",
        "        #### DECODER ##########\n",
        "        # 3 hidden layer decoder\n",
        "        self.d_fc1 = nn.Linear(latent_dim, int(h_dim/2))\n",
        "        self.d_fc2 = nn.Linear(int(h_dim/2), h_dim)\n",
        "        self.d_fc3 = nn.Linear(h_dim, inp_dim)\n",
        "        \n",
        "    \n",
        "    def forward(self, x):\n",
        "        mean, log_std = self.encode(x)\n",
        "        z = self.sample(mean, log_std)\n",
        "        x_hat = self.decode(z)\n",
        "\n",
        "        return x_hat, mean, log_std\n",
        "\n",
        "    #given an x from the dataset, finds mean and log_var\n",
        "    #for the variational distribution q(z)\n",
        "    def encode(self, x):\n",
        "        w = F.relu(self.e_fc1(x.view(-1, self.inp_dim)))\n",
        "        w = F.relu(self.e_fc2(w))\n",
        "        mean = self.e_fc_mean(w)\n",
        "        log_std = self.e_fc_log_std(w)\n",
        "\n",
        "        #batch of mean and log_var for q(z | x)\n",
        "        return mean, log_std\n",
        "\n",
        "    def decode(self, z):\n",
        "        w = F.relu(self.d_fc1(z))\n",
        "        w = F.relu(self.d_fc2(w))\n",
        "        \n",
        "        #image approximation, with pixel values in [0,1]\n",
        "        #assumed bernoulli distribution over each pixel, and the pixel value\n",
        "        # is prob(pixel is on)\n",
        "        x_hat = F.sigmoid(self.d_fc3(w)) \n",
        "\n",
        "        return x_hat\n",
        "    \n",
        "    #sample using reparameterization trick\n",
        "    def sample(self, mean, log_std):\n",
        "        #sample from N(0,I) and use \n",
        "        #reparameterization trick to transform\n",
        "        #to given mean and variance\n",
        "        std = torch.exp(log_std)\n",
        "\n",
        "        sample_z = mean + std*torch.randn_like(mean)\n",
        "\n",
        "        return sample_z\n",
        "\n",
        "    #if train, samples highest probability values\n",
        "    def sample_ims(self, num_ims, mean, log_std, train = True):\n",
        "        if train:\n",
        "            z = self.sample(mean, log_std)\n",
        "        else:\n",
        "            z = mean\n",
        "\n",
        "        ims = self.decode(z)\n",
        "        return ims\n",
        "\n",
        "        \n",
        "    #sample from the \n",
        "    def sample_ims_from_prior(self, num_ims, train=True, im_size = (28,28)):\n",
        "        #mean = 0, std = I\n",
        "        mean = torch.zeros((num_ims, self.latent_dim))\n",
        "        log_std = torch.zeros((num_ims, self.latent_dim))\n",
        "\n",
        "        ims_from_prior = self.sample_ims(num_ims, mean, log_std, train)\n",
        "        ims = ims_from_prior.view((-1,im_size[0],im_size[1]))\n",
        "\n",
        "        return ims\n",
        "\n",
        "    def sample_ims_like(self, x, num_ims, train=True, im_size = (28,28)):\n",
        "        #mean = 0, std = I\n",
        "        mean, log_std = self.encode(x)\n",
        "        ims_from_prior = self.sample_ims(num_ims, mean, log_std, train)\n",
        "        ims = ims_from_prior.view((-1,im_size[0],im_size[1]))\n",
        "\n",
        "        return ims\n",
        "\n",
        "def sample_ims_like(vae_model, x, num_ims, train=True, im_size = (28,28)):\n",
        "\n",
        "    mean, log_std = vae_model.encode(x)\n",
        "\n",
        "    mean = mean.repeat(num_ims,1)\n",
        "    log_std = log_std.repeat(num_ims, 1)\n",
        "\n",
        "    ims = vae_model.sample_ims(num_ims, mean, log_std, train)\n",
        "    ims = ims.view((-1,im_size[0], im_size[1]))\n",
        "\n",
        "    return ims"
      ],
      "execution_count": 21,
      "outputs": []
    },
    {
      "cell_type": "code",
      "metadata": {
        "id": "wZjDYjhh6p3Z"
      },
      "source": [
        ""
      ],
      "execution_count": 22,
      "outputs": []
    },
    {
      "cell_type": "markdown",
      "metadata": {
        "id": "9UiSefyT8bNA"
      },
      "source": [
        "## VAE Training"
      ]
    },
    {
      "cell_type": "code",
      "metadata": {
        "id": "3WQ12t1v8weJ"
      },
      "source": [
        "config = {\n",
        "    \"epoch\": 10,\n",
        "    \"lr\": 1e-3,\n",
        "    \"batch\": 100\n",
        "}"
      ],
      "execution_count": 16,
      "outputs": []
    },
    {
      "cell_type": "code",
      "metadata": {
        "id": "fW1M03j98cVx"
      },
      "source": [
        "# negative ELBO loss\n",
        "# = reconstruction_loss + KL(q || z_prior) \n",
        "def vae_loss_func(x_hat, x, mean, log_std, batch_size):\n",
        "    recon_loss = F.binary_cross_entropy(x_hat, x)\n",
        "\n",
        "    # - D_{KL} = 0.5 * sum(1 + log(sigma^2) - mu^2 - sigma^2)\n",
        "    # note the negative D_{KL} in appendix B of the paper\n",
        "    KLD = -0.5 * torch.sum(1 + 2*log_std - mean**2 - torch.exp(log_std)**2)\n",
        "    # Normalise by same number of elements as in reconstruction\n",
        "    KLD /= (batch_size * 784)\n",
        "\n",
        "    loss = recon_loss+ KLD\n",
        "\n",
        "    return loss\n",
        "\n",
        "def vae_val_loss(vae_model, val_loader, batch_size):\n",
        "    val_loss = 0.0\n",
        "    batch_size = 0\n",
        "\n",
        "    for x_batch, labels in val_loader:\n",
        "    \n",
        "        x_hat_batch, mean_batch, log_std_batch = vae_model(x_batch)\n",
        "\n",
        "        loss_value = vae_loss_func(x_hat_batch, x_batch.view(-1, vae_model.inp_dim), mean_batch, log_std_batch, batch_size)\n",
        "\n",
        "        batch_size += 1\n",
        "        val_loss += loss_value\n",
        "\n",
        "    val_loss = val_loss/batch_size\n",
        "\n",
        "    return val_loss\n",
        "\n",
        "#config = dict of 'epoch', 'lr', 'batch', ''\n",
        "def vae_train(vae_model, config, train_dataset, val_dataset):\n",
        "    vae_model = vae_model.to(device)\n",
        "\n",
        "    train_loader = torch.utils.data.DataLoader(dataset=train_dataset, batch_size=config[\"batch\"], shuffle=True)\n",
        "    val_loader = torch.utils.data.DataLoader(dataset = val_dataset, batch_size = config[\"batch\"], shuffle =False)\n",
        "\n",
        "    optimizer = torch.optim.Adam(vae_model.parameters(), lr = config[\"lr\"])\n",
        "\n",
        "    num_epochs = config[\"epoch\"]\n",
        "\n",
        "    epoch_loss = torch.zeros(num_epochs)\n",
        "    val_epoch_loss = torch.zeros(num_epochs)\n",
        "\n",
        "    for epoch in range(num_epochs):\n",
        "\n",
        "        epoch_loss[epoch] = 0.0\n",
        "        batch_size = 0\n",
        "\n",
        "        for x_batch, labels in train_loader:\n",
        "            \n",
        "            x_hat_batch, mean_batch, log_std_batch = vae_model(x_batch)\n",
        "\n",
        "            loss_val = vae_loss_func(x_hat_batch, x_batch.view(-1, vae_model.inp_dim), mean_batch, log_std_batch, config[\"batch\"])\n",
        "\n",
        "            optimizer.zero_grad()\n",
        "            loss_val.backward()\n",
        "            optimizer.step()\n",
        "\n",
        "            batch_size += 1\n",
        "            epoch_loss[epoch] += loss_val\n",
        "\n",
        "        epoch_loss[epoch] = epoch_loss[epoch]/batch_size\n",
        "\n",
        "        #compute val_loss\n",
        "        val_epoch_loss[epoch] = vae_val_loss(vae_model, val_loader, config[\"batch\"])\n",
        "        \n",
        "        print(\"Epoch {}/{} -- Train loss: {}, Val loss: {}\".format(epoch+1, num_epochs, epoch_loss[epoch], val_epoch_loss[epoch]))\n",
        "    \n",
        "    plt.plot(epoch_loss.to('cpu').detach().numpy(), label = \"Train Loss (-ELBO)\")\n",
        "    plt.plot(val_epoch_loss.to('cpu').detach().numpy(), label=\"Validation Loss (-ELBO)\")\n",
        "    plt.title(\"VAE Loss over Epochs\") \n",
        "    plt.xlabel(\"Epoch\")\n",
        "    plt.ylabel(\"Negative ELBO Loss\")"
      ],
      "execution_count": 17,
      "outputs": []
    },
    {
      "cell_type": "code",
      "metadata": {
        "id": "BQJyVHTkCSH0"
      },
      "source": [
        "vae_m = VAE(inp_dim = 784, latent_dim =20, h_dim=300)\n"
      ],
      "execution_count": null,
      "outputs": []
    },
    {
      "cell_type": "code",
      "metadata": {
        "colab": {
          "base_uri": "https://localhost:8080/"
        },
        "id": "Zp5MPJlifcqx",
        "outputId": "45ff99d6-4cb0-4807-cc0f-852b1ef0ad3c"
      },
      "source": [
        "sampled_ims_pre = vae_m.sample_ims_from_prior(num_ims=5)"
      ],
      "execution_count": null,
      "outputs": [
        {
          "output_type": "stream",
          "text": [
            "/usr/local/lib/python3.7/dist-packages/torch/nn/functional.py:1709: UserWarning: nn.functional.sigmoid is deprecated. Use torch.sigmoid instead.\n",
            "  warnings.warn(\"nn.functional.sigmoid is deprecated. Use torch.sigmoid instead.\")\n"
          ],
          "name": "stderr"
        }
      ]
    },
    {
      "cell_type": "code",
      "metadata": {
        "id": "HJu7qyJxfs9J"
      },
      "source": [
        "sampled_ims_pre = sampled_ims_pre.to('cpu').detach().numpy()"
      ],
      "execution_count": null,
      "outputs": []
    },
    {
      "cell_type": "code",
      "metadata": {
        "colab": {
          "base_uri": "https://localhost:8080/",
          "height": 282
        },
        "id": "sw15_7MyfkiD",
        "outputId": "a6205fc3-33ec-4d31-b47d-797d753f9e24"
      },
      "source": [
        "plt.imshow(sampled_ims_pre[0,:])"
      ],
      "execution_count": null,
      "outputs": [
        {
          "output_type": "execute_result",
          "data": {
            "text/plain": [
              "<matplotlib.image.AxesImage at 0x7fda945a1450>"
            ]
          },
          "metadata": {
            "tags": []
          },
          "execution_count": 72
        },
        {
          "output_type": "display_data",
          "data": {
            "image/png": "[encoded data removed]",
            "text/plain": [
              "<Figure size 432x288 with 1 Axes>"
            ]
          },
          "metadata": {
            "tags": []
          }
        }
      ]
    },
    {
      "cell_type": "code",
      "metadata": {
        "colab": {
          "base_uri": "https://localhost:8080/",
          "height": 499
        },
        "id": "a9EMIKqBaqnT",
        "outputId": "d7089ddf-deb8-4d4e-88ea-4624c39667a9"
      },
      "source": [
        "vae_train(vae_m, config, train_dataset, val_dataset)\n"
      ],
      "execution_count": null,
      "outputs": [
        {
          "output_type": "stream",
          "text": [
            "/usr/local/lib/python3.7/dist-packages/torch/nn/functional.py:1709: UserWarning: nn.functional.sigmoid is deprecated. Use torch.sigmoid instead.\n",
            "  warnings.warn(\"nn.functional.sigmoid is deprecated. Use torch.sigmoid instead.\")\n"
          ],
          "name": "stderr"
        },
        {
          "output_type": "stream",
          "text": [
            "Epoch 1/10 -- Train loss: 0.23286844789981842, Val loss: inf\n",
            "Epoch 2/10 -- Train loss: 0.16982825100421906, Val loss: inf\n",
            "Epoch 3/10 -- Train loss: 0.15508078038692474, Val loss: inf\n",
            "Epoch 4/10 -- Train loss: 0.1491347849369049, Val loss: inf\n",
            "Epoch 5/10 -- Train loss: 0.1456436961889267, Val loss: inf\n",
            "Epoch 6/10 -- Train loss: 0.14330805838108063, Val loss: inf\n",
            "Epoch 7/10 -- Train loss: 0.14175096154212952, Val loss: inf\n",
            "Epoch 8/10 -- Train loss: 0.14036870002746582, Val loss: inf\n",
            "Epoch 9/10 -- Train loss: 0.13929389417171478, Val loss: inf\n",
            "Epoch 10/10 -- Train loss: 0.13842403888702393, Val loss: inf\n"
          ],
          "name": "stdout"
        },
        {
          "output_type": "display_data",
          "data": {
            "image/png": "[encoded data removed]",
            "text/plain": [
              "<Figure size 432x288 with 1 Axes>"
            ]
          },
          "metadata": {
            "tags": []
          }
        }
      ]
    },
    {
      "cell_type": "code",
      "metadata": {
        "colab": {
          "base_uri": "https://localhost:8080/"
        },
        "id": "40Uod5KfbL_3",
        "outputId": "e897d0d6-813f-40b5-cea6-67d6a4200d13"
      },
      "source": [
        "sampled_ims_post = vae_m.sample_ims_from_prior(num_ims=5, train=True)"
      ],
      "execution_count": null,
      "outputs": [
        {
          "output_type": "stream",
          "text": [
            "/usr/local/lib/python3.7/dist-packages/torch/nn/functional.py:1709: UserWarning: nn.functional.sigmoid is deprecated. Use torch.sigmoid instead.\n",
            "  warnings.warn(\"nn.functional.sigmoid is deprecated. Use torch.sigmoid instead.\")\n"
          ],
          "name": "stderr"
        }
      ]
    },
    {
      "cell_type": "code",
      "metadata": {
        "id": "56ZtB2lKf7JJ"
      },
      "source": [
        "sampled_ims_post = sampled_ims_post.to('cpu').detach().numpy()"
      ],
      "execution_count": null,
      "outputs": []
    },
    {
      "cell_type": "code",
      "metadata": {
        "colab": {
          "base_uri": "https://localhost:8080/",
          "height": 282
        },
        "id": "9JPorMMLgA_s",
        "outputId": "8a500480-ffde-48a7-b629-9aa5110d33c2"
      },
      "source": [
        "plt.imshow(sampled_ims_post[1,:])"
      ],
      "execution_count": null,
      "outputs": [
        {
          "output_type": "execute_result",
          "data": {
            "text/plain": [
              "<matplotlib.image.AxesImage at 0x7fda942bbe90>"
            ]
          },
          "metadata": {
            "tags": []
          },
          "execution_count": 84
        },
        {
          "output_type": "display_data",
          "data": {
            "image/png": "[encoded data removed]",
            "text/plain": [
              "<Figure size 432x288 with 1 Axes>"
            ]
          },
          "metadata": {
            "tags": []
          }
        }
      ]
    },
    {
      "cell_type": "code",
      "metadata": {
        "id": "snFMQMGXgFvR"
      },
      "source": [
        ""
      ],
      "execution_count": null,
      "outputs": []
    },
    {
      "cell_type": "code",
      "metadata": {
        "id": "lliBYHJDbXaU"
      },
      "source": [
        "for i in train_loader:\n",
        "    x_batch = i\n",
        "    break"
      ],
      "execution_count": null,
      "outputs": []
    },
    {
      "cell_type": "code",
      "metadata": {
        "id": "PSE0iM-7bZ4u"
      },
      "source": [
        "x_data, labels=  x_batch"
      ],
      "execution_count": null,
      "outputs": []
    },
    {
      "cell_type": "code",
      "metadata": {
        "colab": {
          "base_uri": "https://localhost:8080/",
          "height": 282
        },
        "id": "uzZIL8EQh0PS",
        "outputId": "4ffc0bb5-c2ed-4e1c-d5aa-519d7dd229dd"
      },
      "source": [
        "data_im = x_data[3,0]\n",
        "plt.imshow(data_im)"
      ],
      "execution_count": null,
      "outputs": [
        {
          "output_type": "execute_result",
          "data": {
            "text/plain": [
              "<matplotlib.image.AxesImage at 0x7fda9417a810>"
            ]
          },
          "metadata": {
            "tags": []
          },
          "execution_count": 91
        },
        {
          "output_type": "display_data",
          "data": {
            "image/png": "[encoded data removed]",
            "text/plain": [
              "<Figure size 432x288 with 1 Axes>"
            ]
          },
          "metadata": {
            "tags": []
          }
        }
      ]
    },
    {
      "cell_type": "code",
      "metadata": {
        "colab": {
          "base_uri": "https://localhost:8080/"
        },
        "id": "kg-Qso_ah64x",
        "outputId": "6f7b281a-c468-4a96-e6a7-be315790f8b0"
      },
      "source": [
        ""
      ],
      "execution_count": null,
      "outputs": [
        {
          "output_type": "execute_result",
          "data": {
            "text/plain": [
              "torch.Size([1, 28, 28])"
            ]
          },
          "metadata": {
            "tags": []
          },
          "execution_count": 88
        }
      ]
    },
    {
      "cell_type": "code",
      "metadata": {
        "colab": {
          "base_uri": "https://localhost:8080/"
        },
        "id": "EnJjJ1T9bgY7",
        "outputId": "f3ad7ab2-b92a-451d-d884-4a29cddfa67f"
      },
      "source": [
        "samples_like = sample_ims_like(vae_m, torch.tensor(data_im).view(-1, 784), num_ims=5, train=True, im_size = (28,28))"
      ],
      "execution_count": null,
      "outputs": [
        {
          "output_type": "stream",
          "text": [
            "/usr/local/lib/python3.7/dist-packages/ipykernel_launcher.py:1: UserWarning: To copy construct from a tensor, it is recommended to use sourceTensor.clone().detach() or sourceTensor.clone().detach().requires_grad_(True), rather than torch.tensor(sourceTensor).\n",
            "  \"\"\"Entry point for launching an IPython kernel.\n",
            "/usr/local/lib/python3.7/dist-packages/torch/nn/functional.py:1709: UserWarning: nn.functional.sigmoid is deprecated. Use torch.sigmoid instead.\n",
            "  warnings.warn(\"nn.functional.sigmoid is deprecated. Use torch.sigmoid instead.\")\n"
          ],
          "name": "stderr"
        }
      ]
    },
    {
      "cell_type": "code",
      "metadata": {
        "id": "GqCewZxEiOCr"
      },
      "source": [
        "samples_like = samples_like.to('cpu').detach().numpy()"
      ],
      "execution_count": null,
      "outputs": []
    },
    {
      "cell_type": "code",
      "metadata": {
        "colab": {
          "base_uri": "https://localhost:8080/"
        },
        "id": "VxMhJyliia9E",
        "outputId": "446ca743-2d51-491e-8c2e-ac8e5e4ed749"
      },
      "source": [
        "samples_like.shape"
      ],
      "execution_count": null,
      "outputs": [
        {
          "output_type": "execute_result",
          "data": {
            "text/plain": [
              "(5, 28, 28)"
            ]
          },
          "metadata": {
            "tags": []
          },
          "execution_count": 100
        }
      ]
    },
    {
      "cell_type": "code",
      "metadata": {
        "colab": {
          "base_uri": "https://localhost:8080/",
          "height": 282
        },
        "id": "uqrKnMOwiU8Y",
        "outputId": "2b2e38c4-e967-4f1e-e742-e5e6dd4da106"
      },
      "source": [
        "plt.imshow(samples_like[3,:])"
      ],
      "execution_count": null,
      "outputs": [
        {
          "output_type": "execute_result",
          "data": {
            "text/plain": [
              "<matplotlib.image.AxesImage at 0x7fda94056610>"
            ]
          },
          "metadata": {
            "tags": []
          },
          "execution_count": 102
        },
        {
          "output_type": "display_data",
          "data": {
            "image/png": "[encoded data removed]",
            "text/plain": [
              "<Figure size 432x288 with 1 Axes>"
            ]
          },
          "metadata": {
            "tags": []
          }
        }
      ]
    },
    {
      "cell_type": "code",
      "metadata": {
        "id": "ZssgajOJiWh_"
      },
      "source": [
        ""
      ],
      "execution_count": null,
      "outputs": []
    },
    {
      "cell_type": "code",
      "metadata": {
        "id": "niSUJu8hA-Gn"
      },
      "source": [
        ""
      ],
      "execution_count": null,
      "outputs": []
    },
    {
      "cell_type": "markdown",
      "metadata": {
        "id": "bMgo8fsRyJAH"
      },
      "source": [
        "## Disentanglement Metric (from B-VAE)"
      ]
    },
    {
      "cell_type": "code",
      "metadata": {
        "colab": {
          "base_uri": "https://localhost:8080/"
        },
        "id": "ttPgPVqDGIWt",
        "outputId": "d43a929d-1ded-4494-fb50-9d042139a9b1"
      },
      "source": [
        "# citation: the below code for visualizing dsprites dataset is from : \n",
        "# https://github.com/deepmind/dsprites-dataset/blob/master/dsprites_reloading_example.ipynb\n",
        "%cd dsprites-dataset\n",
        "dataset_zip = np.load('dsprites_ndarray_co1sh3sc6or40x32y32_64x64.npz', allow_pickle=True, encoding='bytes')\n",
        "imgs = dataset_zip['imgs']\n",
        "latents_values = dataset_zip['latents_values']\n",
        "latents_classes = dataset_zip['latents_classes']\n",
        "metadata = dataset_zip['metadata'][()]\n",
        "position_labels = latents_values[0:32, -1]\n",
        "orientation_labels = list(set(latents_values[:, -3]))"
      ],
      "execution_count": 9,
      "outputs": [
        {
          "output_type": "stream",
          "text": [
            "/content/dsprites-dataset\n"
          ],
          "name": "stdout"
        }
      ]
    },
    {
      "cell_type": "code",
      "metadata": {
        "colab": {
          "base_uri": "https://localhost:8080/"
        },
        "id": "DWx7WWced2q7",
        "outputId": "217b3c9c-7aaf-4b6c-ab5d-1a30bc8b9374"
      },
      "source": [
        "# x = np.where(latents_classes[:, -1] == 1)\n",
        "# print(f\"latent values: {x[0]}\")\n",
        "# print(f\"latent classes: {np.take(latents_values, x[0], axis=0)}\")\n",
        "# print(list(set(latents_values[:, -4])))\n",
        "print(position_labels)"
      ],
      "execution_count": 10,
      "outputs": [
        {
          "output_type": "stream",
          "text": [
            "[0.         0.03225806 0.06451613 0.09677419 0.12903226 0.16129032\n",
            " 0.19354839 0.22580645 0.25806452 0.29032258 0.32258065 0.35483871\n",
            " 0.38709677 0.41935484 0.4516129  0.48387097 0.51612903 0.5483871\n",
            " 0.58064516 0.61290323 0.64516129 0.67741935 0.70967742 0.74193548\n",
            " 0.77419355 0.80645161 0.83870968 0.87096774 0.90322581 0.93548387\n",
            " 0.96774194 1.        ]\n"
          ],
          "name": "stdout"
        }
      ]
    },
    {
      "cell_type": "code",
      "metadata": {
        "id": "PptOg7K0GJNB"
      },
      "source": [
        "# citation: the below code for visualizing dsprites dataset is from : \n",
        "# https://github.com/deepmind/dsprites-dataset/blob/master/dsprites_reloading_example.ipynb\n",
        "\n",
        "latents_sizes = metadata[b'latents_sizes']\n",
        "latents_bases = np.concatenate((latents_sizes[::-1].cumprod()[::-1][1:],\n",
        "                                np.array([1,])))\n",
        "\n",
        "def latent_to_index(latents):\n",
        "  return np.dot(latents, latents_bases).astype(int)\n",
        "\n",
        "\n",
        "def sample_latent(size=1):\n",
        "  samples = np.zeros((size, latents_sizes.size))\n",
        "  for lat_i, lat_size in enumerate(latents_sizes):\n",
        "    samples[:, lat_i] = np.random.randint(lat_size, size=size)\n",
        "\n",
        "  return samples\n",
        "\n",
        "def show_images_grid(imgs_, num_images=25):\n",
        "  ncols = int(np.ceil(num_images**0.5))\n",
        "  nrows = int(np.ceil(num_images / ncols))\n",
        "  _, axes = plt.subplots(ncols, nrows, figsize=(nrows * 3, ncols * 3))\n",
        "  axes = axes.flatten()\n",
        "\n",
        "  for ax_i, ax in enumerate(axes):\n",
        "    if ax_i < num_images:\n",
        "      ax.imshow(imgs_[ax_i], cmap='Greys_r',  interpolation='nearest')\n",
        "      ax.set_xticks([])\n",
        "      ax.set_yticks([])\n",
        "    else:\n",
        "      ax.axis('off')"
      ],
      "execution_count": 11,
      "outputs": []
    },
    {
      "cell_type": "code",
      "metadata": {
        "colab": {
          "base_uri": "https://localhost:8080/",
          "height": 687
        },
        "id": "mZwxmoeKGYNi",
        "outputId": "2a73ea05-a224-4daa-9278-d62f31e936bc"
      },
      "source": [
        "# fixed_factor is the index of the factor we want to keep fixed \n",
        "# (i.e. if we want the POS Y fixed we pass in 1)\n",
        "def sample_dsprites(fixed_factor, batch_size):\n",
        "    length = 0\n",
        "    while (length < batch_size):\n",
        "        fixed_factor = -1 * fixed_factor\n",
        "        fixed_value = 0\n",
        "        if (fixed_factor == -1 or fixed_factor == -2):\n",
        "            fixed_value = random.choice(position_labels)\n",
        "        elif (fixed_factor == -3):\n",
        "            fixed_value = random.choice(orientation_labels)\n",
        "        elif (fixed_factor == -4):\n",
        "            fixed_value = round(random.uniform(0.5,1), 1)\n",
        "\n",
        "        # fixed_indices = latents_values[:, fixed_factor] == fixed_value\n",
        "        # return latents_values[fixed_indices]\n",
        "        fixed_indices = np.where(latents_values[:, fixed_factor] == fixed_value)\n",
        "        fixed_imgs = list(imgs[fixed_indices])\n",
        "        length = np.shape(fixed_imgs)[0]\n",
        "\n",
        "    return random.sample(fixed_imgs, batch_size)\n",
        "\n",
        "# Samples where the scale is the same\n",
        "x = sample_dsprites(1, 5000)\n",
        "show_images_grid(x, 12)"
      ],
      "execution_count": 43,
      "outputs": [
        {
          "output_type": "display_data",
          "data": {
            "image/png": "[encoded data removed]",
            "text/plain": [
              "<Figure size 648x864 with 12 Axes>"
            ]
          },
          "metadata": {
            "tags": []
          }
        }
      ]
    },
    {
      "cell_type": "code",
      "metadata": {
        "colab": {
          "base_uri": "https://localhost:8080/",
          "height": 285
        },
        "id": "CcYAGkG9T0Gh",
        "outputId": "02e7780a-2f12-47bb-9797-363ab2cd558b"
      },
      "source": [
        "plt.imshow(x[4])"
      ],
      "execution_count": 183,
      "outputs": [
        {
          "output_type": "execute_result",
          "data": {
            "text/plain": [
              "<matplotlib.image.AxesImage at 0x7f9591133a90>"
            ]
          },
          "metadata": {
            "tags": []
          },
          "execution_count": 183
        },
        {
          "output_type": "display_data",
          "data": {
            "image/png": "[encoded data removed]",
            "text/plain": [
              "<Figure size 432x288 with 1 Axes>"
            ]
          },
          "metadata": {
            "tags": [],
            "needs_background": "light"
          }
        }
      ]
    },
    {
      "cell_type": "code",
      "metadata": {
        "id": "_aazc8XqyIKy"
      },
      "source": [
        "class LinClassifier(nn.Module):\n",
        "    def __init__(self, in_dims, out_dims, layer=nn.Linear):\n",
        "        super(LinClassifier, self).__init__()\n",
        "        \n",
        "        self.net = nn.Sequential(\n",
        "                layer(in_dims, out_dims)\n",
        "            )\n",
        "\n",
        "    #outputs probability logits\n",
        "    def forward(self, x):\n",
        "        x = x.view(x.size(0), -1)\n",
        "        out = self.net(x)\n",
        "        out = out.squeeze()\n",
        "    \n",
        "        return out"
      ],
      "execution_count": 13,
      "outputs": []
    },
    {
      "cell_type": "code",
      "metadata": {
        "id": "0M_e28V82UKQ"
      },
      "source": [
        "#different method for getting latent z from image x for diff models\n",
        "#model type = \"VAE\" or \"GAN\"\n",
        "def get_z_from_x(x, model, model_type=\"VAE\"):\n",
        "    if model_type == \"VAE\":\n",
        "        m, log_std= model.encode(x)\n",
        "        z = model.sample(m, log_std)\n",
        "        return z\n",
        "\n",
        "    elif model_type == \"GAN\":\n",
        "        return invert_gan_sample(x, model)\n",
        "    else:\n",
        "        print(\"Incorrectly specified model_type, must be 'VAE' or 'GAN'.\")\n",
        "        return None\n",
        "\n",
        "#for a gan model, find a latent z producing an x similar to one\n",
        "#provided\n",
        "#x is a batch of images\n",
        "def invert_gan_sample(x, generator, num_iter = 100, lr = 1e-3):\n",
        "    #initialize z from prior p(z) = N(0, I)\n",
        "    z = torch.randn((x.size(0), generator.latent_dim), requires_grad=True)\n",
        "\n",
        "    optimizer = torch.optim.Adam([z], lr)\n",
        "\n",
        "    for iter in range(num_iter):\n",
        "        optimizer.zero_grad()\n",
        "\n",
        "        #MSE loss for reconstruction\n",
        "        recon_loss = ((x - generator(z))**2).sum()\n",
        "\n",
        "        recon_loss.backward()\n",
        "        optimizer.step()\n",
        "\n",
        "        print(\"GAN inversion loss: {}, iteration : {}/{}\".format(recon_loss, iter, num_iter))\n",
        "\n",
        "    return z\n"
      ],
      "execution_count": 36,
      "outputs": []
    },
    {
      "cell_type": "code",
      "metadata": {
        "id": "UqqcXV8i51Y_"
      },
      "source": [
        "classifier_config = {\n",
        "    \"epoch\": 10,\n",
        "    \"lr\": 1e-3,\n",
        "    \"batch\": 100\n",
        "}"
      ],
      "execution_count": 15,
      "outputs": []
    },
    {
      "cell_type": "code",
      "metadata": {
        "id": "LtZbd5PjTmuw"
      },
      "source": [
        "def get_classifier_batch(batch_size, sub_batch_size, model, model_type):\n",
        "    #batch size is the \"upper\" batch size \n",
        "    #we have batch_size number of unique labels\n",
        "    #each has a \"sub_batch_size\" number of images\n",
        "    labels = np.random.randint(0,4, size=batch_size)\n",
        "    classifier_inp_batch = torch.zeros((batch_size, model.latent_dim))\n",
        "    for i in range(batch_size):\n",
        "        sub_batch_x = sample_dsprites(labels[i], 2*sub_batch_size)\n",
        "\n",
        "        sub_batch_x = torch.Tensor(sub_batch_x).to(device).float().view((-1, 1, 64, 64))\n",
        "        \n",
        "        #get z for subbatch\n",
        "        sub_batch_z = get_z_from_x(sub_batch_x, model.to(device), model_type)\n",
        "        \n",
        "        #we use z_avg as the input to classifier\n",
        "        z_avg = (sub_batch_z[:sub_batch_size] - sub_batch_z[sub_batch_size:]).mean(dim=0)\n",
        "\n",
        "        classifier_inp_batch[i,:] = z_avg\n",
        "\n",
        "    return classifier_inp_batch, torch.Tensor(labels)"
      ],
      "execution_count": 45,
      "outputs": []
    },
    {
      "cell_type": "code",
      "metadata": {
        "id": "ilHj6pQu4sDS"
      },
      "source": [
        "def classifier_val_acc(num_val_epochs, num_batches_per_val_epoch, model,model_type):\n",
        "    for epoch in range(num_val_epochs):\n",
        "        val_acc = 0.0\n",
        "        batch_size = 0\n",
        "\n",
        "        for i in range(num_batches_per_val_epoch):\n",
        "            classifier_inp_batch, labels = get_classifier_batch(32, \n",
        "                                                        sub_batch_size=16, \n",
        "                                                        model=model,\n",
        "                                                        model_type =model_type)\n",
        "            pred_logits = lin_classifier(classifier_inp_batch)\n",
        "            pred_labels = torch.argmax(pred_logits, dim=1)\n",
        "\n",
        "            num_correct = (pred_labels == labels).sum()\n",
        "            acc = num_correct/32\n",
        "\n",
        "            val_acc += acc.item()\n",
        "            batch_size += 1\n",
        "\n",
        "        return val_acc/batch_size\n",
        "\n",
        "def train_lin_classifier(config, lin_classifier, model, model_type):\n",
        "    c_optimizer = torch.optim.Adam(lin_classifier.parameters(), config[\"lr\"])\n",
        "\n",
        "    lin_classifier = lin_classifier.to(device)\n",
        "    model = model.to(device)\n",
        "\n",
        "    num_epochs = config[\"epoch\"]\n",
        "\n",
        "    epoch_loss = torch.zeros(num_epochs)\n",
        "    val_acc = torch.zeros(num_epochs)\n",
        "\n",
        "    num_train_batches_per_epoch = 200\n",
        "\n",
        "    criterion = torch.nn.CrossEntropyLoss()\n",
        "\n",
        "    for epoch in range(num_epochs):\n",
        "\n",
        "        epoch_loss[epoch] = 0.0\n",
        "        batch_size = 0\n",
        "\n",
        "        for i in range(num_train_batches_per_epoch):\n",
        "            classifier_inp_batch, labels = get_classifier_batch(config[\"batch\"], \n",
        "                                                        sub_batch_size=16, \n",
        "                                                        model=model,\n",
        "                                                        model_type =model_type)\n",
        "            pred_logits = lin_classifier(classifier_inp_batch)\n",
        "\n",
        "            loss_val = criterion(pred_logits, label)\n",
        "\n",
        "            c_optimizer.zero_grad()\n",
        "            loss_val.backward()\n",
        "            c_optimizer.step()\n",
        "\n",
        "            batch_size += 1\n",
        "            epoch_loss[epoch] += loss_val.item()\n",
        "\n",
        "        epoch_loss[epoch] = epoch_loss[epoch]/batch_size\n",
        "\n",
        "        #compute val_loss\n",
        "        val_acc[epoch] =classifier_val_acc(50,num_batches_per_val_epoch=200,\n",
        "                                           model= model,\n",
        "                                           model_type=model_type)\n",
        "        \n",
        "        print(\"Epoch {}/{} -- Train loss: {}, Val Acc: {}\".format(epoch+1, num_epochs, epoch_loss[epoch], val_acc[epoch]))\n",
        "    \n",
        "    return val_acc\n",
        "    "
      ],
      "execution_count": 46,
      "outputs": []
    },
    {
      "cell_type": "code",
      "metadata": {
        "id": "A30HmGZy7YmN"
      },
      "source": [
        "def disentangle_metric(model, model_type):\n",
        "    lin_classifier = LinClassifier(in_dims=model.latent_dim, out_dims=4)\n",
        "\n",
        "    classifier_config = {\n",
        "        \"epoch\": 1,\n",
        "        \"lr\": 1e-3,\n",
        "        \"batch\": 32\n",
        "    }\n",
        "\n",
        "    #train classifier\n",
        "    train_lin_classifier(classifier_config, lin_classifier, model, model_type)\n",
        "    \n",
        "    #report final val accuract as metric, on each type of factor\n",
        "    return val_acc[-1]"
      ],
      "execution_count": 48,
      "outputs": []
    },
    {
      "cell_type": "code",
      "metadata": {
        "id": "5OV4bUcJ1Wmz"
      },
      "source": [
        "#linear classifier for dsprites data set must predict from one of 4 factors\n",
        "LATENT_DIMS = 10\n",
        "factor_classifier = LinClassifier(in_dims= LATENT_DIMS, out_dims=4)\n"
      ],
      "execution_count": 19,
      "outputs": []
    },
    {
      "cell_type": "code",
      "metadata": {
        "id": "JzpHJ9Yw12WO"
      },
      "source": [
        "vae_model = VAEConv(latent_dim =10, n_channels=1)"
      ],
      "execution_count": 21,
      "outputs": []
    },
    {
      "cell_type": "code",
      "metadata": {
        "id": "bFZ6VeiJ2DqW",
        "colab": {
          "base_uri": "https://localhost:8080/"
        },
        "outputId": "73ea07bb-7bfd-466b-d810-0d96ac77e800"
      },
      "source": [
        "vae_model.load_state_dict(torch.load(\"/content/VAE_dsprites_weights\"))"
      ],
      "execution_count": 22,
      "outputs": [
        {
          "output_type": "execute_result",
          "data": {
            "text/plain": [
              "<All keys matched successfully>"
            ]
          },
          "metadata": {
            "tags": []
          },
          "execution_count": 22
        }
      ]
    },
    {
      "cell_type": "code",
      "metadata": {
        "colab": {
          "base_uri": "https://localhost:8080/",
          "height": 323
        },
        "id": "AYohTzjvikzW",
        "outputId": "725af204-5cb2-4820-fedf-5d550b6ba79d"
      },
      "source": [
        "disentangle_metric(model=vae_model, model_type=\"VAE\")"
      ],
      "execution_count": 49,
      "outputs": [
        {
          "output_type": "error",
          "ename": "KeyboardInterrupt",
          "evalue": "ignored",
          "traceback": [
            "\u001b[0;31m---------------------------------------------------------------------------\u001b[0m",
            "\u001b[0;31mKeyboardInterrupt\u001b[0m                         Traceback (most recent call last)",
            "\u001b[0;32m<ipython-input-49-34133cfb3e11>\u001b[0m in \u001b[0;36m<module>\u001b[0;34m()\u001b[0m\n\u001b[0;32m----> 1\u001b[0;31m \u001b[0mdisentangle_metric\u001b[0m\u001b[0;34m(\u001b[0m\u001b[0mmodel\u001b[0m\u001b[0;34m=\u001b[0m\u001b[0mvae_model\u001b[0m\u001b[0;34m,\u001b[0m \u001b[0mmodel_type\u001b[0m\u001b[0;34m=\u001b[0m\u001b[0;34m\"VAE\"\u001b[0m\u001b[0;34m)\u001b[0m\u001b[0;34m\u001b[0m\u001b[0;34m\u001b[0m\u001b[0m\n\u001b[0m",
            "\u001b[0;32m<ipython-input-48-e488eef3fe35>\u001b[0m in \u001b[0;36mdisentangle_metric\u001b[0;34m(model, model_type)\u001b[0m\n\u001b[1;32m      9\u001b[0m \u001b[0;34m\u001b[0m\u001b[0m\n\u001b[1;32m     10\u001b[0m     \u001b[0;31m#train classifier\u001b[0m\u001b[0;34m\u001b[0m\u001b[0;34m\u001b[0m\u001b[0;34m\u001b[0m\u001b[0m\n\u001b[0;32m---> 11\u001b[0;31m     \u001b[0mtrain_lin_classifier\u001b[0m\u001b[0;34m(\u001b[0m\u001b[0mclassifier_config\u001b[0m\u001b[0;34m,\u001b[0m \u001b[0mlin_classifier\u001b[0m\u001b[0;34m,\u001b[0m \u001b[0mmodel\u001b[0m\u001b[0;34m,\u001b[0m \u001b[0mmodel_type\u001b[0m\u001b[0;34m)\u001b[0m\u001b[0;34m\u001b[0m\u001b[0;34m\u001b[0m\u001b[0m\n\u001b[0m\u001b[1;32m     12\u001b[0m \u001b[0;34m\u001b[0m\u001b[0m\n\u001b[1;32m     13\u001b[0m     \u001b[0;31m#report final val accuract as metric, on each type of factor\u001b[0m\u001b[0;34m\u001b[0m\u001b[0;34m\u001b[0m\u001b[0;34m\u001b[0m\u001b[0m\n",
            "\u001b[0;32m<ipython-input-46-8bba7d42faf6>\u001b[0m in \u001b[0;36mtrain_lin_classifier\u001b[0;34m(config, lin_classifier, model, model_type)\u001b[0m\n\u001b[1;32m     44\u001b[0m                                                         \u001b[0msub_batch_size\u001b[0m\u001b[0;34m=\u001b[0m\u001b[0;36m16\u001b[0m\u001b[0;34m,\u001b[0m\u001b[0;34m\u001b[0m\u001b[0;34m\u001b[0m\u001b[0m\n\u001b[1;32m     45\u001b[0m                                                         \u001b[0mmodel\u001b[0m\u001b[0;34m=\u001b[0m\u001b[0mmodel\u001b[0m\u001b[0;34m,\u001b[0m\u001b[0;34m\u001b[0m\u001b[0;34m\u001b[0m\u001b[0m\n\u001b[0;32m---> 46\u001b[0;31m                                                         model_type =model_type)\n\u001b[0m\u001b[1;32m     47\u001b[0m             \u001b[0mpred_logits\u001b[0m \u001b[0;34m=\u001b[0m \u001b[0mlin_classifier\u001b[0m\u001b[0;34m(\u001b[0m\u001b[0mclassifier_inp_batch\u001b[0m\u001b[0;34m)\u001b[0m\u001b[0;34m\u001b[0m\u001b[0;34m\u001b[0m\u001b[0m\n\u001b[1;32m     48\u001b[0m \u001b[0;34m\u001b[0m\u001b[0m\n",
            "\u001b[0;32m<ipython-input-45-ace5496143c2>\u001b[0m in \u001b[0;36mget_classifier_batch\u001b[0;34m(batch_size, sub_batch_size, model, model_type)\u001b[0m\n\u001b[1;32m      6\u001b[0m     \u001b[0mclassifier_inp_batch\u001b[0m \u001b[0;34m=\u001b[0m \u001b[0mtorch\u001b[0m\u001b[0;34m.\u001b[0m\u001b[0mzeros\u001b[0m\u001b[0;34m(\u001b[0m\u001b[0;34m(\u001b[0m\u001b[0mbatch_size\u001b[0m\u001b[0;34m,\u001b[0m \u001b[0mmodel\u001b[0m\u001b[0;34m.\u001b[0m\u001b[0mlatent_dim\u001b[0m\u001b[0;34m)\u001b[0m\u001b[0;34m)\u001b[0m\u001b[0;34m\u001b[0m\u001b[0;34m\u001b[0m\u001b[0m\n\u001b[1;32m      7\u001b[0m     \u001b[0;32mfor\u001b[0m \u001b[0mi\u001b[0m \u001b[0;32min\u001b[0m \u001b[0mrange\u001b[0m\u001b[0;34m(\u001b[0m\u001b[0mbatch_size\u001b[0m\u001b[0;34m)\u001b[0m\u001b[0;34m:\u001b[0m\u001b[0;34m\u001b[0m\u001b[0;34m\u001b[0m\u001b[0m\n\u001b[0;32m----> 8\u001b[0;31m         \u001b[0msub_batch_x\u001b[0m \u001b[0;34m=\u001b[0m \u001b[0msample_dsprites\u001b[0m\u001b[0;34m(\u001b[0m\u001b[0mlabels\u001b[0m\u001b[0;34m[\u001b[0m\u001b[0mi\u001b[0m\u001b[0;34m]\u001b[0m\u001b[0;34m,\u001b[0m \u001b[0;36m2\u001b[0m\u001b[0;34m*\u001b[0m\u001b[0msub_batch_size\u001b[0m\u001b[0;34m)\u001b[0m\u001b[0;34m\u001b[0m\u001b[0;34m\u001b[0m\u001b[0m\n\u001b[0m\u001b[1;32m      9\u001b[0m \u001b[0;34m\u001b[0m\u001b[0m\n\u001b[1;32m     10\u001b[0m         \u001b[0msub_batch_x\u001b[0m \u001b[0;34m=\u001b[0m \u001b[0mtorch\u001b[0m\u001b[0;34m.\u001b[0m\u001b[0mTensor\u001b[0m\u001b[0;34m(\u001b[0m\u001b[0msub_batch_x\u001b[0m\u001b[0;34m)\u001b[0m\u001b[0;34m.\u001b[0m\u001b[0mto\u001b[0m\u001b[0;34m(\u001b[0m\u001b[0mdevice\u001b[0m\u001b[0;34m)\u001b[0m\u001b[0;34m.\u001b[0m\u001b[0mfloat\u001b[0m\u001b[0;34m(\u001b[0m\u001b[0;34m)\u001b[0m\u001b[0;34m.\u001b[0m\u001b[0mview\u001b[0m\u001b[0;34m(\u001b[0m\u001b[0;34m(\u001b[0m\u001b[0;34m-\u001b[0m\u001b[0;36m1\u001b[0m\u001b[0;34m,\u001b[0m \u001b[0;36m1\u001b[0m\u001b[0;34m,\u001b[0m \u001b[0;36m64\u001b[0m\u001b[0;34m,\u001b[0m \u001b[0;36m64\u001b[0m\u001b[0;34m)\u001b[0m\u001b[0;34m)\u001b[0m\u001b[0;34m\u001b[0m\u001b[0;34m\u001b[0m\u001b[0m\n",
            "\u001b[0;32m<ipython-input-43-abf389c04862>\u001b[0m in \u001b[0;36msample_dsprites\u001b[0;34m(fixed_factor, batch_size)\u001b[0m\n\u001b[1;32m     15\u001b[0m         \u001b[0;31m# fixed_indices = latents_values[:, fixed_factor] == fixed_value\u001b[0m\u001b[0;34m\u001b[0m\u001b[0;34m\u001b[0m\u001b[0;34m\u001b[0m\u001b[0m\n\u001b[1;32m     16\u001b[0m         \u001b[0;31m# return latents_values[fixed_indices]\u001b[0m\u001b[0;34m\u001b[0m\u001b[0;34m\u001b[0m\u001b[0;34m\u001b[0m\u001b[0m\n\u001b[0;32m---> 17\u001b[0;31m         \u001b[0mfixed_indices\u001b[0m \u001b[0;34m=\u001b[0m \u001b[0mnp\u001b[0m\u001b[0;34m.\u001b[0m\u001b[0mwhere\u001b[0m\u001b[0;34m(\u001b[0m\u001b[0mlatents_values\u001b[0m\u001b[0;34m[\u001b[0m\u001b[0;34m:\u001b[0m\u001b[0;34m,\u001b[0m \u001b[0mfixed_factor\u001b[0m\u001b[0;34m]\u001b[0m \u001b[0;34m==\u001b[0m \u001b[0mfixed_value\u001b[0m\u001b[0;34m)\u001b[0m\u001b[0;34m\u001b[0m\u001b[0;34m\u001b[0m\u001b[0m\n\u001b[0m\u001b[1;32m     18\u001b[0m         \u001b[0mfixed_imgs\u001b[0m \u001b[0;34m=\u001b[0m \u001b[0mlist\u001b[0m\u001b[0;34m(\u001b[0m\u001b[0mimgs\u001b[0m\u001b[0;34m[\u001b[0m\u001b[0mfixed_indices\u001b[0m\u001b[0;34m]\u001b[0m\u001b[0;34m)\u001b[0m\u001b[0;34m\u001b[0m\u001b[0;34m\u001b[0m\u001b[0m\n\u001b[1;32m     19\u001b[0m         \u001b[0mlength\u001b[0m \u001b[0;34m=\u001b[0m \u001b[0mnp\u001b[0m\u001b[0;34m.\u001b[0m\u001b[0mshape\u001b[0m\u001b[0;34m(\u001b[0m\u001b[0mfixed_imgs\u001b[0m\u001b[0;34m)\u001b[0m\u001b[0;34m[\u001b[0m\u001b[0;36m0\u001b[0m\u001b[0;34m]\u001b[0m\u001b[0;34m\u001b[0m\u001b[0;34m\u001b[0m\u001b[0m\n",
            "\u001b[0;31mKeyboardInterrupt\u001b[0m: "
          ]
        }
      ]
    },
    {
      "cell_type": "code",
      "metadata": {
        "id": "oIR1x5cBRvPf"
      },
      "source": [
        "samples = sample_dsprites(fixed_factor=2, batch_size=32)"
      ],
      "execution_count": 51,
      "outputs": []
    },
    {
      "cell_type": "code",
      "metadata": {
        "colab": {
          "base_uri": "https://localhost:8080/"
        },
        "id": "fC8_GdKSR3h0",
        "outputId": "d60eae9d-ab88-40b5-af2f-bde0992a9b6e"
      },
      "source": [
        "np.shape(samples)"
      ],
      "execution_count": 52,
      "outputs": [
        {
          "output_type": "execute_result",
          "data": {
            "text/plain": [
              "(32, 64, 64)"
            ]
          },
          "metadata": {
            "tags": []
          },
          "execution_count": 52
        }
      ]
    },
    {
      "cell_type": "markdown",
      "metadata": {
        "id": "Qn831defilIc"
      },
      "source": [
        "## VAE Conv Model"
      ]
    },
    {
      "cell_type": "code",
      "metadata": {
        "id": "06XjuGBJioqu"
      },
      "source": [
        "class VAEConv(nn.Module):\n",
        "    #architecture follows that of the B-VAE paper\n",
        "    def __init__(self, latent_dim, im_size=(64,64), n_channels=3):\n",
        "        super(VAEConv, self).__init__()\n",
        "\n",
        "        #inp_dim is flattened image size\n",
        "        self.latent_dim = latent_dim\n",
        "        self.im_size = im_size\n",
        "        self.n_channels = n_channels\n",
        "\n",
        "        #### ENCODER ##########\n",
        "        #Convolution based encoder\n",
        "        #NOTE im_size must be (64, 64) to work (or a multiple of 64,64)\n",
        "        self.e_conv1 = nn.Conv2d(in_channels = n_channels,\n",
        "                                out_channels = 32,\n",
        "                                 kernel_size =4,\n",
        "                                 stride=2,\n",
        "                                 padding=1)\n",
        "        self.e_conv2 =  nn.Conv2d(in_channels = 32,\n",
        "                                out_channels = 32,\n",
        "                                 kernel_size =4,\n",
        "                                 stride=2,\n",
        "                                 padding=1)\n",
        "        self.e_conv3=  nn.Conv2d(in_channels = 32,\n",
        "                                out_channels = 64,\n",
        "                                 kernel_size =4,\n",
        "                                 stride=2,\n",
        "                                 padding=1)\n",
        "        self.e_conv4 = nn.Conv2d(in_channels = 64,\n",
        "                                out_channels = 64,\n",
        "                                 kernel_size =4,\n",
        "                                 stride=2,\n",
        "                                 padding=1)\n",
        "        #output of this block will be scalar Bx256x(1x1)\n",
        "        #for input size 64 x 64 - we use fc layer on it next\n",
        "        self.e_conv5 = nn.Conv2d(in_channels = 64,\n",
        "                                out_channels = 256,\n",
        "                                 kernel_size =4,\n",
        "                                 stride=1)\n",
        "        #reshape to (B x 256)\n",
        "        #takes output of convolution\n",
        "        self.e_fc_mean = nn.Linear(256, latent_dim)\n",
        "        self.e_fc_log_std = nn.Linear(256, latent_dim)\n",
        "\n",
        "        #### DECODER ##########\n",
        "        # Convolutional decoder\n",
        "        #takes a latent sample z and generates image\n",
        "        self.d_fc1 = nn.Linear(latent_dim, 256)\n",
        "\n",
        "        #must reshape to (Bx 1 x 1) next for conv layers\n",
        "        self.d_conv1 = nn.ConvTranspose2d(in_channels=256,\n",
        "                                          out_channels=64,\n",
        "                                          kernel_size=4\n",
        "                                          )\n",
        "        self.d_conv2 = nn.ConvTranspose2d(in_channels=64,\n",
        "                                          out_channels=64,\n",
        "                                          kernel_size=4,\n",
        "                                          stride=2, \n",
        "                                          padding=1)\n",
        "        self.d_conv3 = nn.ConvTranspose2d(in_channels=64,\n",
        "                                    out_channels=32,\n",
        "                                    kernel_size=4,\n",
        "                                    stride=2, \n",
        "                                    padding=1)\n",
        "        self.d_conv4 = nn.ConvTranspose2d(in_channels=32,\n",
        "                            out_channels=32,\n",
        "                            kernel_size=4,\n",
        "                            stride=2, \n",
        "                            padding=1)\n",
        "        self.d_conv5 = nn.ConvTranspose2d(in_channels=32,\n",
        "                    out_channels=n_channels,\n",
        "                    kernel_size=4,\n",
        "                    stride=2, \n",
        "                    padding=1)\n",
        "        \n",
        "    \n",
        "    def forward(self, x):\n",
        "        #x inputs expected to be C x H xW\n",
        "        mean, log_std = self.encode(x)\n",
        "        z = self.sample(mean, log_std)\n",
        "        x_hat = self.decode(z)\n",
        "\n",
        "        return x_hat, mean, log_std\n",
        "\n",
        "    #given an x from the dataset, finds mean and log_var\n",
        "    #for the variational distribution q(z)\n",
        "    def encode(self, x):\n",
        "        w = F.relu(self.e_conv1(x))\n",
        "        w = F.relu(self.e_conv2(w))\n",
        "        w = F.relu(self.e_conv3(w))\n",
        "        w = F.relu(self.e_conv4(w))\n",
        "        w = F.relu(self.e_conv5(w))\n",
        "        \n",
        "        w = w.view((-1,  256))\n",
        "        mean = self.e_fc_mean(w)\n",
        "        log_std = self.e_fc_log_std(w)\n",
        "\n",
        "        #batch of mean and log_var for q(z | x)\n",
        "        return mean, log_std\n",
        "\n",
        "    def decode(self, z):\n",
        "        w = F.relu(self.d_fc1(z))\n",
        "        w = w.view((-1, 256, 1, 1))\n",
        "        w = F.relu(self.d_conv1(w))\n",
        "        w = F.relu(self.d_conv2(w))\n",
        "        w = F.relu(self.d_conv3(w))\n",
        "        w = F.relu(self.d_conv4(w))\n",
        "        w = self.d_conv5(w)\n",
        "\n",
        "        #image approximation, with pixel values in [0,1]\n",
        "        #assumed bernoulli distribution over each pixel, and the pixel value\n",
        "        # is prob(pixel is on)\n",
        "        #x_hat = F.sigmoid(self.d_fc3(w)) \n",
        "        x_hat = w\n",
        "\n",
        "        #note: im has channel C X H x W\n",
        "        return x_hat\n",
        "    \n",
        "    #sample using reparameterization trick\n",
        "    def sample(self, mean, log_std):\n",
        "        #sample from N(0,I) and use \n",
        "        #reparameterization trick to transform\n",
        "        #to given mean and variance\n",
        "        std = torch.exp(log_std)\n",
        "\n",
        "        sample_z = mean + std*torch.randn_like(mean)\n",
        "\n",
        "        return sample_z\n",
        "\n",
        "    #if train, samples highest probability values\n",
        "    def sample_ims(self, num_ims, mean, log_std, train = True):\n",
        "        if train:\n",
        "            z = self.sample(mean, log_std)\n",
        "        else:\n",
        "            z = mean\n",
        "\n",
        "        ims = self.decode(z)\n",
        "        ims = F.sigmoid(ims)\n",
        "        #print(ims.size())\n",
        "        return ims.permute(0, 2,3,1)\n",
        "\n",
        "        \n",
        "    #sample from the \n",
        "    def sample_ims_from_prior(self, num_ims, train=True):\n",
        "        #mean = 0, std = I\n",
        "        mean = torch.zeros((num_ims, self.latent_dim))\n",
        "        log_std = torch.zeros((num_ims, self.latent_dim))\n",
        "\n",
        "        ims_from_prior = self.sample_ims(num_ims, mean, log_std, train)\n",
        "        #ims = ims_from_prior.view((-1,self.im_size[0],self.im_size[1]))\n",
        "\n",
        "        return ims_from_prior\n",
        "\n",
        "    def sample_ims_like(self, x, num_ims, train=True):\n",
        "        mean, log_std = self.encode(x)\n",
        "\n",
        "        mean = mean.repeat(num_ims,1)\n",
        "        log_std = log_std.repeat(num_ims, 1)\n",
        "\n",
        "        ims = self.sample_ims(num_ims, mean, log_std, train)\n",
        "        #ims = ims.view((-1,im_size[0], im_size[1]))\n",
        "\n",
        "        #place channel at end\n",
        "        return ims"
      ],
      "execution_count": 20,
      "outputs": []
    },
    {
      "cell_type": "markdown",
      "metadata": {
        "id": "Ca14UD8LBE9H"
      },
      "source": [
        "## VAE Dsprites Train"
      ]
    },
    {
      "cell_type": "code",
      "metadata": {
        "colab": {
          "base_uri": "https://localhost:8080/"
        },
        "id": "wPHQAyklBSAS",
        "outputId": "698b4a2f-ac6a-47cf-b962-2eb2a72d11f1"
      },
      "source": [
        "np.shape(imgs)"
      ],
      "execution_count": null,
      "outputs": [
        {
          "output_type": "execute_result",
          "data": {
            "text/plain": [
              "(737280, 64, 64)"
            ]
          },
          "metadata": {
            "tags": []
          },
          "execution_count": 22
        }
      ]
    },
    {
      "cell_type": "code",
      "metadata": {
        "id": "sfH_oovsRFHh"
      },
      "source": [
        "np.random.shuffle(imgs)"
      ],
      "execution_count": 8,
      "outputs": []
    },
    {
      "cell_type": "code",
      "metadata": {
        "colab": {
          "base_uri": "https://localhost:8080/",
          "height": 285
        },
        "id": "Asj-KUfjROOn",
        "outputId": "3665e2b3-09a6-4e3d-8b5f-c9c020166a88"
      },
      "source": [
        "plt.imshow(imgs[3,:,:])"
      ],
      "execution_count": 11,
      "outputs": [
        {
          "output_type": "execute_result",
          "data": {
            "text/plain": [
              "<matplotlib.image.AxesImage at 0x7f9592c68b90>"
            ]
          },
          "metadata": {
            "tags": []
          },
          "execution_count": 11
        },
        {
          "output_type": "display_data",
          "data": {
            "image/png": "[encoded data removed]",
            "text/plain": [
              "<Figure size 432x288 with 1 Axes>"
            ]
          },
          "metadata": {
            "tags": [],
            "needs_background": "light"
          }
        }
      ]
    },
    {
      "cell_type": "code",
      "metadata": {
        "id": "Hw4hwHGUOXEQ"
      },
      "source": [
        "# negative ELBO loss\n",
        "# = reconstruction_loss + KL(q || z_prior) \n",
        "#some code from https://github.com/1Konny/Beta-VAE/blob/master/solver.py\n",
        "def vae_conv_loss_func(x_hat, x, mean, log_std, batch_size, decoder_type=\"B\"):\n",
        "    if decoder_type==\"B\":\n",
        "        #bernoulli type output distribution assumed\n",
        "        recon_loss = F.binary_cross_entropy_with_logits(x_hat, x, size_average=False).div(batch_size)\n",
        "    #for Gaussian type output, do MSE \n",
        "    else:\n",
        "        x_hat = F.sigmoid(x_hat)\n",
        "        recon_loss = F.mse_loss(x_hat, x, size_average=False).div(batch_size)\n",
        "\n",
        "    # - D_{KL} = 0.5 * sum(1 + log(sigma^2) - mu^2 - sigma^2)\n",
        "    # note the negative D_{KL} in appendix B of the paper\n",
        "    KLD = -0.5 * (1 + 2*log_std - mean**2 - torch.exp(2*log_std)).sum(1).mean(0, True)\n",
        "    # Normalise by same number of elements as in reconstruction\n",
        "    #KLD /= (batch_size * 784)\n",
        "\n",
        "    loss = recon_loss+ KLD\n",
        "\n",
        "    return loss\n",
        "\n",
        "\n",
        "#config = dict of 'epoch', 'lr', 'batch', ''\n",
        "def vae_train_dsprites(vae_model, config, train_imgs, decoder_type=\"B\"):\n",
        "    vae_model = vae_model.to(device)\n",
        "\n",
        "    #train_loader = torch.utils.data.DataLoader(dataset=train_dataset, batch_size=config[\"batch\"], shuffle=True)\n",
        "\n",
        "    optimizer = torch.optim.Adam(vae_model.parameters(), lr = config[\"lr\"])\n",
        "\n",
        "    num_epochs = config[\"epoch\"]\n",
        "\n",
        "    epoch_loss = torch.zeros(num_epochs).to(device)\n",
        "\n",
        "    num_batches = int(np.round(np.shape(train_imgs)[0]/config[\"batch\"]))\n",
        "\n",
        "    for epoch in range(num_epochs):\n",
        "\n",
        "        epoch_loss[epoch] = 0.0\n",
        "        batch_size = 0\n",
        "\n",
        "        for idx in range(num_batches):\n",
        "            x_batch = train_imgs[(idx*config[\"batch\"]):((idx+1)*config[\"batch\"])]\n",
        "            x_batch = torch.tensor(x_batch)\n",
        "            x_batch = x_batch.float().to(device)\n",
        "            x_batch = x_batch.view((-1, 1, 64, 64))\n",
        "            x_hat_batch, mean_batch, log_std_batch = vae_model(x_batch)\n",
        "\n",
        "            #print(x_hat_batch.size())\n",
        "\n",
        "            loss_val = vae_conv_loss_func(x_hat_batch, x_batch, \n",
        "                                          mean_batch, \n",
        "                                          log_std_batch, config[\"batch\"],\n",
        "                                          decoder_type=decoder_type)\n",
        "\n",
        "            optimizer.zero_grad()\n",
        "            loss_val.backward()\n",
        "            optimizer.step()\n",
        "\n",
        "            batch_size += 1\n",
        "            epoch_loss[epoch] += loss_val.item()\n",
        "\n",
        "        epoch_loss[epoch] = epoch_loss[epoch]/batch_size\n",
        "\n",
        "     \n",
        "        print(\"Epoch {}/{} -- Train loss: {}\".format(epoch+1, num_epochs, epoch_loss[epoch]))\n",
        "    \n",
        "    plt.plot(epoch_loss.to('cpu').detach().numpy(), label = \"Train Loss (-ELBO)\")\n",
        "    plt.title(\"VAE Loss over Epochs\") \n",
        "    plt.xlabel(\"Epoch\")\n",
        "    plt.ylabel(\"Negative ELBO Loss\")"
      ],
      "execution_count": 141,
      "outputs": []
    },
    {
      "cell_type": "code",
      "metadata": {
        "id": "lFU7rUL_BGs6"
      },
      "source": [
        "vae_dsprites = VAEConv(latent_dim =10, n_channels=1)"
      ],
      "execution_count": 128,
      "outputs": []
    },
    {
      "cell_type": "code",
      "metadata": {
        "id": "LYv4mA_nSRXF"
      },
      "source": [
        "vae_dsprites.to('cpu')\n",
        "sampled_ims_pre = vae_dsprites.sample_ims_from_prior(num_ims=5, train=True)"
      ],
      "execution_count": 105,
      "outputs": []
    },
    {
      "cell_type": "code",
      "metadata": {
        "colab": {
          "base_uri": "https://localhost:8080/",
          "height": 339
        },
        "id": "t2Sk0WTqTwgS",
        "outputId": "3da96b9f-7133-454f-9fae-e8ea5ebc4e1b"
      },
      "source": [
        "plt.imshow(F.sigmoid(sampled_ims_pre[0,:,:]).squeeze().detach().numpy())"
      ],
      "execution_count": 107,
      "outputs": [
        {
          "output_type": "stream",
          "text": [
            "/usr/local/lib/python3.7/dist-packages/torch/nn/functional.py:1709: UserWarning: nn.functional.sigmoid is deprecated. Use torch.sigmoid instead.\n",
            "  warnings.warn(\"nn.functional.sigmoid is deprecated. Use torch.sigmoid instead.\")\n"
          ],
          "name": "stderr"
        },
        {
          "output_type": "execute_result",
          "data": {
            "text/plain": [
              "<matplotlib.image.AxesImage at 0x7f959103d250>"
            ]
          },
          "metadata": {
            "tags": []
          },
          "execution_count": 107
        },
        {
          "output_type": "display_data",
          "data": {
            "image/png": "[encoded data removed]",
            "text/plain": [
              "<Figure size 432x288 with 1 Axes>"
            ]
          },
          "metadata": {
            "tags": [],
            "needs_background": "light"
          }
        }
      ]
    },
    {
      "cell_type": "code",
      "metadata": {
        "id": "OUd3xnPlBe3L",
        "colab": {
          "base_uri": "https://localhost:8080/",
          "height": 1000
        },
        "outputId": "d6019210-1565-40ef-eb19-55772a29162b"
      },
      "source": [
        "config[\"batch\"] = 100\n",
        "config[\"epoch\"] = 50\n",
        "config[\"lr\"] = 1e-3\n",
        "vae_train_dsprites(vae_dsprites, config, train_imgs=imgs[:30000])"
      ],
      "execution_count": 151,
      "outputs": [
        {
          "output_type": "stream",
          "text": [
            "/usr/local/lib/python3.7/dist-packages/torch/nn/_reduction.py:42: UserWarning: size_average and reduce args will be deprecated, please use reduction='sum' instead.\n",
            "  warnings.warn(warning.format(ret))\n"
          ],
          "name": "stderr"
        },
        {
          "output_type": "stream",
          "text": [
            "Epoch 1/50 -- Train loss: 80.44981384277344\n",
            "Epoch 2/50 -- Train loss: 77.05050659179688\n",
            "Epoch 3/50 -- Train loss: 75.21749877929688\n",
            "Epoch 4/50 -- Train loss: 74.42823028564453\n",
            "Epoch 5/50 -- Train loss: 72.97116088867188\n",
            "Epoch 6/50 -- Train loss: 72.01223754882812\n",
            "Epoch 7/50 -- Train loss: 70.90728759765625\n",
            "Epoch 8/50 -- Train loss: 69.9815444946289\n",
            "Epoch 9/50 -- Train loss: 69.18295288085938\n",
            "Epoch 10/50 -- Train loss: 68.69573211669922\n",
            "Epoch 11/50 -- Train loss: 67.69110870361328\n",
            "Epoch 12/50 -- Train loss: 66.66361999511719\n",
            "Epoch 13/50 -- Train loss: 65.78742980957031\n",
            "Epoch 14/50 -- Train loss: 65.03234100341797\n",
            "Epoch 15/50 -- Train loss: 64.48719787597656\n",
            "Epoch 16/50 -- Train loss: 64.84906005859375\n",
            "Epoch 17/50 -- Train loss: 64.23796844482422\n",
            "Epoch 18/50 -- Train loss: 63.705101013183594\n",
            "Epoch 19/50 -- Train loss: 63.404075622558594\n",
            "Epoch 20/50 -- Train loss: 62.02071762084961\n",
            "Epoch 21/50 -- Train loss: 61.193668365478516\n",
            "Epoch 22/50 -- Train loss: 60.883888244628906\n",
            "Epoch 23/50 -- Train loss: 60.56787872314453\n",
            "Epoch 24/50 -- Train loss: 60.6878776550293\n",
            "Epoch 25/50 -- Train loss: 59.84300231933594\n",
            "Epoch 26/50 -- Train loss: 60.203094482421875\n",
            "Epoch 27/50 -- Train loss: 59.79157638549805\n",
            "Epoch 28/50 -- Train loss: 59.10979461669922\n",
            "Epoch 29/50 -- Train loss: 59.3978157043457\n",
            "Epoch 30/50 -- Train loss: 58.98250198364258\n",
            "Epoch 31/50 -- Train loss: 58.342613220214844\n",
            "Epoch 32/50 -- Train loss: 56.98594665527344\n",
            "Epoch 33/50 -- Train loss: 56.72773742675781\n",
            "Epoch 34/50 -- Train loss: 56.68170166015625\n",
            "Epoch 35/50 -- Train loss: 57.16736602783203\n",
            "Epoch 36/50 -- Train loss: 57.299903869628906\n",
            "Epoch 37/50 -- Train loss: 56.86616134643555\n",
            "Epoch 38/50 -- Train loss: 56.90266418457031\n",
            "Epoch 39/50 -- Train loss: 56.095680236816406\n",
            "Epoch 40/50 -- Train loss: 54.73539352416992\n",
            "Epoch 41/50 -- Train loss: 54.6307373046875\n",
            "Epoch 42/50 -- Train loss: 54.70745086669922\n",
            "Epoch 43/50 -- Train loss: 54.6865234375\n",
            "Epoch 44/50 -- Train loss: 54.49074172973633\n",
            "Epoch 45/50 -- Train loss: 54.56074142456055\n",
            "Epoch 46/50 -- Train loss: 54.195594787597656\n",
            "Epoch 47/50 -- Train loss: 54.36985397338867\n",
            "Epoch 48/50 -- Train loss: 54.95448684692383\n",
            "Epoch 49/50 -- Train loss: 55.46038055419922\n",
            "Epoch 50/50 -- Train loss: 54.66753387451172\n"
          ],
          "name": "stdout"
        },
        {
          "output_type": "display_data",
          "data": {
            "image/png": "[encoded data removed]",
            "text/plain": [
              "<Figure size 432x288 with 1 Axes>"
            ]
          },
          "metadata": {
            "tags": [],
            "needs_background": "light"
          }
        }
      ]
    },
    {
      "cell_type": "code",
      "metadata": {
        "id": "abCKijnZSt_I"
      },
      "source": [
        "vae_dsprites.to('cpu')\n",
        "sampled_ims_post = vae_dsprites.sample_ims_from_prior(num_ims=5, train=True)"
      ],
      "execution_count": 152,
      "outputs": []
    },
    {
      "cell_type": "code",
      "metadata": {
        "colab": {
          "base_uri": "https://localhost:8080/",
          "height": 339
        },
        "id": "H_TVtnFuTXNq",
        "outputId": "1e5b997b-cfd5-42f7-e41f-61e31d4944ab"
      },
      "source": [
        "plt.imshow(F.sigmoid(sampled_ims_post[4,:,:]).squeeze().detach().numpy())"
      ],
      "execution_count": 156,
      "outputs": [
        {
          "output_type": "stream",
          "text": [
            "/usr/local/lib/python3.7/dist-packages/torch/nn/functional.py:1709: UserWarning: nn.functional.sigmoid is deprecated. Use torch.sigmoid instead.\n",
            "  warnings.warn(\"nn.functional.sigmoid is deprecated. Use torch.sigmoid instead.\")\n"
          ],
          "name": "stderr"
        },
        {
          "output_type": "execute_result",
          "data": {
            "text/plain": [
              "<matplotlib.image.AxesImage at 0x7f9590abeb50>"
            ]
          },
          "metadata": {
            "tags": []
          },
          "execution_count": 156
        },
        {
          "output_type": "display_data",
          "data": {
            "image/png": "[encoded data removed]",
            "text/plain": [
              "<Figure size 432x288 with 1 Axes>"
            ]
          },
          "metadata": {
            "tags": [],
            "needs_background": "light"
          }
        }
      ]
    },
    {
      "cell_type": "code",
      "metadata": {
        "id": "tHWF9BE7UAva"
      },
      "source": [
        "samples_like = vae_dsprites.sample_ims_like(torch.tensor(imgs[3,:,:]).float().view(1,1,64,64), num_ims=5, train=True)"
      ],
      "execution_count": 169,
      "outputs": []
    },
    {
      "cell_type": "code",
      "metadata": {
        "colab": {
          "base_uri": "https://localhost:8080/"
        },
        "id": "mhxtF4aHVJdG",
        "outputId": "7aa3492e-ff0d-4778-fc33-586a4e8c7d07"
      },
      "source": [
        "samples_like = F.sigmoid(samples_like).squeeze().detach().numpy()"
      ],
      "execution_count": 170,
      "outputs": [
        {
          "output_type": "stream",
          "text": [
            "/usr/local/lib/python3.7/dist-packages/torch/nn/functional.py:1709: UserWarning: nn.functional.sigmoid is deprecated. Use torch.sigmoid instead.\n",
            "  warnings.warn(\"nn.functional.sigmoid is deprecated. Use torch.sigmoid instead.\")\n"
          ],
          "name": "stderr"
        }
      ]
    },
    {
      "cell_type": "code",
      "metadata": {
        "id": "RNM5eWP6_jd-"
      },
      "source": [
        "torch.save(vae_dsprites.state_dict(), \"/content/VAE_dsprites_weights\")"
      ],
      "execution_count": 171,
      "outputs": []
    },
    {
      "cell_type": "code",
      "metadata": {
        "colab": {
          "base_uri": "https://localhost:8080/",
          "height": 285
        },
        "id": "P931pAJbVPuC",
        "outputId": "322ee90e-5a91-4dac-8a91-587588de28e5"
      },
      "source": [
        "plt.imshow(samples_like[3,:,:])"
      ],
      "execution_count": 173,
      "outputs": [
        {
          "output_type": "execute_result",
          "data": {
            "text/plain": [
              "<matplotlib.image.AxesImage at 0x7f959175a250>"
            ]
          },
          "metadata": {
            "tags": []
          },
          "execution_count": 173
        },
        {
          "output_type": "display_data",
          "data": {
            "image/png": "[encoded data removed]",
            "text/plain": [
              "<Figure size 432x288 with 1 Axes>"
            ]
          },
          "metadata": {
            "tags": [],
            "needs_background": "light"
          }
        }
      ]
    },
    {
      "cell_type": "code",
      "metadata": {
        "colab": {
          "base_uri": "https://localhost:8080/",
          "height": 285
        },
        "id": "M96_et0UVR4T",
        "outputId": "eed1eced-96fa-4504-b9d6-28fd296584e3"
      },
      "source": [
        "plt.imshow(torch.tensor(imgs[3,:,:]).float().detach().numpy())"
      ],
      "execution_count": 174,
      "outputs": [
        {
          "output_type": "execute_result",
          "data": {
            "text/plain": [
              "<matplotlib.image.AxesImage at 0x7f9591447110>"
            ]
          },
          "metadata": {
            "tags": []
          },
          "execution_count": 174
        },
        {
          "output_type": "display_data",
          "data": {
            "image/png": "[encoded data removed]",
            "text/plain": [
              "<Figure size 432x288 with 1 Axes>"
            ]
          },
          "metadata": {
            "tags": [],
            "needs_background": "light"
          }
        }
      ]
    },
    {
      "cell_type": "code",
      "metadata": {
        "id": "QTzL1VCrVUFE"
      },
      "source": [
        "datap = imgs[0,:,:] "
      ],
      "execution_count": 67,
      "outputs": []
    },
    {
      "cell_type": "code",
      "metadata": {
        "colab": {
          "base_uri": "https://localhost:8080/"
        },
        "id": "EzYbvWWXXgUJ",
        "outputId": "8120b500-be8c-4288-fe1d-fbf41ffa976b"
      },
      "source": [
        "np.max(datap)"
      ],
      "execution_count": 69,
      "outputs": [
        {
          "output_type": "execute_result",
          "data": {
            "text/plain": [
              "1"
            ]
          },
          "metadata": {
            "tags": []
          },
          "execution_count": 69
        }
      ]
    },
    {
      "cell_type": "code",
      "metadata": {
        "id": "S4jYDLDWXg5T"
      },
      "source": [
        ""
      ],
      "execution_count": null,
      "outputs": []
    }
  ]
}