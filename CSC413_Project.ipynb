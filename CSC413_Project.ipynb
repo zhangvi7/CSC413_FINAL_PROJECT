{
 "cells": [
  {
   "cell_type": "code",
   "execution_count": 1,
   "metadata": {
    "colab": {
     "base_uri": "https://localhost:8080/"
    },
    "id": "hLQj1THQtBGR",
    "outputId": "b982a95d-8702-4299-c7ed-c8cfe20a5c28"
   },
   "outputs": [
    {
     "name": "stdout",
     "output_type": "stream",
     "text": [
      "Cloning into 'dsprites-dataset'...\n",
      "remote: Enumerating objects: 16, done.\u001b[K\n",
      "remote: Total 16 (delta 0), reused 0 (delta 0), pack-reused 16\u001b[K\n",
      "Unpacking objects: 100% (16/16), done.\n"
     ]
    }
   ],
   "source": [
    "# fetch the beta-vae synthetic dataset (from the deepmind repo)\n",
    "!git clone https://github.com/deepmind/dsprites-dataset\n",
    "!rm -rf .git* *.md LICENSE *.ipynb *.gif *.hdf5"
   ]
  },
  {
   "cell_type": "code",
   "execution_count": 1,
   "metadata": {
    "id": "mwBBbiCxW70c"
   },
   "outputs": [],
   "source": [
    "import torch \n",
    "import torch.nn as nn\n",
    "from torchvision import datasets, transforms, utils\n",
    "from torch.nn import functional as F\n",
    "\n",
    "import numpy as np\n",
    "import matplotlib.pyplot as plt\n",
    "import random"
   ]
  },
  {
   "cell_type": "code",
   "execution_count": 2,
   "metadata": {
    "id": "0V2gkl9R3RuY"
   },
   "outputs": [],
   "source": [
    "## GPU\n",
    "device = torch.device('cuda:' + str(0) if torch.cuda.is_available() else 'cpu')\n",
    "\n",
    "SEED = 1\n",
    "\n",
    "torch.manual_seed(SEED)\n",
    "torch.cuda.manual_seed(SEED)"
   ]
  },
  {
   "cell_type": "code",
   "execution_count": 3,
   "metadata": {},
   "outputs": [],
   "source": [
    "#device='cpu'"
   ]
  },
  {
   "cell_type": "code",
   "execution_count": 3,
   "metadata": {},
   "outputs": [],
   "source": [
    "from vae import *"
   ]
  },
  {
   "cell_type": "markdown",
   "metadata": {
    "id": "bMgo8fsRyJAH"
   },
   "source": [
    "## Disentanglement Metric (from B-VAE)"
   ]
  },
  {
   "cell_type": "code",
   "execution_count": 4,
   "metadata": {
    "colab": {
     "base_uri": "https://localhost:8080/"
    },
    "id": "ttPgPVqDGIWt",
    "outputId": "d43a929d-1ded-4494-fb50-9d042139a9b1"
   },
   "outputs": [
    {
     "name": "stdout",
     "output_type": "stream",
     "text": [
      "/scratch/ssd002/home/mhasan/CSC413_FINAL_PROJECT/dsprites-dataset\n"
     ]
    }
   ],
   "source": [
    "# citation: the below code for visualizing dsprites dataset is from : \n",
    "# https://github.com/deepmind/dsprites-dataset/blob/master/dsprites_reloading_example.ipynb\n",
    "%cd dsprites-dataset\n",
    "dataset_zip = np.load('dsprites_ndarray_co1sh3sc6or40x32y32_64x64.npz', allow_pickle=True, encoding='bytes')\n",
    "imgs = dataset_zip['imgs']\n",
    "latents_values = dataset_zip['latents_values']\n",
    "latents_classes = dataset_zip['latents_classes']\n",
    "metadata = dataset_zip['metadata'][()]\n",
    "position_labels = latents_values[0:32, -1]\n",
    "orientation_labels = list(set(latents_values[:, -3]))"
   ]
  },
  {
   "cell_type": "code",
   "execution_count": 5,
   "metadata": {},
   "outputs": [
    {
     "data": {
      "text/plain": [
       "array([[ 0,  0,  0,  0,  0,  0],\n",
       "       [ 0,  0,  0,  0,  0,  1],\n",
       "       [ 0,  0,  0,  0,  0,  2],\n",
       "       ...,\n",
       "       [ 0,  2,  5, 39, 31, 29],\n",
       "       [ 0,  2,  5, 39, 31, 30],\n",
       "       [ 0,  2,  5, 39, 31, 31]])"
      ]
     },
     "execution_count": 5,
     "metadata": {},
     "output_type": "execute_result"
    }
   ],
   "source": [
    "latents_classes"
   ]
  },
  {
   "cell_type": "code",
   "execution_count": 6,
   "metadata": {},
   "outputs": [
    {
     "data": {
      "text/plain": [
       "{b'date': b'April 2017',\n",
       " b'description': b'Disentanglement test Sprites dataset.Procedurally generated 2D shapes, from 6 disentangled latent factors.This dataset uses 6 latents, controlling the color, shape, scale, rotation and position of a sprite. All possible variations of the latents are present. Ordering along dimension 1 is fixed and can be mapped back to the exact latent values that generated that image.We made sure that the pixel outputs are different. No noise added.',\n",
       " b'version': 1,\n",
       " b'latents_names': (b'color',\n",
       "  b'shape',\n",
       "  b'scale',\n",
       "  b'orientation',\n",
       "  b'posX',\n",
       "  b'posY'),\n",
       " b'latents_possible_values': {b'orientation': array([0.        , 0.16110732, 0.32221463, 0.48332195, 0.64442926,\n",
       "         0.80553658, 0.96664389, 1.12775121, 1.28885852, 1.44996584,\n",
       "         1.61107316, 1.77218047, 1.93328779, 2.0943951 , 2.25550242,\n",
       "         2.41660973, 2.57771705, 2.73882436, 2.89993168, 3.061039  ,\n",
       "         3.22214631, 3.38325363, 3.54436094, 3.70546826, 3.86657557,\n",
       "         4.02768289, 4.1887902 , 4.34989752, 4.51100484, 4.67211215,\n",
       "         4.83321947, 4.99432678, 5.1554341 , 5.31654141, 5.47764873,\n",
       "         5.63875604, 5.79986336, 5.96097068, 6.12207799, 6.28318531]),\n",
       "  b'posX': array([0.        , 0.03225806, 0.06451613, 0.09677419, 0.12903226,\n",
       "         0.16129032, 0.19354839, 0.22580645, 0.25806452, 0.29032258,\n",
       "         0.32258065, 0.35483871, 0.38709677, 0.41935484, 0.4516129 ,\n",
       "         0.48387097, 0.51612903, 0.5483871 , 0.58064516, 0.61290323,\n",
       "         0.64516129, 0.67741935, 0.70967742, 0.74193548, 0.77419355,\n",
       "         0.80645161, 0.83870968, 0.87096774, 0.90322581, 0.93548387,\n",
       "         0.96774194, 1.        ]),\n",
       "  b'posY': array([0.        , 0.03225806, 0.06451613, 0.09677419, 0.12903226,\n",
       "         0.16129032, 0.19354839, 0.22580645, 0.25806452, 0.29032258,\n",
       "         0.32258065, 0.35483871, 0.38709677, 0.41935484, 0.4516129 ,\n",
       "         0.48387097, 0.51612903, 0.5483871 , 0.58064516, 0.61290323,\n",
       "         0.64516129, 0.67741935, 0.70967742, 0.74193548, 0.77419355,\n",
       "         0.80645161, 0.83870968, 0.87096774, 0.90322581, 0.93548387,\n",
       "         0.96774194, 1.        ]),\n",
       "  b'scale': array([0.5, 0.6, 0.7, 0.8, 0.9, 1. ]),\n",
       "  b'shape': array([1., 2., 3.]),\n",
       "  b'color': array([1.])},\n",
       " b'latents_sizes': array([ 1,  3,  6, 40, 32, 32]),\n",
       " b'author': b'lmatthey@google.com',\n",
       " b'title': b'dSprites dataset'}"
      ]
     },
     "execution_count": 6,
     "metadata": {},
     "output_type": "execute_result"
    }
   ],
   "source": [
    "metadata"
   ]
  },
  {
   "cell_type": "code",
   "execution_count": 7,
   "metadata": {
    "colab": {
     "base_uri": "https://localhost:8080/"
    },
    "id": "DWx7WWced2q7",
    "outputId": "217b3c9c-7aaf-4b6c-ab5d-1a30bc8b9374"
   },
   "outputs": [
    {
     "name": "stdout",
     "output_type": "stream",
     "text": [
      "[0.         0.03225806 0.06451613 0.09677419 0.12903226 0.16129032\n",
      " 0.19354839 0.22580645 0.25806452 0.29032258 0.32258065 0.35483871\n",
      " 0.38709677 0.41935484 0.4516129  0.48387097 0.51612903 0.5483871\n",
      " 0.58064516 0.61290323 0.64516129 0.67741935 0.70967742 0.74193548\n",
      " 0.77419355 0.80645161 0.83870968 0.87096774 0.90322581 0.93548387\n",
      " 0.96774194 1.        ]\n"
     ]
    }
   ],
   "source": [
    "# x = np.where(latents_classes[:, -1] == 1)\n",
    "# print(f\"latent values: {x[0]}\")\n",
    "# print(f\"latent classes: {np.take(latents_values, x[0], axis=0)}\")\n",
    "# print(list(set(latents_values[:, -4])))\n",
    "print(position_labels)"
   ]
  },
  {
   "cell_type": "code",
   "execution_count": 8,
   "metadata": {},
   "outputs": [
    {
     "data": {
      "text/plain": [
       "0.8"
      ]
     },
     "execution_count": 8,
     "metadata": {},
     "output_type": "execute_result"
    }
   ],
   "source": [
    " round(random.uniform(0.5,1), 1)"
   ]
  },
  {
   "cell_type": "code",
   "execution_count": 9,
   "metadata": {
    "id": "PptOg7K0GJNB"
   },
   "outputs": [],
   "source": [
    "# citation: the below code for visualizing dsprites dataset is from : \n",
    "# https://github.com/deepmind/dsprites-dataset/blob/master/dsprites_reloading_example.ipynb\n",
    "\n",
    "latents_sizes = metadata[b'latents_sizes']\n",
    "latents_bases = np.concatenate((latents_sizes[::-1].cumprod()[::-1][1:],\n",
    "                                np.array([1,])))\n",
    "\n",
    "def latent_to_index(latents):\n",
    "    return np.dot(latents, latents_bases).astype(int)\n",
    "\n",
    "\n",
    "def sample_latent(size=1):\n",
    "    samples = np.zeros((size, latents_sizes.size))\n",
    "    for lat_i, lat_size in enumerate(latents_sizes):\n",
    "        samples[:, lat_i] = np.random.randint(lat_size, size=size)\n",
    "    return samples\n",
    "\n",
    "def show_images_grid(imgs_, num_images=25):\n",
    "    ncols = int(np.ceil(num_images**0.5))\n",
    "    nrows = int(np.ceil(num_images / ncols))\n",
    "    _, axes = plt.subplots(ncols, nrows, figsize=(nrows * 3, ncols * 3))\n",
    "    axes = axes.flatten()\n",
    "\n",
    "    for ax_i, ax in enumerate(axes):\n",
    "        if ax_i < num_images:\n",
    "            ax.imshow(imgs_[ax_i], cmap='Greys_r',  interpolation='nearest')\n",
    "            ax.set_xticks([])\n",
    "            ax.set_yticks([])\n",
    "    else:\n",
    "        ax.axis('off')"
   ]
  },
  {
   "cell_type": "code",
   "execution_count": 10,
   "metadata": {
    "colab": {
     "base_uri": "https://localhost:8080/",
     "height": 687
    },
    "id": "mZwxmoeKGYNi",
    "outputId": "2a73ea05-a224-4daa-9278-d62f31e936bc"
   },
   "outputs": [
    {
     "data": {
      "image/png": "[encoded data removed]",
      "text/plain": [
       "<Figure size 648x864 with 12 Axes>"
      ]
     },
     "metadata": {},
     "output_type": "display_data"
    }
   ],
   "source": [
    "# fixed_factor is the index of the factor we want to keep fixed \n",
    "# (i.e. if we want the POS Y fixed we pass in 1)\n",
    "def sample_dsprites(fixed_factor, batch_size):\n",
    "    length = 0\n",
    "    while (length < batch_size):\n",
    "        fixed_factor = -1 * fixed_factor\n",
    "        fixed_value = 0\n",
    "        if (fixed_factor == -1 or fixed_factor == -2):\n",
    "            fixed_value = random.choice(position_labels)\n",
    "        elif (fixed_factor == -3):\n",
    "            fixed_value = random.choice(orientation_labels)\n",
    "        elif (fixed_factor == -4):\n",
    "            fixed_value = random.choice([0.5, 0.6, 0.7, 0.8, 0.9, 1. ])\n",
    "\n",
    "        # fixed_indices = latents_values[:, fixed_factor] == fixed_value\n",
    "        # return latents_values[fixed_indices]\n",
    "        fixed_indices = np.where(latents_values[:, fixed_factor] == fixed_value)\n",
    "        fixed_imgs = list(imgs[fixed_indices])\n",
    "        length = np.shape(fixed_imgs)[0]\n",
    "\n",
    "    return random.sample(fixed_imgs, batch_size)\n",
    "\n",
    "# Samples where the scale is the same\n",
    "x = sample_dsprites(1, 5000)\n",
    "show_images_grid(x, 12)"
   ]
  },
  {
   "cell_type": "code",
   "execution_count": 11,
   "metadata": {
    "id": "_aazc8XqyIKy"
   },
   "outputs": [],
   "source": [
    "class LinClassifier(nn.Module):\n",
    "    def __init__(self, in_dims, out_dims, layer=nn.Linear):\n",
    "        super(LinClassifier, self).__init__()\n",
    "        \n",
    "        self.net = nn.Sequential(\n",
    "                layer(in_dims, out_dims)\n",
    "            )\n",
    "\n",
    "    #outputs probability logits\n",
    "    def forward(self, x):\n",
    "        x = x.view(x.size(0), -1)\n",
    "        out = self.net(x)\n",
    "    \n",
    "        return out"
   ]
  },
  {
   "cell_type": "code",
   "execution_count": 12,
   "metadata": {
    "id": "0M_e28V82UKQ"
   },
   "outputs": [],
   "source": [
    "#different method for getting latent z from image x for diff models\n",
    "#model type = \"VAE\" or \"GAN\"\n",
    "def get_z_from_x(x, model, model_type=\"VAE\"):\n",
    "    if model_type == \"VAE\":\n",
    "        m, log_std= model.encode(x)\n",
    "        z = model.sample(m, log_std)\n",
    "        return z\n",
    "\n",
    "    elif model_type == \"GAN\":\n",
    "        return invert_gan_sample(x, model)\n",
    "    else:\n",
    "        print(\"Incorrectly specified model_type, must be 'VAE' or 'GAN'.\")\n",
    "        return None\n",
    "\n",
    "#for a gan model, find a latent z producing an x similar to one\n",
    "#provided\n",
    "#x is a batch of images\n",
    "def invert_gan_sample(x, generator, num_iter = 100, lr = 1e-3):\n",
    "    #initialize z from prior p(z) = N(0, I)\n",
    "    z = torch.randn((x.size(0), generator.latent_dim), requires_grad=True)\n",
    "\n",
    "    optimizer = torch.optim.Adam([z], lr)\n",
    "\n",
    "    for iter in range(num_iter):\n",
    "        optimizer.zero_grad()\n",
    "\n",
    "        #MSE loss for reconstruction\n",
    "        recon_loss = ((x - generator(z))**2).sum()\n",
    "\n",
    "        recon_loss.backward()\n",
    "        optimizer.step()\n",
    "\n",
    "        print(\"GAN inversion loss: {}, iteration : {}/{}\".format(recon_loss, iter, num_iter))\n",
    "\n",
    "    return z\n"
   ]
  },
  {
   "cell_type": "code",
   "execution_count": 41,
   "metadata": {
    "id": "LtZbd5PjTmuw"
   },
   "outputs": [],
   "source": [
    "def get_classifier_batch(batch_size, sub_batch_size, model, model_type):\n",
    "    #batch size is the \"upper\" batch size \n",
    "    #we have batch_size number of unique labels\n",
    "    #each has a \"sub_batch_size\" number of images\n",
    "    labels = np.random.randint(1,5, size=batch_size)\n",
    "    classifier_inp_batch = torch.zeros((batch_size, model.latent_dim))\n",
    "    for i in range(batch_size):\n",
    "        sub_batch_x = sample_dsprites(labels[i], 2*sub_batch_size)\n",
    "\n",
    "        sub_batch_x = torch.Tensor(sub_batch_x).float().view((-1, 1, 64, 64))\n",
    "        \n",
    "        #get z for subbatch\n",
    "        sub_batch_z = get_z_from_x(sub_batch_x, model, model_type)\n",
    "        \n",
    "        #we use z_avg as the input to classifier\n",
    "        z_avg = (sub_batch_z[:sub_batch_size,:] - sub_batch_z[sub_batch_size:,:]).mean(dim=0)\n",
    "\n",
    "        classifier_inp_batch[i,:] = z_avg\n",
    "\n",
    "    return classifier_inp_batch, torch.Tensor(labels-1).long()"
   ]
  },
  {
   "cell_type": "code",
   "execution_count": 62,
   "metadata": {
    "id": "ilHj6pQu4sDS"
   },
   "outputs": [],
   "source": [
    "def classifier_val_acc(num_val_epochs, num_batches_per_val_epoch, model,model_type, lin_classifier):\n",
    "    for epoch in range(num_val_epochs):\n",
    "        val_acc = 0.0\n",
    "        num_batch = 0\n",
    "        \n",
    "        batch_size = 1\n",
    "        \n",
    "        for i in range(num_batches_per_val_epoch):\n",
    "            \n",
    "            #print(\"SAMPLING\")\n",
    "            classifier_inp_batch, labels = get_classifier_batch(batch_size, \n",
    "                                                        sub_batch_size=4, \n",
    "                                                        model=model,\n",
    "                                                        model_type =model_type)\n",
    "            \n",
    "            #print(\"SAMPLED\")\n",
    "            pred_logits = lin_classifier(classifier_inp_batch)\n",
    "            pred_labels = torch.argmax(pred_logits, dim=1)\n",
    "\n",
    "            num_correct = (pred_labels == labels).sum().float()\n",
    "            acc = num_correct/batch_size\n",
    "\n",
    "            val_acc += acc.item()\n",
    "            num_batch += 1\n",
    "            \n",
    "            #print(\"Done 1 iteration of validation\")\n",
    "        return val_acc/num_batch\n",
    "\n",
    "def train_lin_classifier(config, lin_classifier, model, model_type):\n",
    "    c_optimizer = torch.optim.Adam(lin_classifier.parameters(), config[\"lr\"])\n",
    "\n",
    "    #lin_classifier = lin_classifier.to(device)\n",
    "    #model = model.to(device)\n",
    "\n",
    "    num_epochs = config[\"epoch\"]\n",
    "\n",
    "    epoch_loss = torch.zeros(num_epochs)\n",
    "    val_acc = torch.zeros(num_epochs)\n",
    "\n",
    "    num_train_batches_per_epoch = 10\n",
    "\n",
    "    criterion = torch.nn.CrossEntropyLoss()\n",
    "\n",
    "    for epoch in range(num_epochs):\n",
    "\n",
    "        epoch_loss[epoch] = 0.0\n",
    "        batch_size = 0\n",
    "\n",
    "        for i in range(num_train_batches_per_epoch):\n",
    "            #print(\"TRAIN SAMPLING\")\n",
    "            classifier_inp_batch, labels = get_classifier_batch(config[\"batch\"], \n",
    "                                                        sub_batch_size=4, \n",
    "                                                        model=model,\n",
    "                                                        model_type =model_type)\n",
    "            #print(\"TRAIN SAMPLING DONE\")\n",
    "            pred_logits = lin_classifier(classifier_inp_batch)\n",
    "            \n",
    "            #print(pred_logits.size())\n",
    "            #print(labels.size())\n",
    "            loss_val = criterion(pred_logits, labels)\n",
    "\n",
    "            c_optimizer.zero_grad()\n",
    "            loss_val.backward()\n",
    "            c_optimizer.step()\n",
    "\n",
    "            batch_size += 1\n",
    "            epoch_loss[epoch] += loss_val.item()\n",
    "            \n",
    "            #print(\"Done 1 iteration of training\")\n",
    "            \n",
    "        epoch_loss[epoch] = epoch_loss[epoch]/batch_size\n",
    "        \n",
    "        #print(\"Validation accuracy now\")\n",
    "        \n",
    "        #compute val_loss\n",
    "        val_acc[epoch] =classifier_val_acc(1,num_batches_per_val_epoch=10,\n",
    "                                           model= model,\n",
    "                                           model_type=model_type,\n",
    "                                          lin_classifier = lin_classifier)\n",
    "        \n",
    "        print(\"Epoch {}/{} -- Train loss: {}, Val Acc: {}\".format(epoch+1, num_epochs, epoch_loss[epoch], val_acc[epoch]))\n",
    "    \n",
    "    return val_acc\n",
    "    "
   ]
  },
  {
   "cell_type": "code",
   "execution_count": 60,
   "metadata": {
    "id": "A30HmGZy7YmN"
   },
   "outputs": [],
   "source": [
    "def disentangle_metric(lin_classifier, model, model_type):\n",
    "    classifier_config = {\n",
    "        \"epoch\": 20,\n",
    "        \"lr\": 1e-4,\n",
    "        \"batch\": 1\n",
    "    }\n",
    "\n",
    "    #train classifier\n",
    "    val_acc = train_lin_classifier(classifier_config, lin_classifier, model, model_type)\n",
    "    \n",
    "    #report final val accuract as metric, on each type of factor\n",
    "    return val_acc[-1]"
   ]
  },
  {
   "cell_type": "code",
   "execution_count": 24,
   "metadata": {
    "id": "5OV4bUcJ1Wmz"
   },
   "outputs": [],
   "source": [
    "#linear classifier for dsprites data set must predict from one of 4 factors\n",
    "LATENT_DIMS = 10\n",
    "factor_classifier = LinClassifier(in_dims= LATENT_DIMS, out_dims=4)\n"
   ]
  },
  {
   "cell_type": "code",
   "execution_count": 25,
   "metadata": {
    "id": "JzpHJ9Yw12WO"
   },
   "outputs": [],
   "source": [
    "vae_model = VAEConv(latent_dim =10, n_channels=1)"
   ]
  },
  {
   "cell_type": "code",
   "execution_count": 26,
   "metadata": {},
   "outputs": [],
   "source": [
    "torch.cuda.empty_cache()"
   ]
  },
  {
   "cell_type": "code",
   "execution_count": 27,
   "metadata": {
    "colab": {
     "base_uri": "https://localhost:8080/"
    },
    "id": "bFZ6VeiJ2DqW",
    "outputId": "73ea07bb-7bfd-466b-d810-0d96ac77e800"
   },
   "outputs": [
    {
     "data": {
      "text/plain": [
       "<All keys matched successfully>"
      ]
     },
     "execution_count": 27,
     "metadata": {},
     "output_type": "execute_result"
    }
   ],
   "source": [
    "vae_model.load_state_dict(torch.load(\"/h/mhasan/CSC413_FINAL_PROJECT/weights/VAE_dsprites_weights\"))"
   ]
  },
  {
   "cell_type": "code",
   "execution_count": 27,
   "metadata": {},
   "outputs": [
    {
     "data": {
      "text/plain": [
       "VAEConv(\n",
       "  (e_conv1): Conv2d(1, 32, kernel_size=(4, 4), stride=(2, 2), padding=(1, 1))\n",
       "  (e_conv2): Conv2d(32, 32, kernel_size=(4, 4), stride=(2, 2), padding=(1, 1))\n",
       "  (e_conv3): Conv2d(32, 64, kernel_size=(4, 4), stride=(2, 2), padding=(1, 1))\n",
       "  (e_conv4): Conv2d(64, 64, kernel_size=(4, 4), stride=(2, 2), padding=(1, 1))\n",
       "  (e_conv5): Conv2d(64, 256, kernel_size=(4, 4), stride=(1, 1))\n",
       "  (e_fc_mean): Linear(in_features=256, out_features=10, bias=True)\n",
       "  (e_fc_log_std): Linear(in_features=256, out_features=10, bias=True)\n",
       "  (d_fc1): Linear(in_features=10, out_features=256, bias=True)\n",
       "  (d_conv1): ConvTranspose2d(256, 64, kernel_size=(4, 4), stride=(1, 1))\n",
       "  (d_conv2): ConvTranspose2d(64, 64, kernel_size=(4, 4), stride=(2, 2), padding=(1, 1))\n",
       "  (d_conv3): ConvTranspose2d(64, 32, kernel_size=(4, 4), stride=(2, 2), padding=(1, 1))\n",
       "  (d_conv4): ConvTranspose2d(32, 32, kernel_size=(4, 4), stride=(2, 2), padding=(1, 1))\n",
       "  (d_conv5): ConvTranspose2d(32, 1, kernel_size=(4, 4), stride=(2, 2), padding=(1, 1))\n",
       ")"
      ]
     },
     "execution_count": 27,
     "metadata": {},
     "output_type": "execute_result"
    }
   ],
   "source": [
    "vae_model.to('cpu')"
   ]
  },
  {
   "cell_type": "code",
   "execution_count": 32,
   "metadata": {},
   "outputs": [
    {
     "name": "stdout",
     "output_type": "stream",
     "text": [
      "Epoch 1/10 -- Train loss: 1.3608276844024658, Val Acc: 0.20000000298023224\n",
      "Epoch 2/10 -- Train loss: 1.4089428186416626, Val Acc: 0.30000001192092896\n",
      "Epoch 3/10 -- Train loss: 1.442596435546875, Val Acc: 0.30000001192092896\n",
      "Epoch 4/10 -- Train loss: 1.4392997026443481, Val Acc: 0.20000000298023224\n",
      "Epoch 5/10 -- Train loss: 1.5347703695297241, Val Acc: 0.20000000298023224\n",
      "Epoch 6/10 -- Train loss: 1.444217324256897, Val Acc: 0.30000001192092896\n",
      "Epoch 7/10 -- Train loss: 1.424702763557434, Val Acc: 0.30000001192092896\n",
      "Epoch 8/10 -- Train loss: 1.4058183431625366, Val Acc: 0.30000001192092896\n",
      "Epoch 9/10 -- Train loss: 1.46112060546875, Val Acc: 0.20000000298023224\n",
      "Epoch 10/10 -- Train loss: 1.3980923891067505, Val Acc: 0.20000000298023224\n"
     ]
    }
   ],
   "source": [
    "dis_score =  disentangle_metric(factor_classifier, vae_model, \"VAE\")"
   ]
  },
  {
   "cell_type": "code",
   "execution_count": 38,
   "metadata": {},
   "outputs": [
    {
     "name": "stdout",
     "output_type": "stream",
     "text": [
      "Epoch 1/10 -- Train loss: 1.4291788339614868, Val Acc: 0.2750000059604645\n",
      "Epoch 2/10 -- Train loss: 1.4581166505813599, Val Acc: 0.265625\n",
      "Epoch 3/10 -- Train loss: 1.2920076847076416, Val Acc: 0.2562499940395355\n",
      "Epoch 4/10 -- Train loss: 1.3813661336898804, Val Acc: 0.25312501192092896\n",
      "Epoch 5/10 -- Train loss: 1.3829975128173828, Val Acc: 0.24375000596046448\n",
      "Epoch 6/10 -- Train loss: 1.4744945764541626, Val Acc: 0.26249998807907104\n",
      "Epoch 7/10 -- Train loss: 1.3351709842681885, Val Acc: 0.23749999701976776\n",
      "Epoch 8/10 -- Train loss: 1.4492055177688599, Val Acc: 0.21875\n",
      "Epoch 9/10 -- Train loss: 1.3945523500442505, Val Acc: 0.3062500059604645\n",
      "Epoch 10/10 -- Train loss: 1.3883483409881592, Val Acc: 0.28125\n"
     ]
    }
   ],
   "source": [
    "dis_score =  disentangle_metric(factor_classifier, vae_model, \"VAE\")"
   ]
  },
  {
   "cell_type": "code",
   "execution_count": 63,
   "metadata": {},
   "outputs": [
    {
     "name": "stdout",
     "output_type": "stream",
     "text": [
      "Epoch 1/20 -- Train loss: 1.4636067152023315, Val Acc: 0.4000000059604645\n",
      "Epoch 2/20 -- Train loss: 1.4684526920318604, Val Acc: 0.20000000298023224\n",
      "Epoch 3/20 -- Train loss: 1.4953031539916992, Val Acc: 0.4000000059604645\n",
      "Epoch 4/20 -- Train loss: 1.460712194442749, Val Acc: 0.30000001192092896\n",
      "Epoch 5/20 -- Train loss: 1.3878238201141357, Val Acc: 0.4000000059604645\n",
      "Epoch 6/20 -- Train loss: 1.2446112632751465, Val Acc: 0.20000000298023224\n",
      "Epoch 7/20 -- Train loss: 1.4030139446258545, Val Acc: 0.30000001192092896\n",
      "Epoch 8/20 -- Train loss: 1.4187142848968506, Val Acc: 0.30000001192092896\n",
      "Epoch 9/20 -- Train loss: 1.5934044122695923, Val Acc: 0.30000001192092896\n",
      "Epoch 10/20 -- Train loss: 1.3305953741073608, Val Acc: 0.4000000059604645\n",
      "Epoch 11/20 -- Train loss: 1.4523532390594482, Val Acc: 0.4000000059604645\n",
      "Epoch 12/20 -- Train loss: 1.431390643119812, Val Acc: 0.20000000298023224\n",
      "Epoch 13/20 -- Train loss: 1.397646427154541, Val Acc: 0.30000001192092896\n",
      "Epoch 14/20 -- Train loss: 1.4087170362472534, Val Acc: 0.20000000298023224\n",
      "Epoch 15/20 -- Train loss: 1.3993898630142212, Val Acc: 0.5\n",
      "Epoch 16/20 -- Train loss: 1.4825307130813599, Val Acc: 0.0\n",
      "Epoch 17/20 -- Train loss: 1.3847442865371704, Val Acc: 0.20000000298023224\n",
      "Epoch 18/20 -- Train loss: 1.4309555292129517, Val Acc: 0.30000001192092896\n",
      "Epoch 19/20 -- Train loss: 1.3845757246017456, Val Acc: 0.20000000298023224\n",
      "Epoch 20/20 -- Train loss: 1.4539874792099, Val Acc: 0.10000000149011612\n"
     ]
    }
   ],
   "source": [
    "dis_score =  disentangle_metric(factor_classifier, vae_model, \"VAE\")"
   ]
  },
  {
   "cell_type": "code",
   "execution_count": null,
   "metadata": {},
   "outputs": [],
   "source": [
    "dis_score =  disentangle_metric(factor_classifier, vae_model, \"VAE\")"
   ]
  },
  {
   "cell_type": "code",
   "execution_count": 65,
   "metadata": {},
   "outputs": [
    {
     "name": "stdout",
     "output_type": "stream",
     "text": [
      "Accuracy: 0.5\n",
      "Accuracy: 0.25\n",
      "Accuracy: 0.0\n",
      "Accuracy: 0.25\n",
      "Accuracy: 0.25\n",
      "Accuracy: 0.25\n",
      "Accuracy: 0.5\n",
      "Accuracy: 0.25\n",
      "Accuracy: 0.25\n",
      "Accuracy: 0.5\n"
     ]
    },
    {
     "data": {
      "text/plain": [
       "tensor(0.3000)"
      ]
     },
     "execution_count": 65,
     "metadata": {},
     "output_type": "execute_result"
    }
   ],
   "source": [
    "avg_acc = 0\n",
    "for i in range(10):\n",
    "    classifier_inp_batch, labels = get_classifier_batch(4, \n",
    "                                                            sub_batch_size=5, \n",
    "                                                            model=vae_model,\n",
    "                                                            model_type =\"VAE\")\n",
    "\n",
    "    logits = factor_classifier(classifier_inp_batch)\n",
    "    pred = torch.argmax(logits, dim=1)\n",
    "    num_correct = (pred == labels).sum().float()\n",
    "    acc = num_correct/4\n",
    "    print(\"Accuracy: {}\".format(acc))\n",
    "    avg_acc += acc\n",
    "    \n",
    "avg_acc/10"
   ]
  },
  {
   "cell_type": "code",
   "execution_count": 54,
   "metadata": {},
   "outputs": [
    {
     "data": {
      "text/plain": [
       "tensor([0, 3, 0, 2])"
      ]
     },
     "execution_count": 54,
     "metadata": {},
     "output_type": "execute_result"
    }
   ],
   "source": [
    "labels"
   ]
  },
  {
   "cell_type": "code",
   "execution_count": 55,
   "metadata": {},
   "outputs": [
    {
     "data": {
      "text/plain": [
       "torch.Size([4, 10])"
      ]
     },
     "execution_count": 55,
     "metadata": {},
     "output_type": "execute_result"
    }
   ],
   "source": [
    "classifier_inp_batch.size()"
   ]
  },
  {
   "cell_type": "code",
   "execution_count": 56,
   "metadata": {},
   "outputs": [],
   "source": [
    "logits = factor_classifier(classifier_inp_batch)"
   ]
  },
  {
   "cell_type": "code",
   "execution_count": 57,
   "metadata": {},
   "outputs": [
    {
     "data": {
      "text/plain": [
       "tensor([[ 0.1538, -0.2941,  0.3927, -0.2490],\n",
       "        [-0.2434, -0.0903, -0.6815,  0.0502],\n",
       "        [ 0.3755,  0.1373, -0.1019,  0.0766],\n",
       "        [ 0.7678, -0.0672,  0.3960, -0.0888]], grad_fn=<AddmmBackward>)"
      ]
     },
     "execution_count": 57,
     "metadata": {},
     "output_type": "execute_result"
    }
   ],
   "source": [
    "logits"
   ]
  },
  {
   "cell_type": "code",
   "execution_count": 58,
   "metadata": {},
   "outputs": [],
   "source": [
    "pred = torch.argmax(logits, dim=1)"
   ]
  },
  {
   "cell_type": "code",
   "execution_count": 59,
   "metadata": {},
   "outputs": [
    {
     "data": {
      "text/plain": [
       "tensor([2, 3, 0, 0])"
      ]
     },
     "execution_count": 59,
     "metadata": {},
     "output_type": "execute_result"
    }
   ],
   "source": [
    "pred"
   ]
  },
  {
   "cell_type": "code",
   "execution_count": 51,
   "metadata": {},
   "outputs": [],
   "source": [
    "num_correct = (pred == labels).sum().float()\n",
    "acc = num_correct/4"
   ]
  },
  {
   "cell_type": "code",
   "execution_count": 52,
   "metadata": {},
   "outputs": [
    {
     "data": {
      "text/plain": [
       "tensor(0.7500)"
      ]
     },
     "execution_count": 52,
     "metadata": {},
     "output_type": "execute_result"
    }
   ],
   "source": [
    "acc"
   ]
  },
  {
   "cell_type": "markdown",
   "metadata": {},
   "source": []
  },
  {
   "cell_type": "code",
   "execution_count": 105,
   "metadata": {
    "id": "LYv4mA_nSRXF"
   },
   "outputs": [],
   "source": [
    "vae_dsprites.to('cpu')\n",
    "sampled_ims_pre = vae_dsprites.sample_ims_from_prior(num_ims=5, train=True)"
   ]
  },
  {
   "cell_type": "code",
   "execution_count": 107,
   "metadata": {
    "colab": {
     "base_uri": "https://localhost:8080/",
     "height": 339
    },
    "id": "t2Sk0WTqTwgS",
    "outputId": "3da96b9f-7133-454f-9fae-e8ea5ebc4e1b"
   },
   "outputs": [
    {
     "name": "stderr",
     "output_type": "stream",
     "text": [
      "/usr/local/lib/python3.7/dist-packages/torch/nn/functional.py:1709: UserWarning: nn.functional.sigmoid is deprecated. Use torch.sigmoid instead.\n",
      "  warnings.warn(\"nn.functional.sigmoid is deprecated. Use torch.sigmoid instead.\")\n"
     ]
    },
    {
     "data": {
      "text/plain": [
       "<matplotlib.image.AxesImage at 0x7f959103d250>"
      ]
     },
     "execution_count": 107,
     "metadata": {
      "tags": []
     },
     "output_type": "execute_result"
    },
    {
     "data": {
      "image/png": "[encoded data removed]",
      "text/plain": [
       "<Figure size 432x288 with 1 Axes>"
      ]
     },
     "metadata": {
      "needs_background": "light",
      "tags": []
     },
     "output_type": "display_data"
    }
   ],
   "source": [
    "plt.imshow(F.sigmoid(sampled_ims_pre[0,:,:]).squeeze().detach().numpy())"
   ]
  },
  {
   "cell_type": "code",
   "execution_count": 151,
   "metadata": {
    "colab": {
     "base_uri": "https://localhost:8080/",
     "height": 1000
    },
    "id": "OUd3xnPlBe3L",
    "outputId": "d6019210-1565-40ef-eb19-55772a29162b"
   },
   "outputs": [
    {
     "name": "stderr",
     "output_type": "stream",
     "text": [
      "/usr/local/lib/python3.7/dist-packages/torch/nn/_reduction.py:42: UserWarning: size_average and reduce args will be deprecated, please use reduction='sum' instead.\n",
      "  warnings.warn(warning.format(ret))\n"
     ]
    },
    {
     "name": "stdout",
     "output_type": "stream",
     "text": [
      "Epoch 1/50 -- Train loss: 80.44981384277344\n",
      "Epoch 2/50 -- Train loss: 77.05050659179688\n",
      "Epoch 3/50 -- Train loss: 75.21749877929688\n",
      "Epoch 4/50 -- Train loss: 74.42823028564453\n",
      "Epoch 5/50 -- Train loss: 72.97116088867188\n",
      "Epoch 6/50 -- Train loss: 72.01223754882812\n",
      "Epoch 7/50 -- Train loss: 70.90728759765625\n",
      "Epoch 8/50 -- Train loss: 69.9815444946289\n",
      "Epoch 9/50 -- Train loss: 69.18295288085938\n",
      "Epoch 10/50 -- Train loss: 68.69573211669922\n",
      "Epoch 11/50 -- Train loss: 67.69110870361328\n",
      "Epoch 12/50 -- Train loss: 66.66361999511719\n",
      "Epoch 13/50 -- Train loss: 65.78742980957031\n",
      "Epoch 14/50 -- Train loss: 65.03234100341797\n",
      "Epoch 15/50 -- Train loss: 64.48719787597656\n",
      "Epoch 16/50 -- Train loss: 64.84906005859375\n",
      "Epoch 17/50 -- Train loss: 64.23796844482422\n",
      "Epoch 18/50 -- Train loss: 63.705101013183594\n",
      "Epoch 19/50 -- Train loss: 63.404075622558594\n",
      "Epoch 20/50 -- Train loss: 62.02071762084961\n",
      "Epoch 21/50 -- Train loss: 61.193668365478516\n",
      "Epoch 22/50 -- Train loss: 60.883888244628906\n",
      "Epoch 23/50 -- Train loss: 60.56787872314453\n",
      "Epoch 24/50 -- Train loss: 60.6878776550293\n",
      "Epoch 25/50 -- Train loss: 59.84300231933594\n",
      "Epoch 26/50 -- Train loss: 60.203094482421875\n",
      "Epoch 27/50 -- Train loss: 59.79157638549805\n",
      "Epoch 28/50 -- Train loss: 59.10979461669922\n",
      "Epoch 29/50 -- Train loss: 59.3978157043457\n",
      "Epoch 30/50 -- Train loss: 58.98250198364258\n",
      "Epoch 31/50 -- Train loss: 58.342613220214844\n",
      "Epoch 32/50 -- Train loss: 56.98594665527344\n",
      "Epoch 33/50 -- Train loss: 56.72773742675781\n",
      "Epoch 34/50 -- Train loss: 56.68170166015625\n",
      "Epoch 35/50 -- Train loss: 57.16736602783203\n",
      "Epoch 36/50 -- Train loss: 57.299903869628906\n",
      "Epoch 37/50 -- Train loss: 56.86616134643555\n",
      "Epoch 38/50 -- Train loss: 56.90266418457031\n",
      "Epoch 39/50 -- Train loss: 56.095680236816406\n",
      "Epoch 40/50 -- Train loss: 54.73539352416992\n",
      "Epoch 41/50 -- Train loss: 54.6307373046875\n",
      "Epoch 42/50 -- Train loss: 54.70745086669922\n",
      "Epoch 43/50 -- Train loss: 54.6865234375\n",
      "Epoch 44/50 -- Train loss: 54.49074172973633\n",
      "Epoch 45/50 -- Train loss: 54.56074142456055\n",
      "Epoch 46/50 -- Train loss: 54.195594787597656\n",
      "Epoch 47/50 -- Train loss: 54.36985397338867\n",
      "Epoch 48/50 -- Train loss: 54.95448684692383\n",
      "Epoch 49/50 -- Train loss: 55.46038055419922\n",
      "Epoch 50/50 -- Train loss: 54.66753387451172\n"
     ]
    },
    {
     "data": {
      "image/png": "[encoded data removed]",
      "text/plain": [
       "<Figure size 432x288 with 1 Axes>"
      ]
     },
     "metadata": {
      "needs_background": "light",
      "tags": []
     },
     "output_type": "display_data"
    }
   ],
   "source": [
    "config[\"batch\"] = 100\n",
    "config[\"epoch\"] = 50\n",
    "config[\"lr\"] = 1e-3\n",
    "vae_train_dsprites(vae_dsprites, config, train_imgs=imgs[:30000])"
   ]
  },
  {
   "cell_type": "code",
   "execution_count": 152,
   "metadata": {
    "id": "abCKijnZSt_I"
   },
   "outputs": [],
   "source": [
    "vae_dsprites.to('cpu')\n",
    "sampled_ims_post = vae_dsprites.sample_ims_from_prior(num_ims=5, train=True)"
   ]
  },
  {
   "cell_type": "code",
   "execution_count": 156,
   "metadata": {
    "colab": {
     "base_uri": "https://localhost:8080/",
     "height": 339
    },
    "id": "H_TVtnFuTXNq",
    "outputId": "1e5b997b-cfd5-42f7-e41f-61e31d4944ab"
   },
   "outputs": [
    {
     "name": "stderr",
     "output_type": "stream",
     "text": [
      "/usr/local/lib/python3.7/dist-packages/torch/nn/functional.py:1709: UserWarning: nn.functional.sigmoid is deprecated. Use torch.sigmoid instead.\n",
      "  warnings.warn(\"nn.functional.sigmoid is deprecated. Use torch.sigmoid instead.\")\n"
     ]
    },
    {
     "data": {
      "text/plain": [
       "<matplotlib.image.AxesImage at 0x7f9590abeb50>"
      ]
     },
     "execution_count": 156,
     "metadata": {
      "tags": []
     },
     "output_type": "execute_result"
    },
    {
     "data": {
      "image/png": "[encoded data removed]",
      "text/plain": [
       "<Figure size 432x288 with 1 Axes>"
      ]
     },
     "metadata": {
      "needs_background": "light",
      "tags": []
     },
     "output_type": "display_data"
    }
   ],
   "source": [
    "plt.imshow(F.sigmoid(sampled_ims_post[4,:,:]).squeeze().detach().numpy())"
   ]
  },
  {
   "cell_type": "code",
   "execution_count": 169,
   "metadata": {
    "id": "tHWF9BE7UAva"
   },
   "outputs": [],
   "source": [
    "samples_like = vae_dsprites.sample_ims_like(torch.tensor(imgs[3,:,:]).float().view(1,1,64,64), num_ims=5, train=True)"
   ]
  },
  {
   "cell_type": "code",
   "execution_count": 170,
   "metadata": {
    "colab": {
     "base_uri": "https://localhost:8080/"
    },
    "id": "mhxtF4aHVJdG",
    "outputId": "7aa3492e-ff0d-4778-fc33-586a4e8c7d07"
   },
   "outputs": [
    {
     "name": "stderr",
     "output_type": "stream",
     "text": [
      "/usr/local/lib/python3.7/dist-packages/torch/nn/functional.py:1709: UserWarning: nn.functional.sigmoid is deprecated. Use torch.sigmoid instead.\n",
      "  warnings.warn(\"nn.functional.sigmoid is deprecated. Use torch.sigmoid instead.\")\n"
     ]
    }
   ],
   "source": [
    "samples_like = F.sigmoid(samples_like).squeeze().detach().numpy()"
   ]
  },
  {
   "cell_type": "code",
   "execution_count": 171,
   "metadata": {
    "id": "RNM5eWP6_jd-"
   },
   "outputs": [],
   "source": [
    "torch.save(vae_dsprites.state_dict(), \"/content/VAE_dsprites_weights\")"
   ]
  },
  {
   "cell_type": "code",
   "execution_count": 173,
   "metadata": {
    "colab": {
     "base_uri": "https://localhost:8080/",
     "height": 285
    },
    "id": "P931pAJbVPuC",
    "outputId": "322ee90e-5a91-4dac-8a91-587588de28e5"
   },
   "outputs": [
    {
     "data": {
      "text/plain": [
       "<matplotlib.image.AxesImage at 0x7f959175a250>"
      ]
     },
     "execution_count": 173,
     "metadata": {
      "tags": []
     },
     "output_type": "execute_result"
    },
    {
     "data": {
      "image/png": "[encoded data removed]",
      "text/plain": [
       "<Figure size 432x288 with 1 Axes>"
      ]
     },
     "metadata": {
      "needs_background": "light",
      "tags": []
     },
     "output_type": "display_data"
    }
   ],
   "source": [
    "plt.imshow(samples_like[3,:,:])"
   ]
  },
  {
   "cell_type": "code",
   "execution_count": 174,
   "metadata": {
    "colab": {
     "base_uri": "https://localhost:8080/",
     "height": 285
    },
    "id": "M96_et0UVR4T",
    "outputId": "eed1eced-96fa-4504-b9d6-28fd296584e3"
   },
   "outputs": [
    {
     "data": {
      "text/plain": [
       "<matplotlib.image.AxesImage at 0x7f9591447110>"
      ]
     },
     "execution_count": 174,
     "metadata": {
      "tags": []
     },
     "output_type": "execute_result"
    },
    {
     "data": {
      "image/png": "[encoded data removed]",
      "text/plain": [
       "<Figure size 432x288 with 1 Axes>"
      ]
     },
     "metadata": {
      "needs_background": "light",
      "tags": []
     },
     "output_type": "display_data"
    }
   ],
   "source": [
    "plt.imshow(torch.tensor(imgs[3,:,:]).float().detach().numpy())"
   ]
  }
 ],
 "metadata": {
  "accelerator": "GPU",
  "colab": {
   "collapsed_sections": [],
   "name": "CSC413_Project.ipynb",
   "provenance": [],
   "toc_visible": true
  },
  "kernelspec": {
   "display_name": "Python Capstone Env",
   "language": "python",
   "name": "capstone_env"
  },
  "language_info": {
   "codemirror_mode": {
    "name": "ipython",
    "version": 3
   },
   "file_extension": ".py",
   "mimetype": "text/x-python",
   "name": "python",
   "nbconvert_exporter": "python",
   "pygments_lexer": "ipython3",
   "version": "3.7.9"
  },
  "widgets": {
   "application/vnd.jupyter.widget-state+json": {
    "00b524570e0e4010b82d77b517e9b78e": {
     "model_module": "@jupyter-widgets/controls",
     "model_name": "HBoxModel",
     "state": {
      "_dom_classes": [],
      "_model_module": "@jupyter-widgets/controls",
      "_model_module_version": "1.5.0",
      "_model_name": "HBoxModel",
      "_view_count": null,
      "_view_module": "@jupyter-widgets/controls",
      "_view_module_version": "1.5.0",
      "_view_name": "HBoxView",
      "box_style": "",
      "children": [
       "IPY_MODEL_78aef4e83fd74025a9d56389b2613fd4",
       "IPY_MODEL_9e57aec5581a4f81b2bf6e5537a386c4"
      ],
      "layout": "IPY_MODEL_b0469d48d491449f85009c4881c8ee41"
     }
    },
    "0f358e018ccf47cc9d02f1dae554e7f1": {
     "model_module": "@jupyter-widgets/controls",
     "model_name": "FloatProgressModel",
     "state": {
      "_dom_classes": [],
      "_model_module": "@jupyter-widgets/controls",
      "_model_module_version": "1.5.0",
      "_model_name": "FloatProgressModel",
      "_view_count": null,
      "_view_module": "@jupyter-widgets/controls",
      "_view_module_version": "1.5.0",
      "_view_name": "ProgressView",
      "bar_style": "success",
      "description": "",
      "description_tooltip": null,
      "layout": "IPY_MODEL_623d299dcfa74fc6a7a112ab15d13647",
      "max": 28881,
      "min": 0,
      "orientation": "horizontal",
      "style": "IPY_MODEL_cf8b3a3f586146a9a3f0de6fa039035f",
      "value": 28881
     }
    },
    "1da9991716a240b487fd37bbd03bdf31": {
     "model_module": "@jupyter-widgets/controls",
     "model_name": "DescriptionStyleModel",
     "state": {
      "_model_module": "@jupyter-widgets/controls",
      "_model_module_version": "1.5.0",
      "_model_name": "DescriptionStyleModel",
      "_view_count": null,
      "_view_module": "@jupyter-widgets/base",
      "_view_module_version": "1.2.0",
      "_view_name": "StyleView",
      "description_width": ""
     }
    },
    "1fc12dae24a8496a9cef0c1f4266bf85": {
     "model_module": "@jupyter-widgets/base",
     "model_name": "LayoutModel",
     "state": {
      "_model_module": "@jupyter-widgets/base",
      "_model_module_version": "1.2.0",
      "_model_name": "LayoutModel",
      "_view_count": null,
      "_view_module": "@jupyter-widgets/base",
      "_view_module_version": "1.2.0",
      "_view_name": "LayoutView",
      "align_content": null,
      "align_items": null,
      "align_self": null,
      "border": null,
      "bottom": null,
      "display": null,
      "flex": null,
      "flex_flow": null,
      "grid_area": null,
      "grid_auto_columns": null,
      "grid_auto_flow": null,
      "grid_auto_rows": null,
      "grid_column": null,
      "grid_gap": null,
      "grid_row": null,
      "grid_template_areas": null,
      "grid_template_columns": null,
      "grid_template_rows": null,
      "height": null,
      "justify_content": null,
      "justify_items": null,
      "left": null,
      "margin": null,
      "max_height": null,
      "max_width": null,
      "min_height": null,
      "min_width": null,
      "object_fit": null,
      "object_position": null,
      "order": null,
      "overflow": null,
      "overflow_x": null,
      "overflow_y": null,
      "padding": null,
      "right": null,
      "top": null,
      "visibility": null,
      "width": null
     }
    },
    "2978dc45196f4547908e311df1e6c5df": {
     "model_module": "@jupyter-widgets/controls",
     "model_name": "HBoxModel",
     "state": {
      "_dom_classes": [],
      "_model_module": "@jupyter-widgets/controls",
      "_model_module_version": "1.5.0",
      "_model_name": "HBoxModel",
      "_view_count": null,
      "_view_module": "@jupyter-widgets/controls",
      "_view_module_version": "1.5.0",
      "_view_name": "HBoxView",
      "box_style": "",
      "children": [
       "IPY_MODEL_0f358e018ccf47cc9d02f1dae554e7f1",
       "IPY_MODEL_9df53b0e2ce44265903806e8912fa63b"
      ],
      "layout": "IPY_MODEL_60aead14d7884f8ba585308d78ca0143"
     }
    },
    "3ee1d2c06dee48308d4ceb0079fed7c1": {
     "model_module": "@jupyter-widgets/controls",
     "model_name": "HBoxModel",
     "state": {
      "_dom_classes": [],
      "_model_module": "@jupyter-widgets/controls",
      "_model_module_version": "1.5.0",
      "_model_name": "HBoxModel",
      "_view_count": null,
      "_view_module": "@jupyter-widgets/controls",
      "_view_module_version": "1.5.0",
      "_view_name": "HBoxView",
      "box_style": "",
      "children": [
       "IPY_MODEL_c3b5d92531ae4aa98b0c2f4d40e5931c",
       "IPY_MODEL_8f0dd476f8dc4440a2c6e7b82d317465"
      ],
      "layout": "IPY_MODEL_f63d6b6ebaef4c8ab30f5ce697d9aca7"
     }
    },
    "41dd59da37644d8e83ebe75cda09641d": {
     "model_module": "@jupyter-widgets/controls",
     "model_name": "HBoxModel",
     "state": {
      "_dom_classes": [],
      "_model_module": "@jupyter-widgets/controls",
      "_model_module_version": "1.5.0",
      "_model_name": "HBoxModel",
      "_view_count": null,
      "_view_module": "@jupyter-widgets/controls",
      "_view_module_version": "1.5.0",
      "_view_name": "HBoxView",
      "box_style": "",
      "children": [
       "IPY_MODEL_5e35ae38b410404ca4141a68abbd54ff",
       "IPY_MODEL_74b34dffeaf545df91c8b250e49eeaf2"
      ],
      "layout": "IPY_MODEL_1fc12dae24a8496a9cef0c1f4266bf85"
     }
    },
    "42503ed1f57a439db57cd499881c38ae": {
     "model_module": "@jupyter-widgets/base",
     "model_name": "LayoutModel",
     "state": {
      "_model_module": "@jupyter-widgets/base",
      "_model_module_version": "1.2.0",
      "_model_name": "LayoutModel",
      "_view_count": null,
      "_view_module": "@jupyter-widgets/base",
      "_view_module_version": "1.2.0",
      "_view_name": "LayoutView",
      "align_content": null,
      "align_items": null,
      "align_self": null,
      "border": null,
      "bottom": null,
      "display": null,
      "flex": null,
      "flex_flow": null,
      "grid_area": null,
      "grid_auto_columns": null,
      "grid_auto_flow": null,
      "grid_auto_rows": null,
      "grid_column": null,
      "grid_gap": null,
      "grid_row": null,
      "grid_template_areas": null,
      "grid_template_columns": null,
      "grid_template_rows": null,
      "height": null,
      "justify_content": null,
      "justify_items": null,
      "left": null,
      "margin": null,
      "max_height": null,
      "max_width": null,
      "min_height": null,
      "min_width": null,
      "object_fit": null,
      "object_position": null,
      "order": null,
      "overflow": null,
      "overflow_x": null,
      "overflow_y": null,
      "padding": null,
      "right": null,
      "top": null,
      "visibility": null,
      "width": null
     }
    },
    "4aafd40c6dd2434aa0664b14f2501d3e": {
     "model_module": "@jupyter-widgets/controls",
     "model_name": "DescriptionStyleModel",
     "state": {
      "_model_module": "@jupyter-widgets/controls",
      "_model_module_version": "1.5.0",
      "_model_name": "DescriptionStyleModel",
      "_view_count": null,
      "_view_module": "@jupyter-widgets/base",
      "_view_module_version": "1.2.0",
      "_view_name": "StyleView",
      "description_width": ""
     }
    },
    "5b2b1060a5314c6390aee34349c89829": {
     "model_module": "@jupyter-widgets/base",
     "model_name": "LayoutModel",
     "state": {
      "_model_module": "@jupyter-widgets/base",
      "_model_module_version": "1.2.0",
      "_model_name": "LayoutModel",
      "_view_count": null,
      "_view_module": "@jupyter-widgets/base",
      "_view_module_version": "1.2.0",
      "_view_name": "LayoutView",
      "align_content": null,
      "align_items": null,
      "align_self": null,
      "border": null,
      "bottom": null,
      "display": null,
      "flex": null,
      "flex_flow": null,
      "grid_area": null,
      "grid_auto_columns": null,
      "grid_auto_flow": null,
      "grid_auto_rows": null,
      "grid_column": null,
      "grid_gap": null,
      "grid_row": null,
      "grid_template_areas": null,
      "grid_template_columns": null,
      "grid_template_rows": null,
      "height": null,
      "justify_content": null,
      "justify_items": null,
      "left": null,
      "margin": null,
      "max_height": null,
      "max_width": null,
      "min_height": null,
      "min_width": null,
      "object_fit": null,
      "object_position": null,
      "order": null,
      "overflow": null,
      "overflow_x": null,
      "overflow_y": null,
      "padding": null,
      "right": null,
      "top": null,
      "visibility": null,
      "width": null
     }
    },
    "5e35ae38b410404ca4141a68abbd54ff": {
     "model_module": "@jupyter-widgets/controls",
     "model_name": "FloatProgressModel",
     "state": {
      "_dom_classes": [],
      "_model_module": "@jupyter-widgets/controls",
      "_model_module_version": "1.5.0",
      "_model_name": "FloatProgressModel",
      "_view_count": null,
      "_view_module": "@jupyter-widgets/controls",
      "_view_module_version": "1.5.0",
      "_view_name": "ProgressView",
      "bar_style": "success",
      "description": "",
      "description_tooltip": null,
      "layout": "IPY_MODEL_6f87767ef8fd44fe98baba151cea31c2",
      "max": 1648877,
      "min": 0,
      "orientation": "horizontal",
      "style": "IPY_MODEL_cb6cc2df116343c6a9288fb615d0e534",
      "value": 1648877
     }
    },
    "5ed5eff84f96401d8866e10a3abbf408": {
     "model_module": "@jupyter-widgets/controls",
     "model_name": "ProgressStyleModel",
     "state": {
      "_model_module": "@jupyter-widgets/controls",
      "_model_module_version": "1.5.0",
      "_model_name": "ProgressStyleModel",
      "_view_count": null,
      "_view_module": "@jupyter-widgets/base",
      "_view_module_version": "1.2.0",
      "_view_name": "StyleView",
      "bar_color": null,
      "description_width": "initial"
     }
    },
    "60aead14d7884f8ba585308d78ca0143": {
     "model_module": "@jupyter-widgets/base",
     "model_name": "LayoutModel",
     "state": {
      "_model_module": "@jupyter-widgets/base",
      "_model_module_version": "1.2.0",
      "_model_name": "LayoutModel",
      "_view_count": null,
      "_view_module": "@jupyter-widgets/base",
      "_view_module_version": "1.2.0",
      "_view_name": "LayoutView",
      "align_content": null,
      "align_items": null,
      "align_self": null,
      "border": null,
      "bottom": null,
      "display": null,
      "flex": null,
      "flex_flow": null,
      "grid_area": null,
      "grid_auto_columns": null,
      "grid_auto_flow": null,
      "grid_auto_rows": null,
      "grid_column": null,
      "grid_gap": null,
      "grid_row": null,
      "grid_template_areas": null,
      "grid_template_columns": null,
      "grid_template_rows": null,
      "height": null,
      "justify_content": null,
      "justify_items": null,
      "left": null,
      "margin": null,
      "max_height": null,
      "max_width": null,
      "min_height": null,
      "min_width": null,
      "object_fit": null,
      "object_position": null,
      "order": null,
      "overflow": null,
      "overflow_x": null,
      "overflow_y": null,
      "padding": null,
      "right": null,
      "top": null,
      "visibility": null,
      "width": null
     }
    },
    "623d299dcfa74fc6a7a112ab15d13647": {
     "model_module": "@jupyter-widgets/base",
     "model_name": "LayoutModel",
     "state": {
      "_model_module": "@jupyter-widgets/base",
      "_model_module_version": "1.2.0",
      "_model_name": "LayoutModel",
      "_view_count": null,
      "_view_module": "@jupyter-widgets/base",
      "_view_module_version": "1.2.0",
      "_view_name": "LayoutView",
      "align_content": null,
      "align_items": null,
      "align_self": null,
      "border": null,
      "bottom": null,
      "display": null,
      "flex": null,
      "flex_flow": null,
      "grid_area": null,
      "grid_auto_columns": null,
      "grid_auto_flow": null,
      "grid_auto_rows": null,
      "grid_column": null,
      "grid_gap": null,
      "grid_row": null,
      "grid_template_areas": null,
      "grid_template_columns": null,
      "grid_template_rows": null,
      "height": null,
      "justify_content": null,
      "justify_items": null,
      "left": null,
      "margin": null,
      "max_height": null,
      "max_width": null,
      "min_height": null,
      "min_width": null,
      "object_fit": null,
      "object_position": null,
      "order": null,
      "overflow": null,
      "overflow_x": null,
      "overflow_y": null,
      "padding": null,
      "right": null,
      "top": null,
      "visibility": null,
      "width": null
     }
    },
    "6b7a65c5c0604802977e7cabfee0fc44": {
     "model_module": "@jupyter-widgets/controls",
     "model_name": "DescriptionStyleModel",
     "state": {
      "_model_module": "@jupyter-widgets/controls",
      "_model_module_version": "1.5.0",
      "_model_name": "DescriptionStyleModel",
      "_view_count": null,
      "_view_module": "@jupyter-widgets/base",
      "_view_module_version": "1.2.0",
      "_view_name": "StyleView",
      "description_width": ""
     }
    },
    "6f87767ef8fd44fe98baba151cea31c2": {
     "model_module": "@jupyter-widgets/base",
     "model_name": "LayoutModel",
     "state": {
      "_model_module": "@jupyter-widgets/base",
      "_model_module_version": "1.2.0",
      "_model_name": "LayoutModel",
      "_view_count": null,
      "_view_module": "@jupyter-widgets/base",
      "_view_module_version": "1.2.0",
      "_view_name": "LayoutView",
      "align_content": null,
      "align_items": null,
      "align_self": null,
      "border": null,
      "bottom": null,
      "display": null,
      "flex": null,
      "flex_flow": null,
      "grid_area": null,
      "grid_auto_columns": null,
      "grid_auto_flow": null,
      "grid_auto_rows": null,
      "grid_column": null,
      "grid_gap": null,
      "grid_row": null,
      "grid_template_areas": null,
      "grid_template_columns": null,
      "grid_template_rows": null,
      "height": null,
      "justify_content": null,
      "justify_items": null,
      "left": null,
      "margin": null,
      "max_height": null,
      "max_width": null,
      "min_height": null,
      "min_width": null,
      "object_fit": null,
      "object_position": null,
      "order": null,
      "overflow": null,
      "overflow_x": null,
      "overflow_y": null,
      "padding": null,
      "right": null,
      "top": null,
      "visibility": null,
      "width": null
     }
    },
    "74b34dffeaf545df91c8b250e49eeaf2": {
     "model_module": "@jupyter-widgets/controls",
     "model_name": "HTMLModel",
     "state": {
      "_dom_classes": [],
      "_model_module": "@jupyter-widgets/controls",
      "_model_module_version": "1.5.0",
      "_model_name": "HTMLModel",
      "_view_count": null,
      "_view_module": "@jupyter-widgets/controls",
      "_view_module_version": "1.5.0",
      "_view_name": "HTMLView",
      "description": "",
      "description_tooltip": null,
      "layout": "IPY_MODEL_b856bfbceab240189ac7775bb6475024",
      "placeholder": "​",
      "style": "IPY_MODEL_6b7a65c5c0604802977e7cabfee0fc44",
      "value": " 1649664/? [00:01&lt;00:00, 1010638.55it/s]"
     }
    },
    "78aef4e83fd74025a9d56389b2613fd4": {
     "model_module": "@jupyter-widgets/controls",
     "model_name": "FloatProgressModel",
     "state": {
      "_dom_classes": [],
      "_model_module": "@jupyter-widgets/controls",
      "_model_module_version": "1.5.0",
      "_model_name": "FloatProgressModel",
      "_view_count": null,
      "_view_module": "@jupyter-widgets/controls",
      "_view_module_version": "1.5.0",
      "_view_name": "ProgressView",
      "bar_style": "success",
      "description": "",
      "description_tooltip": null,
      "layout": "IPY_MODEL_799f52c19b9a49bdb18b83a59890d228",
      "max": 9912422,
      "min": 0,
      "orientation": "horizontal",
      "style": "IPY_MODEL_99dcc81021da4d2287bb7e151c8cb317",
      "value": 9912422
     }
    },
    "799f52c19b9a49bdb18b83a59890d228": {
     "model_module": "@jupyter-widgets/base",
     "model_name": "LayoutModel",
     "state": {
      "_model_module": "@jupyter-widgets/base",
      "_model_module_version": "1.2.0",
      "_model_name": "LayoutModel",
      "_view_count": null,
      "_view_module": "@jupyter-widgets/base",
      "_view_module_version": "1.2.0",
      "_view_name": "LayoutView",
      "align_content": null,
      "align_items": null,
      "align_self": null,
      "border": null,
      "bottom": null,
      "display": null,
      "flex": null,
      "flex_flow": null,
      "grid_area": null,
      "grid_auto_columns": null,
      "grid_auto_flow": null,
      "grid_auto_rows": null,
      "grid_column": null,
      "grid_gap": null,
      "grid_row": null,
      "grid_template_areas": null,
      "grid_template_columns": null,
      "grid_template_rows": null,
      "height": null,
      "justify_content": null,
      "justify_items": null,
      "left": null,
      "margin": null,
      "max_height": null,
      "max_width": null,
      "min_height": null,
      "min_width": null,
      "object_fit": null,
      "object_position": null,
      "order": null,
      "overflow": null,
      "overflow_x": null,
      "overflow_y": null,
      "padding": null,
      "right": null,
      "top": null,
      "visibility": null,
      "width": null
     }
    },
    "8f0dd476f8dc4440a2c6e7b82d317465": {
     "model_module": "@jupyter-widgets/controls",
     "model_name": "HTMLModel",
     "state": {
      "_dom_classes": [],
      "_model_module": "@jupyter-widgets/controls",
      "_model_module_version": "1.5.0",
      "_model_name": "HTMLModel",
      "_view_count": null,
      "_view_module": "@jupyter-widgets/controls",
      "_view_module_version": "1.5.0",
      "_view_name": "HTMLView",
      "description": "",
      "description_tooltip": null,
      "layout": "IPY_MODEL_42503ed1f57a439db57cd499881c38ae",
      "placeholder": "​",
      "style": "IPY_MODEL_1da9991716a240b487fd37bbd03bdf31",
      "value": " 5120/? [01:08&lt;00:00, 74.45it/s]"
     }
    },
    "909fb32323044bbea13b03df70390065": {
     "model_module": "@jupyter-widgets/controls",
     "model_name": "DescriptionStyleModel",
     "state": {
      "_model_module": "@jupyter-widgets/controls",
      "_model_module_version": "1.5.0",
      "_model_name": "DescriptionStyleModel",
      "_view_count": null,
      "_view_module": "@jupyter-widgets/base",
      "_view_module_version": "1.2.0",
      "_view_name": "StyleView",
      "description_width": ""
     }
    },
    "99dcc81021da4d2287bb7e151c8cb317": {
     "model_module": "@jupyter-widgets/controls",
     "model_name": "ProgressStyleModel",
     "state": {
      "_model_module": "@jupyter-widgets/controls",
      "_model_module_version": "1.5.0",
      "_model_name": "ProgressStyleModel",
      "_view_count": null,
      "_view_module": "@jupyter-widgets/base",
      "_view_module_version": "1.2.0",
      "_view_name": "StyleView",
      "bar_color": null,
      "description_width": "initial"
     }
    },
    "9df53b0e2ce44265903806e8912fa63b": {
     "model_module": "@jupyter-widgets/controls",
     "model_name": "HTMLModel",
     "state": {
      "_dom_classes": [],
      "_model_module": "@jupyter-widgets/controls",
      "_model_module_version": "1.5.0",
      "_model_name": "HTMLModel",
      "_view_count": null,
      "_view_module": "@jupyter-widgets/controls",
      "_view_module_version": "1.5.0",
      "_view_name": "HTMLView",
      "description": "",
      "description_tooltip": null,
      "layout": "IPY_MODEL_e6cfd4bf35c94722bd8fe2f42a01fae6",
      "placeholder": "​",
      "style": "IPY_MODEL_909fb32323044bbea13b03df70390065",
      "value": " 29696/? [00:02&lt;00:00, 10913.74it/s]"
     }
    },
    "9e57aec5581a4f81b2bf6e5537a386c4": {
     "model_module": "@jupyter-widgets/controls",
     "model_name": "HTMLModel",
     "state": {
      "_dom_classes": [],
      "_model_module": "@jupyter-widgets/controls",
      "_model_module_version": "1.5.0",
      "_model_name": "HTMLModel",
      "_view_count": null,
      "_view_module": "@jupyter-widgets/controls",
      "_view_module_version": "1.5.0",
      "_view_name": "HTMLView",
      "description": "",
      "description_tooltip": null,
      "layout": "IPY_MODEL_5b2b1060a5314c6390aee34349c89829",
      "placeholder": "​",
      "style": "IPY_MODEL_4aafd40c6dd2434aa0664b14f2501d3e",
      "value": " 9913344/? [01:13&lt;00:00, 134347.54it/s]"
     }
    },
    "b0469d48d491449f85009c4881c8ee41": {
     "model_module": "@jupyter-widgets/base",
     "model_name": "LayoutModel",
     "state": {
      "_model_module": "@jupyter-widgets/base",
      "_model_module_version": "1.2.0",
      "_model_name": "LayoutModel",
      "_view_count": null,
      "_view_module": "@jupyter-widgets/base",
      "_view_module_version": "1.2.0",
      "_view_name": "LayoutView",
      "align_content": null,
      "align_items": null,
      "align_self": null,
      "border": null,
      "bottom": null,
      "display": null,
      "flex": null,
      "flex_flow": null,
      "grid_area": null,
      "grid_auto_columns": null,
      "grid_auto_flow": null,
      "grid_auto_rows": null,
      "grid_column": null,
      "grid_gap": null,
      "grid_row": null,
      "grid_template_areas": null,
      "grid_template_columns": null,
      "grid_template_rows": null,
      "height": null,
      "justify_content": null,
      "justify_items": null,
      "left": null,
      "margin": null,
      "max_height": null,
      "max_width": null,
      "min_height": null,
      "min_width": null,
      "object_fit": null,
      "object_position": null,
      "order": null,
      "overflow": null,
      "overflow_x": null,
      "overflow_y": null,
      "padding": null,
      "right": null,
      "top": null,
      "visibility": null,
      "width": null
     }
    },
    "b856bfbceab240189ac7775bb6475024": {
     "model_module": "@jupyter-widgets/base",
     "model_name": "LayoutModel",
     "state": {
      "_model_module": "@jupyter-widgets/base",
      "_model_module_version": "1.2.0",
      "_model_name": "LayoutModel",
      "_view_count": null,
      "_view_module": "@jupyter-widgets/base",
      "_view_module_version": "1.2.0",
      "_view_name": "LayoutView",
      "align_content": null,
      "align_items": null,
      "align_self": null,
      "border": null,
      "bottom": null,
      "display": null,
      "flex": null,
      "flex_flow": null,
      "grid_area": null,
      "grid_auto_columns": null,
      "grid_auto_flow": null,
      "grid_auto_rows": null,
      "grid_column": null,
      "grid_gap": null,
      "grid_row": null,
      "grid_template_areas": null,
      "grid_template_columns": null,
      "grid_template_rows": null,
      "height": null,
      "justify_content": null,
      "justify_items": null,
      "left": null,
      "margin": null,
      "max_height": null,
      "max_width": null,
      "min_height": null,
      "min_width": null,
      "object_fit": null,
      "object_position": null,
      "order": null,
      "overflow": null,
      "overflow_x": null,
      "overflow_y": null,
      "padding": null,
      "right": null,
      "top": null,
      "visibility": null,
      "width": null
     }
    },
    "c3b5d92531ae4aa98b0c2f4d40e5931c": {
     "model_module": "@jupyter-widgets/controls",
     "model_name": "FloatProgressModel",
     "state": {
      "_dom_classes": [],
      "_model_module": "@jupyter-widgets/controls",
      "_model_module_version": "1.5.0",
      "_model_name": "FloatProgressModel",
      "_view_count": null,
      "_view_module": "@jupyter-widgets/controls",
      "_view_module_version": "1.5.0",
      "_view_name": "ProgressView",
      "bar_style": "success",
      "description": "",
      "description_tooltip": null,
      "layout": "IPY_MODEL_fc5b5b9e9c7845899cc659b581dd6878",
      "max": 4542,
      "min": 0,
      "orientation": "horizontal",
      "style": "IPY_MODEL_5ed5eff84f96401d8866e10a3abbf408",
      "value": 4542
     }
    },
    "cb6cc2df116343c6a9288fb615d0e534": {
     "model_module": "@jupyter-widgets/controls",
     "model_name": "ProgressStyleModel",
     "state": {
      "_model_module": "@jupyter-widgets/controls",
      "_model_module_version": "1.5.0",
      "_model_name": "ProgressStyleModel",
      "_view_count": null,
      "_view_module": "@jupyter-widgets/base",
      "_view_module_version": "1.2.0",
      "_view_name": "StyleView",
      "bar_color": null,
      "description_width": "initial"
     }
    },
    "cf8b3a3f586146a9a3f0de6fa039035f": {
     "model_module": "@jupyter-widgets/controls",
     "model_name": "ProgressStyleModel",
     "state": {
      "_model_module": "@jupyter-widgets/controls",
      "_model_module_version": "1.5.0",
      "_model_name": "ProgressStyleModel",
      "_view_count": null,
      "_view_module": "@jupyter-widgets/base",
      "_view_module_version": "1.2.0",
      "_view_name": "StyleView",
      "bar_color": null,
      "description_width": "initial"
     }
    },
    "e6cfd4bf35c94722bd8fe2f42a01fae6": {
     "model_module": "@jupyter-widgets/base",
     "model_name": "LayoutModel",
     "state": {
      "_model_module": "@jupyter-widgets/base",
      "_model_module_version": "1.2.0",
      "_model_name": "LayoutModel",
      "_view_count": null,
      "_view_module": "@jupyter-widgets/base",
      "_view_module_version": "1.2.0",
      "_view_name": "LayoutView",
      "align_content": null,
      "align_items": null,
      "align_self": null,
      "border": null,
      "bottom": null,
      "display": null,
      "flex": null,
      "flex_flow": null,
      "grid_area": null,
      "grid_auto_columns": null,
      "grid_auto_flow": null,
      "grid_auto_rows": null,
      "grid_column": null,
      "grid_gap": null,
      "grid_row": null,
      "grid_template_areas": null,
      "grid_template_columns": null,
      "grid_template_rows": null,
      "height": null,
      "justify_content": null,
      "justify_items": null,
      "left": null,
      "margin": null,
      "max_height": null,
      "max_width": null,
      "min_height": null,
      "min_width": null,
      "object_fit": null,
      "object_position": null,
      "order": null,
      "overflow": null,
      "overflow_x": null,
      "overflow_y": null,
      "padding": null,
      "right": null,
      "top": null,
      "visibility": null,
      "width": null
     }
    },
    "f63d6b6ebaef4c8ab30f5ce697d9aca7": {
     "model_module": "@jupyter-widgets/base",
     "model_name": "LayoutModel",
     "state": {
      "_model_module": "@jupyter-widgets/base",
      "_model_module_version": "1.2.0",
      "_model_name": "LayoutModel",
      "_view_count": null,
      "_view_module": "@jupyter-widgets/base",
      "_view_module_version": "1.2.0",
      "_view_name": "LayoutView",
      "align_content": null,
      "align_items": null,
      "align_self": null,
      "border": null,
      "bottom": null,
      "display": null,
      "flex": null,
      "flex_flow": null,
      "grid_area": null,
      "grid_auto_columns": null,
      "grid_auto_flow": null,
      "grid_auto_rows": null,
      "grid_column": null,
      "grid_gap": null,
      "grid_row": null,
      "grid_template_areas": null,
      "grid_template_columns": null,
      "grid_template_rows": null,
      "height": null,
      "justify_content": null,
      "justify_items": null,
      "left": null,
      "margin": null,
      "max_height": null,
      "max_width": null,
      "min_height": null,
      "min_width": null,
      "object_fit": null,
      "object_position": null,
      "order": null,
      "overflow": null,
      "overflow_x": null,
      "overflow_y": null,
      "padding": null,
      "right": null,
      "top": null,
      "visibility": null,
      "width": null
     }
    },
    "fc5b5b9e9c7845899cc659b581dd6878": {
     "model_module": "@jupyter-widgets/base",
     "model_name": "LayoutModel",
     "state": {
      "_model_module": "@jupyter-widgets/base",
      "_model_module_version": "1.2.0",
      "_model_name": "LayoutModel",
      "_view_count": null,
      "_view_module": "@jupyter-widgets/base",
      "_view_module_version": "1.2.0",
      "_view_name": "LayoutView",
      "align_content": null,
      "align_items": null,
      "align_self": null,
      "border": null,
      "bottom": null,
      "display": null,
      "flex": null,
      "flex_flow": null,
      "grid_area": null,
      "grid_auto_columns": null,
      "grid_auto_flow": null,
      "grid_auto_rows": null,
      "grid_column": null,
      "grid_gap": null,
      "grid_row": null,
      "grid_template_areas": null,
      "grid_template_columns": null,
      "grid_template_rows": null,
      "height": null,
      "justify_content": null,
      "justify_items": null,
      "left": null,
      "margin": null,
      "max_height": null,
      "max_width": null,
      "min_height": null,
      "min_width": null,
      "object_fit": null,
      "object_position": null,
      "order": null,
      "overflow": null,
      "overflow_x": null,
      "overflow_y": null,
      "padding": null,
      "right": null,
      "top": null,
      "visibility": null,
      "width": null
     }
    }
   }
  }
 },
 "nbformat": 4,
 "nbformat_minor": 1
}
