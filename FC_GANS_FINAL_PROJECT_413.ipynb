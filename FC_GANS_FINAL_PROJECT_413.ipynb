{
  "nbformat": 4,
  "nbformat_minor": 0,
  "metadata": {
    "colab": {
      "name": "FC_GANS_FINAL_PROJECT_413.ipynb",
      "provenance": [],
      "collapsed_sections": [],
      "authorship_tag": "ABX9TyMUdOQSjLEqQWHcw/4BnJXo",
      "include_colab_link": true
    },
    "kernelspec": {
      "name": "python3",
      "display_name": "Python 3"
    },
    "language_info": {
      "name": "python"
    },
    "accelerator": "GPU"
  },
  "cells": [
    {
      "cell_type": "markdown",
      "metadata": {
        "id": "view-in-github",
        "colab_type": "text"
      },
      "source": [
        "<a href=\"https://colab.research.google.com/github/zhangvi7/CSC413_FINAL_PROJECT/blob/main/FC_GANS_FINAL_PROJECT_413.ipynb\" target=\"_parent\"><img src=\"https://colab.research.google.com/assets/colab-badge.svg\" alt=\"Open In Colab\"/></a>"
      ]
    },
    {
      "cell_type": "code",
      "metadata": {
        "id": "-gUGxdNU166Q"
      },
      "source": [
        "import torch \n",
        "import torch.nn as nn\n",
        "from torchvision import datasets, transforms, utils\n",
        "from torch.nn import functional as F\n",
        "import matplotlib.pyplot as plt"
      ],
      "execution_count": null,
      "outputs": []
    },
    {
      "cell_type": "code",
      "metadata": {
        "id": "Q0enPTCgTSAU"
      },
      "source": [
        "device = torch.device('cuda:' + str(0) if torch.cuda.is_available() else 'cpu')\n",
        "\n",
        "SEED = 1\n",
        "\n",
        "torch.manual_seed(SEED)\n",
        "torch.cuda.manual_seed(SEED)\n",
        "\n",
        "BATCH_SIZE = 64"
      ],
      "execution_count": null,
      "outputs": []
    },
    {
      "cell_type": "code",
      "metadata": {
        "id": "83QT5x1m12Ii"
      },
      "source": [
        "!wget https://www.di.ens.fr/willow/research/seeing3Dchairs/data/rendered_chairs.tar\n",
        "# %mkdir -p chair_data\n",
        "!tar -xvf  'rendered_chairs.tar'"
      ],
      "execution_count": null,
      "outputs": []
    },
    {
      "cell_type": "code",
      "metadata": {
        "id": "jpAmP3uCMzwA",
        "colab": {
          "base_uri": "https://localhost:8080/",
          "height": 337
        },
        "outputId": "ef197156-0987-4d21-a2d9-f807c8254f24"
      },
      "source": [
        "import torchvision\n",
        "from torch.utils.data.sampler import SubsetRandomSampler\n",
        "import numpy as np\n",
        "import matplotlib.pyplot as plt\n",
        "import torchvision as tv\n",
        "import torch.utils.data as data\n",
        "\n",
        "# ---------------- DATASET LOADER -----------------\n",
        "\n",
        "def get_subset(indices, start, end):\n",
        "    return indices[start : start + end]\n",
        "\n",
        "# transforming from RBG to grayscale\n",
        "trainTransform  = tv.transforms.Compose([tv.transforms.Grayscale(num_output_channels=1),\n",
        "                                    tv.transforms.ToTensor()])\n",
        "\n",
        "dataset = torchvision.datasets.ImageFolder(\"rendered_chairs\", transform=trainTransform)\n",
        "\n",
        "# ------------ SPLIT SET INTO TRAIN, VALIDATION, TEST SETS -------------\n",
        "\n",
        "TRAIN_PCT, VALIDATION_PCT = 0.6, 0.2  # rest will go for test - TODO remove if we dont need validation set\n",
        "train_count = int(len(dataset) * TRAIN_PCT)\n",
        "validation_count = int(len(dataset) * VALIDATION_PCT)\n",
        "\n",
        "print(len(dataset))\n",
        "print(train_count)\n",
        "print(validation_count)\n",
        "\n",
        "\n",
        "indices = torch.randperm(len(dataset))\n",
        "\n",
        "# get subset of indices for train, valid, and test sets\n",
        "train_indices = get_subset(indices, 0, train_count)\n",
        "validation_indices = get_subset(indices, train_count, validation_count)\n",
        "test_indices = get_subset(indices, train_count + validation_count, len(dataset))\n",
        "\n",
        "# ---------------- CREATE DATA LOADER -----------------\n",
        "\n",
        "dataloaders = {\n",
        "    \"train\": torch.utils.data.DataLoader(\n",
        "        dataset, batch_size=BATCH_SIZE, sampler=SubsetRandomSampler(train_indices)\n",
        "    ),\n",
        "    \"validation\": torch.utils.data.DataLoader(\n",
        "        dataset, batch_size=BATCH_SIZE, sampler=SubsetRandomSampler(validation_indices)\n",
        "    ),\n",
        "    \"test\": torch.utils.data.DataLoader(\n",
        "        dataset, batch_size=BATCH_SIZE, sampler=SubsetRandomSampler(test_indices)\n",
        "    ),\n",
        "}\n",
        "\n",
        "# ---------------- VISUALIZE IMAGE -----------------\n",
        "train_loader = dataloaders[\"train\"]\n",
        "\n",
        "dataiter = iter(train_loader)\n",
        "images, labels = dataiter.next()\n",
        "images = images.numpy()\n",
        "# print(len(images)) # batch_size\n",
        "\n",
        "from PIL import ImageFile\n",
        "ImageFile.LOAD_TRUNCATED_IMAGES = True  # Note: this is required for image truncation error.\n",
        "\n",
        "# for batch_i, (real_images, _) in enumerate(train_loader):\n",
        "#   print(batch_i, real_images)\n",
        "\n",
        "img = np.squeeze(images[0]).T # Tranpose for rbg to be shape (600, 600, 3) instead of (3, 600, 600).\n",
        "print(img.T.shape)\n",
        "\n",
        "# need to remove first dimension since currently shape is (3, 600, 600), but pyplot.imshow can only plot images of dimension (N,M) (grayscale) or (N,M,3)\n",
        "# img = img[0,:,:] (uncomment for grayscale)\n",
        "# print(img.shape)\n",
        "plt.imshow(img, cmap=\"gray\")\n",
        "plt.show()"
      ],
      "execution_count": null,
      "outputs": [
        {
          "output_type": "stream",
          "text": [
            "86366\n",
            "51819\n",
            "17273\n",
            "(600, 600)\n"
          ],
          "name": "stdout"
        },
        {
          "output_type": "display_data",
          "data": {
            "image/png": "[encoded data removed]",
            "text/plain": [
              "<Figure size 432x288 with 1 Axes>"
            ]
          },
          "metadata": {
            "tags": [],
            "needs_background": "light"
          }
        }
      ]
    },
    {
      "cell_type": "code",
      "metadata": {
        "id": "KWvNvpYlcFzr"
      },
      "source": [
        "class Discriminator(nn.Module):\n",
        "  def __init__(self, input_size, hidden_dim, output_size):\n",
        "    super(Discriminator, self).__init__()\n",
        "    \n",
        "    self.fc1 = nn.Linear(input_size, hidden_dim*4)\n",
        "    self.fc2 = nn.Linear(hidden_dim*4, hidden_dim*2)\n",
        "    self.fc3 = nn.Linear(hidden_dim*2, hidden_dim)\n",
        "    self.fc4 = nn.Linear(hidden_dim, output_size)\n",
        "    \n",
        "    # dropout layer \n",
        "    self.dropout = nn.Dropout(0.3)\n",
        "\n",
        "  def forward(self, x):\n",
        "    # flatten image to vector\n",
        "    x = x.view(-1, 600*600)\n",
        "    # use leaky relu for vanishing gradient\n",
        "    x = self.fc1(x)\n",
        "    x = F.leaky_relu(x, 0.2) # (input, negative_slope=0.2)\n",
        "    x = self.dropout(x)\n",
        "    x = self.fc2(x)\n",
        "    x = F.leaky_relu(x, 0.2)\n",
        "    x = self.dropout(x)\n",
        "    x = self.fc3(x)\n",
        "    x = F.leaky_relu(x, 0.2)\n",
        "    x = self.dropout(x)\n",
        "    x = self.fc4(x)\n",
        "    return x"
      ],
      "execution_count": null,
      "outputs": []
    },
    {
      "cell_type": "code",
      "metadata": {
        "id": "rYIMRyTme0HE"
      },
      "source": [
        "class Generator(nn.Module):\n",
        "  def __init__(self, input_size, hidden_dim, output_size):\n",
        "    super(Generator, self).__init__()\n",
        "    \n",
        "    self.fc1 = nn.Linear(input_size, hidden_dim)\n",
        "    self.fc2 = nn.Linear(hidden_dim, hidden_dim*2)\n",
        "    self.fc3 = nn.Linear(hidden_dim*2, hidden_dim*4)\n",
        "    self.fc4 = nn.Linear(hidden_dim*4, output_size)\n",
        "\n",
        "    # dropout layer \n",
        "    self.dropout = nn.Dropout(0.3)\n",
        "  \n",
        "  def forward(self, x):\n",
        "    x = self.fc1(x)\n",
        "    x = F.leaky_relu(x, 0.2)\n",
        "    x = self.dropout(x)\n",
        "    x = self.fc2(x)\n",
        "    x = F.leaky_relu(x, 0.2)\n",
        "    x = self.dropout(x)\n",
        "    x = self.fc3(x)\n",
        "    x = F.leaky_relu(x, 0.2)\n",
        "    x = self.dropout(x)\n",
        "    x = self.fc4(x)\n",
        "    x = F.tanh(x)\n",
        "    return x"
      ],
      "execution_count": null,
      "outputs": []
    },
    {
      "cell_type": "code",
      "metadata": {
        "id": "9OqyoSCqiudU"
      },
      "source": [
        "# hyper-params\n",
        "params = {\n",
        "    # Discriminator hyperparameters\n",
        "    \"input_size\": 360000,    # 600 x 600 image\n",
        "    \"d_output_size\": 1, \n",
        "    \"d_hidden_size\": 32,\n",
        "    # Generator hyperparams\n",
        "    \"z_size\": 256,       # latent vector\n",
        "    \"g_output_size\": 360000,\n",
        "    \"g_hidden_size\": 32,\n",
        "}\n",
        "# training params\n",
        "config = {\n",
        "    \"epoch\": 20,\n",
        "    \"lr\": 1e-3,\n",
        "    \"batch\": 64,\n",
        "}"
      ],
      "execution_count": null,
      "outputs": []
    },
    {
      "cell_type": "code",
      "metadata": {
        "id": "kV-_2r7GjDGe",
        "colab": {
          "base_uri": "https://localhost:8080/"
        },
        "outputId": "e4897ada-2ed8-4cef-fe94-308c98828e31"
      },
      "source": [
        "# instantiate discriminator and generator\n",
        "D = Discriminator(params[\"input_size\"], params[\"d_hidden_size\"], params[\"d_output_size\"])\n",
        "G = Generator(params[\"z_size\"], params[\"g_hidden_size\"], params[\"g_output_size\"])\n",
        "print(D)\n",
        "print(G)"
      ],
      "execution_count": null,
      "outputs": [
        {
          "output_type": "stream",
          "text": [
            "Discriminator(\n",
            "  (fc1): Linear(in_features=360000, out_features=128, bias=True)\n",
            "  (fc2): Linear(in_features=128, out_features=64, bias=True)\n",
            "  (fc3): Linear(in_features=64, out_features=32, bias=True)\n",
            "  (fc4): Linear(in_features=32, out_features=1, bias=True)\n",
            "  (dropout): Dropout(p=0.3, inplace=False)\n",
            ")\n",
            "Generator(\n",
            "  (fc1): Linear(in_features=256, out_features=32, bias=True)\n",
            "  (fc2): Linear(in_features=32, out_features=64, bias=True)\n",
            "  (fc3): Linear(in_features=64, out_features=128, bias=True)\n",
            "  (fc4): Linear(in_features=128, out_features=360000, bias=True)\n",
            "  (dropout): Dropout(p=0.3, inplace=False)\n",
            ")\n"
          ],
          "name": "stdout"
        }
      ]
    },
    {
      "cell_type": "code",
      "metadata": {
        "id": "yGjsCx2kkTUP"
      },
      "source": [
        "# discriminator loss: d_loss = d_real_loss + d_fake_loss\n",
        "def real_loss(D_out):\n",
        "  labels = torch.ones(D_out.size(0)).to(device) # real labels = 1\n",
        "  criterion = nn.BCEWithLogitsLoss()\n",
        "  return criterion(D_out.squeeze(), labels)\n",
        "\n",
        "def fake_loss(D_out):\n",
        "  labels = torch.zeros(D_out.size(0)).to(device) # fake labels = 0\n",
        "  criterion = nn.BCEWithLogitsLoss()\n",
        "  return criterion(D_out.squeeze(), labels)"
      ],
      "execution_count": null,
      "outputs": []
    },
    {
      "cell_type": "code",
      "metadata": {
        "id": "DXBmjzjimjMM"
      },
      "source": [
        "import torch.optim as optim\n",
        "d_optimizer = optim.Adam(D.parameters(), config[\"lr\"])\n",
        "g_optimizer = optim.Adam(G.parameters(), config[\"lr\"])"
      ],
      "execution_count": null,
      "outputs": []
    },
    {
      "cell_type": "code",
      "metadata": {
        "id": "w50xKtO6nRtC",
        "colab": {
          "base_uri": "https://localhost:8080/"
        },
        "outputId": "5875e4f3-12ce-4e7f-c5c1-b6c5551080ad"
      },
      "source": [
        "import pickle as pkl\n",
        "\n",
        "# training hyperparams\n",
        "num_epochs = config[\"epoch\"]\n",
        "batch_size = config[\"batch\"]\n",
        "z_size = params[\"z_size\"]\n",
        "\n",
        "# keep track of loss and generated, \"fake\" samples\n",
        "samples = []\n",
        "losses = []\n",
        "\n",
        "print_every = 400\n",
        "\n",
        "# Get some fixed data for sampling. These are images that are held\n",
        "# constant throughout training, and allow us to inspect the model's performance\n",
        "sample_size=16\n",
        "fixed_z = np.random.uniform(-1, 1, size=(sample_size, params[\"z_size\"]))\n",
        "fixed_z = torch.from_numpy(fixed_z).float().to(device)\n",
        "\n",
        "G = G.to(device)\n",
        "D = D.to(device)\n",
        "\n",
        "# train the network\n",
        "D.train()\n",
        "G.train()\n",
        "\n",
        "for epoch in range(num_epochs):\n",
        "    \n",
        "    for batch_i, (real_images, _) in enumerate(train_loader):\n",
        "                \n",
        "        batch_size = real_images.size(0)\n",
        "        \n",
        "        ## Important rescaling step ## \n",
        "        real_images = real_images*2 - 1  # rescale input images from [0,1) to [-1, 1)\n",
        "        \n",
        "        # ============================================\n",
        "        #            TRAIN THE DISCRIMINATOR\n",
        "        # ============================================\n",
        "        \n",
        "        d_optimizer.zero_grad()\n",
        "        \n",
        "        # 1. Train with real images\n",
        "\n",
        "        # Compute the discriminator losses on real images \n",
        "        # smooth the real labels\n",
        "        real_images = real_images.to(device)\n",
        "        D_real = D(real_images)\n",
        "        d_real_loss = real_loss(D_real)\n",
        "        \n",
        "        # 2. Train with fake images\n",
        "        \n",
        "        # Generate fake images\n",
        "        z = np.random.uniform(-1, 1, size=(batch_size, z_size))\n",
        "        z = torch.from_numpy(z).float().to(device)\n",
        "        fake_images = G(z)\n",
        "                \n",
        "        # Compute the discriminator losses on fake images        \n",
        "        D_fake = D(fake_images)\n",
        "        d_fake_loss = fake_loss(D_fake)\n",
        "        \n",
        "        # add up loss and perform backprop\n",
        "        d_loss = d_real_loss + d_fake_loss\n",
        "        d_loss.backward()\n",
        "        d_optimizer.step()\n",
        "        \n",
        "        \n",
        "        # =========================================\n",
        "        #            TRAIN THE GENERATOR\n",
        "        # =========================================\n",
        "        g_optimizer.zero_grad()\n",
        "        \n",
        "        # 1. Train with fake images and flipped labels\n",
        "        \n",
        "        # Generate fake images\n",
        "        z = np.random.uniform(-1, 1, size=(batch_size, z_size))\n",
        "        z = torch.from_numpy(z).float().to(device)\n",
        "        fake_images = G(z)\n",
        "        \n",
        "        # Compute the discriminator losses on fake images \n",
        "        # using flipped labels!\n",
        "        D_fake = D(fake_images)\n",
        "        g_loss = real_loss(D_fake) # use real loss to flip labels\n",
        "        \n",
        "        # perform backprop\n",
        "        g_loss.backward()\n",
        "        g_optimizer.step()\n",
        "\n",
        "        # Print some loss stats\n",
        "        if batch_i % print_every == 0:\n",
        "            # print discriminator and generator loss\n",
        "            print('Epoch [{:5d}/{:5d}] | d_loss: {:6.4f} | g_loss: {:6.4f}'.format(\n",
        "                    epoch+1, num_epochs, d_loss.item(), g_loss.item()))\n",
        "\n",
        "    \n",
        "    ## AFTER EACH EPOCH##\n",
        "    # append discriminator loss and generator loss\n",
        "    losses.append((d_loss.item(), g_loss.item()))\n",
        "    \n",
        "    # generate and save sample, fake images\n",
        "    G.eval() # eval mode for generating samples\n",
        "    samples_z = G(fixed_z)\n",
        "    samples.append(samples_z)\n",
        "    G.train() # back to train mode\n",
        "\n",
        "\n",
        "# Save training generator samples\n",
        "with open('train_samples.pkl', 'wb') as f:\n",
        "    pkl.dump(samples, f)"
      ],
      "execution_count": null,
      "outputs": [
        {
          "output_type": "stream",
          "text": [
            "/usr/local/lib/python3.7/dist-packages/torch/nn/functional.py:1698: UserWarning: nn.functional.tanh is deprecated. Use torch.tanh instead.\n",
            "  warnings.warn(\"nn.functional.tanh is deprecated. Use torch.tanh instead.\")\n"
          ],
          "name": "stderr"
        },
        {
          "output_type": "stream",
          "text": [
            "Epoch [    1/   20] | d_loss: 1.3984 | g_loss: 1.2093\n",
            "Epoch [    1/   20] | d_loss: 0.9940 | g_loss: 0.5753\n",
            "Epoch [    1/   20] | d_loss: 1.0961 | g_loss: 0.6488\n",
            "Epoch [    2/   20] | d_loss: 0.9238 | g_loss: 1.0998\n"
          ],
          "name": "stdout"
        }
      ]
    },
    {
      "cell_type": "code",
      "metadata": {
        "id": "1naVv_bxnZXK"
      },
      "source": [
        "fig, ax = plt.subplots()\n",
        "losses = np.array(losses)\n",
        "plt.plot(losses.T[0], label='Discriminator')\n",
        "plt.plot(losses.T[1], label='Generator')\n",
        "plt.title(\"Training Losses\")\n",
        "plt.legend()"
      ],
      "execution_count": null,
      "outputs": []
    },
    {
      "cell_type": "code",
      "metadata": {
        "id": "EHimnL7jiofb"
      },
      "source": [
        "# helper function for viewing a list of passed in sample images\n",
        "def view_samples(epoch, samples):\n",
        "    fig, axes = plt.subplots(figsize=(7,7), nrows=4, ncols=4, sharey=True, sharex=True)\n",
        "    for ax, img in zip(axes.flatten(), samples[epoch]):\n",
        "        img = img.detach()\n",
        "        ax.xaxis.set_visible(False)\n",
        "        ax.yaxis.set_visible(False)\n",
        "        im = ax.imshow(img.reshape((28,28)), cmap='Greys_r')\n",
        "\n",
        "# Load samples from generator, taken while training\n",
        "with open('train_samples.pkl', 'rb') as f:\n",
        "    samples = pkl.load(f)\n",
        "\n",
        "# -1 indicates final epoch's samples (the last in the list)\n",
        "view_samples(-1, samples)"
      ],
      "execution_count": null,
      "outputs": []
    },
    {
      "cell_type": "code",
      "metadata": {
        "id": "uMHiZqMSIS0S"
      },
      "source": [
        "# try subsample, crop out image whitespace, dcgans if training too slow."
      ],
      "execution_count": null,
      "outputs": []
    }
  ]
}