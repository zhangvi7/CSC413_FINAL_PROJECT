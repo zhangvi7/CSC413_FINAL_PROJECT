{
  "nbformat": 4,
  "nbformat_minor": 0,
  "metadata": {
    "accelerator": "GPU",
    "colab": {
      "name": "CONV_GANS_FINAL_PROJECT_413.ipynb",
      "provenance": [],
      "collapsed_sections": [],
      "include_colab_link": true
    },
    "kernelspec": {
      "display_name": "Python 3",
      "language": "python",
      "name": "python3"
    },
    "language_info": {
      "codemirror_mode": {
        "name": "ipython",
        "version": 3
      },
      "file_extension": ".py",
      "mimetype": "text/x-python",
      "name": "python",
      "nbconvert_exporter": "python",
      "pygments_lexer": "ipython3",
      "version": "3.7.6"
    }
  },
  "cells": [
    {
      "cell_type": "markdown",
      "metadata": {
        "id": "view-in-github",
        "colab_type": "text"
      },
      "source": [
        "<a href=\"https://colab.research.google.com/github/zhangvi7/CSC413_FINAL_PROJECT/blob/main/CONV_GANS_FINAL_PROJECT_413.ipynb\" target=\"_parent\"><img src=\"https://colab.research.google.com/assets/colab-badge.svg\" alt=\"Open In Colab\"/></a>"
      ]
    },
    {
      "cell_type": "markdown",
      "metadata": {
        "id": "TjPTaRB4mpCd"
      },
      "source": [
        "# Colab FAQ\n",
        "\n",
        "For some basic overview and features offered in Colab notebooks, check out: [Overview of Colaboratory Features](https://colab.research.google.com/notebooks/basic_features_overview.ipynb)\n",
        "\n",
        "You need to use the colab GPU for this assignmentby selecting:\n",
        "\n",
        "> **Runtime**   →   **Change runtime type**   →   **Hardware Accelerator: GPU**"
      ]
    },
    {
      "cell_type": "markdown",
      "metadata": {
        "id": "sFjiIs9_NcY6"
      },
      "source": [
        "CODE USED IN THIS NOTEBOOK FOR CSC413 FINAL PROJECT IS REFERENCED FROM PA4. THE DATALOADER, DATASET, AND DIMENSIONS HAVE BEEN MODIFIED."
      ]
    },
    {
      "cell_type": "markdown",
      "metadata": {
        "id": "s9IS9B9-yUU5"
      },
      "source": [
        "## Setup PyTorch\n",
        "All files are stored at /content/csc421/a4/ folder\n"
      ]
    },
    {
      "cell_type": "code",
      "metadata": {
        "id": "Z-6MQhMOlHXD",
        "colab": {
          "base_uri": "https://localhost:8080/"
        },
        "outputId": "1d326d86-2650-4cab-93f4-0063297deb23"
      },
      "source": [
        "######################################################################\n",
        "# Setup python environment and change the current working directory\n",
        "######################################################################\n",
        "!pip install torch torchvision\n",
        "!pip install imageio\n",
        "\n",
        "!pip install matplotlib"
      ],
      "execution_count": 1,
      "outputs": [
        {
          "output_type": "stream",
          "text": [
            "Requirement already satisfied: torch in /usr/local/lib/python3.7/dist-packages (1.8.1+cu101)\n",
            "Requirement already satisfied: torchvision in /usr/local/lib/python3.7/dist-packages (0.9.1+cu101)\n",
            "Requirement already satisfied: typing-extensions in /usr/local/lib/python3.7/dist-packages (from torch) (3.7.4.3)\n",
            "Requirement already satisfied: numpy in /usr/local/lib/python3.7/dist-packages (from torch) (1.19.5)\n",
            "Requirement already satisfied: pillow>=4.1.1 in /usr/local/lib/python3.7/dist-packages (from torchvision) (7.1.2)\n",
            "Requirement already satisfied: imageio in /usr/local/lib/python3.7/dist-packages (2.4.1)\n",
            "Requirement already satisfied: pillow in /usr/local/lib/python3.7/dist-packages (from imageio) (7.1.2)\n",
            "Requirement already satisfied: numpy in /usr/local/lib/python3.7/dist-packages (from imageio) (1.19.5)\n",
            "Requirement already satisfied: matplotlib in /usr/local/lib/python3.7/dist-packages (3.2.2)\n",
            "Requirement already satisfied: cycler>=0.10 in /usr/local/lib/python3.7/dist-packages (from matplotlib) (0.10.0)\n",
            "Requirement already satisfied: python-dateutil>=2.1 in /usr/local/lib/python3.7/dist-packages (from matplotlib) (2.8.1)\n",
            "Requirement already satisfied: numpy>=1.11 in /usr/local/lib/python3.7/dist-packages (from matplotlib) (1.19.5)\n",
            "Requirement already satisfied: kiwisolver>=1.0.1 in /usr/local/lib/python3.7/dist-packages (from matplotlib) (1.3.1)\n",
            "Requirement already satisfied: pyparsing!=2.0.4,!=2.1.2,!=2.1.6,>=2.0.1 in /usr/local/lib/python3.7/dist-packages (from matplotlib) (2.4.7)\n",
            "Requirement already satisfied: six in /usr/local/lib/python3.7/dist-packages (from cycler>=0.10->matplotlib) (1.15.0)\n"
          ],
          "name": "stdout"
        }
      ]
    },
    {
      "cell_type": "markdown",
      "metadata": {
        "id": "9DaTdRNuUra7"
      },
      "source": [
        "# Helper code"
      ]
    },
    {
      "cell_type": "markdown",
      "metadata": {
        "id": "4BIpGwANoQOg"
      },
      "source": [
        "## Utility functions"
      ]
    },
    {
      "cell_type": "code",
      "metadata": {
        "id": "D-UJHBYZkh7f"
      },
      "source": [
        "import os\n",
        "\n",
        "import numpy as np\n",
        "import matplotlib.pyplot as plt\n",
        "\n",
        "import torch\n",
        "from torch import nn\n",
        "from torch.nn import Parameter\n",
        "import torch.nn.functional as F\n",
        "import torch.optim as optim\n",
        "from torch.autograd import Variable\n",
        "from torch.utils.data import DataLoader\n",
        "from torchvision import datasets\n",
        "from torchvision import transforms\n",
        "\n",
        "from six.moves.urllib.request import urlretrieve\n",
        "import tarfile\n",
        "\n",
        "import imageio\n",
        "from urllib.error import URLError\n",
        "from urllib.error import HTTPError\n",
        "\n",
        "\n",
        "def get_file(fname,\n",
        "             origin,\n",
        "             untar=False,\n",
        "             extract=False,\n",
        "             archive_format='auto',\n",
        "             cache_dir='data'):\n",
        "    datadir = os.path.join(cache_dir)\n",
        "    if not os.path.exists(datadir):\n",
        "        os.makedirs(datadir)\n",
        "\n",
        "    if untar:\n",
        "        untar_fpath = os.path.join(datadir, fname)\n",
        "        fpath = untar_fpath + '.tar.gz'\n",
        "    else:\n",
        "        fpath = os.path.join(datadir, fname)\n",
        "\n",
        "    print(fpath)\n",
        "    if not os.path.exists(fpath):\n",
        "        print('Downloading data from', origin)\n",
        "\n",
        "        error_msg = 'URL fetch failure on {}: {} -- {}'\n",
        "        try:\n",
        "            try:\n",
        "                urlretrieve(origin, fpath)\n",
        "            except URLError as e:\n",
        "                raise Exception(error_msg.format(origin, e.errno, e.reason))\n",
        "            except HTTPError as e:\n",
        "                raise Exception(error_msg.format(origin, e.code, e.msg))\n",
        "        except (Exception, KeyboardInterrupt) as e:\n",
        "            if os.path.exists(fpath):\n",
        "                os.remove(fpath)\n",
        "            raise\n",
        "\n",
        "    if untar:\n",
        "        if not os.path.exists(untar_fpath):\n",
        "            print('Extracting file.')\n",
        "            with tarfile.open(fpath) as archive:\n",
        "                archive.extractall(datadir)\n",
        "        return untar_fpath\n",
        "\n",
        "    return fpath\n",
        "\n",
        "\n",
        "class AttrDict(dict):\n",
        "    def __init__(self, *args, **kwargs):\n",
        "        super(AttrDict, self).__init__(*args, **kwargs)\n",
        "        self.__dict__ = self\n",
        "\n",
        "                \n",
        "def to_var(tensor, cuda=True):\n",
        "    \"\"\"Wraps a Tensor in a Variable, optionally placing it on the GPU.\n",
        "\n",
        "        Arguments:\n",
        "            tensor: A Tensor object.\n",
        "            cuda: A boolean flag indicating whether to use the GPU.\n",
        "\n",
        "        Returns:\n",
        "            A Variable object, on the GPU if cuda==True.\n",
        "    \"\"\"\n",
        "    if cuda:\n",
        "        return Variable(tensor.cuda())\n",
        "    else:\n",
        "        return Variable(tensor)\n",
        "\n",
        "    \n",
        "def to_data(x):\n",
        "    \"\"\"Converts variable to numpy.\"\"\"\n",
        "    if torch.cuda.is_available():\n",
        "        x = x.cpu()\n",
        "    return x.data.numpy()\n",
        "\n",
        "\n",
        "def create_dir(directory):\n",
        "    \"\"\"Creates a directory if it doesn't already exist.\n",
        "    \"\"\"\n",
        "    if not os.path.exists(directory):\n",
        "        os.makedirs(directory)\n",
        "\n",
        "\n",
        "def gan_checkpoint(iteration, G, D, opts):\n",
        "    \"\"\"Saves the parameters of the generator G and discriminator D.\n",
        "    \"\"\"\n",
        "    G_path = os.path.join(opts.checkpoint_dir, 'G.pkl')\n",
        "    D_path = os.path.join(opts.checkpoint_dir, 'D.pkl')\n",
        "    torch.save(G.state_dict(), G_path)\n",
        "    torch.save(D.state_dict(), D_path)\n",
        "\n",
        "def load_checkpoint(opts):\n",
        "    \"\"\"Loads the generator and discriminator models from checkpoints.\n",
        "    \"\"\"\n",
        "    G_path = os.path.join(opts.load, 'G.pkl')\n",
        "    D_path = os.path.join(opts.load, 'D_.pkl')\n",
        "\n",
        "    G = DCGenerator(noise_size=opts.noise_size, conv_dim=opts.g_conv_dim, spectral_norm=opts.spectral_norm)\n",
        "    D = DCDiscriminator(conv_dim=opts.d_conv_dim)\n",
        "\n",
        "    G.load_state_dict(torch.load(G_path, map_location=lambda storage, loc: storage))\n",
        "    D.load_state_dict(torch.load(D_path, map_location=lambda storage, loc: storage))\n",
        "\n",
        "    if torch.cuda.is_available():\n",
        "        G.cuda()\n",
        "        D.cuda()\n",
        "        print('Models moved to GPU.')\n",
        "\n",
        "    return G, D\n",
        "\n",
        "\n",
        "def merge_images(sources, targets, opts):\n",
        "    \"\"\"Creates a grid consisting of pairs of columns, where the first column in\n",
        "    each pair contains images source images and the second column in each pair\n",
        "    contains images generated by the CycleGAN from the corresponding images in\n",
        "    the first column.\n",
        "    \"\"\"\n",
        "    _, _, h, w = sources.shape\n",
        "    row = int(np.sqrt(opts.batch_size))\n",
        "    merged = np.zeros([3, row * h, row * w * 2])\n",
        "    for (idx, s, t) in (zip(range(row ** 2), sources, targets, )):\n",
        "        i = idx // row\n",
        "        j = idx % row\n",
        "        merged[:, i * h:(i + 1) * h, (j * 2) * h:(j * 2 + 1) * h] = s\n",
        "        merged[:, i * h:(i + 1) * h, (j * 2 + 1) * h:(j * 2 + 2) * h] = t\n",
        "    return merged.transpose(1, 2, 0)\n",
        "\n",
        "\n",
        "def generate_gif(directory_path, keyword=None):\n",
        "    images = []\n",
        "    for filename in sorted(os.listdir(directory_path)):\n",
        "        if filename.endswith(\".png\") and (keyword is None or keyword in filename):\n",
        "            img_path = os.path.join(directory_path, filename)\n",
        "            print(\"adding image {}\".format(img_path))\n",
        "            images.append(imageio.imread(img_path))\n",
        "\n",
        "    if keyword:\n",
        "        imageio.mimsave(\n",
        "            os.path.join(directory_path, 'anim_{}.gif'.format(keyword)), images)\n",
        "    else:\n",
        "        imageio.mimsave(os.path.join(directory_path, 'anim.gif'), images)\n",
        "\n",
        "\n",
        "def create_image_grid(array, ncols=None):\n",
        "    \"\"\"\n",
        "    \"\"\"\n",
        "    num_images, channels, cell_h, cell_w = array.shape\n",
        "    if not ncols:\n",
        "        ncols = int(np.sqrt(num_images))\n",
        "    nrows = int(np.math.floor(num_images / float(ncols)))\n",
        "    result = np.zeros((cell_h * nrows, cell_w * ncols, channels), dtype=array.dtype)\n",
        "    for i in range(0, nrows):\n",
        "        for j in range(0, ncols):\n",
        "            result[i * cell_h:(i + 1) * cell_h, j * cell_w:(j + 1) * cell_w, :] = array[i * ncols + j].transpose(1, 2,\n",
        "                                                                                                                 0)\n",
        "\n",
        "    if channels == 1:\n",
        "        result = result.squeeze()\n",
        "    return result\n",
        "\n",
        "\n",
        "def gan_save_samples(G, fixed_noise, iteration, opts):\n",
        "    generated_images = G(fixed_noise)\n",
        "    generated_images = to_data(generated_images)\n",
        "\n",
        "    grid = create_image_grid(generated_images)\n",
        "\n",
        "    # merged = merge_images(X, fake_Y, opts)\n",
        "    path = os.path.join(opts.sample_dir, 'sample-{:06d}.png'.format(iteration))\n",
        "    imageio.imwrite(path, grid)\n",
        "    print('Saved {}'.format(path))"
      ],
      "execution_count": 2,
      "outputs": []
    },
    {
      "cell_type": "markdown",
      "metadata": {
        "id": "pbvpn4MaV0I1"
      },
      "source": [
        "## Data loader"
      ]
    },
    {
      "cell_type": "code",
      "metadata": {
        "id": "XVT4TNTOV3Eg"
      },
      "source": [
        "def get_emoji_loader(emoji_type, opts):\n",
        "    \"\"\"Creates training and test data loaders.\n",
        "    \"\"\"\n",
        "    transform = transforms.Compose([\n",
        "                    transforms.Scale(opts.image_size),\n",
        "                    transforms.ToTensor(),\n",
        "                    transforms.Normalize((0.5, 0.5, 0.5), (0.5, 0.5, 0.5))\n",
        "                ])\n",
        "\n",
        "    train_path = os.path.join('data/emojis', emoji_type)\n",
        "    test_path = os.path.join('data/emojis', 'Test_{}'.format(emoji_type))\n",
        "\n",
        "    train_dataset = datasets.ImageFolder(train_path, transform)\n",
        "    test_dataset = datasets.ImageFolder(test_path, transform)\n",
        "\n",
        "    train_dloader = DataLoader(dataset=train_dataset, batch_size=opts.batch_size, shuffle=True, num_workers=opts.num_workers)\n",
        "    test_dloader = DataLoader(dataset=test_dataset, batch_size=opts.batch_size, shuffle=False, num_workers=opts.num_workers)\n",
        "\n",
        "    return train_dloader, test_dloader"
      ],
      "execution_count": 3,
      "outputs": []
    },
    {
      "cell_type": "code",
      "metadata": {
        "id": "Jb9N58-07ku1"
      },
      "source": [
        "#---------------- CHAIR DATASET TAR FILE ----------------\n",
        "!wget https://www.di.ens.fr/willow/research/seeing3Dchairs/data/rendered_chairs.tar\n",
        "# %mkdir -p chair_data\n",
        "!tar -xvf  'rendered_chairs.tar'"
      ],
      "execution_count": null,
      "outputs": []
    },
    {
      "cell_type": "code",
      "metadata": {
        "id": "edjivBw-4ke6"
      },
      "source": [
        "import torchvision\n",
        "from torch.utils.data.sampler import SubsetRandomSampler\n",
        "import numpy as np\n",
        "import matplotlib.pyplot as plt\n",
        "import torchvision as tv\n",
        "import torch.utils.data as data\n",
        "# ---------------- CHAIR DATASET LOADER -----------------\n",
        "from PIL import ImageFile\n",
        "ImageFile.LOAD_TRUNCATED_IMAGES = True    # Note: this is required for image truncation error.\n",
        "\n",
        "IMAGE_SIZE = 32\n",
        "\n",
        "def get_subset(indices, start, end):\n",
        "    return indices[start : start + end]\n",
        "\n",
        "def get_chair_dataloader(opts):\n",
        "  trainTransform  = tv.transforms.Compose([\n",
        "                                           transforms.Scale((IMAGE_SIZE, IMAGE_SIZE)),    # scale image smaller to speed training\n",
        "                                          #  tv.transforms.Grayscale(num_output_channels=1),     # grayscale image to speed training\n",
        "                                           tv.transforms.ToTensor(),\n",
        "                                           transforms.Normalize((0.5, 0.5, 0.5), (0.5, 0.5, 0.5))\n",
        "                                           ])\n",
        "\n",
        "  dataset = torchvision.datasets.ImageFolder(\"rendered_chairs\", transform=trainTransform)\n",
        "\n",
        "  # ------------ SPLIT SET INTO TRAIN, VALIDATION, TEST SETS -------------\n",
        "\n",
        "  TRAIN_PCT, VALIDATION_PCT = 0.6, 0.2  # rest will go for test - TODO remove if we dont need validation set\n",
        "  train_count = int(len(dataset) * TRAIN_PCT)\n",
        "  validation_count = int(len(dataset) * VALIDATION_PCT)\n",
        "\n",
        "  print(len(dataset))\n",
        "  print(train_count)\n",
        "  print(validation_count)\n",
        "\n",
        "\n",
        "  indices = torch.randperm(len(dataset))\n",
        "\n",
        "  # get subset of indices for train, valid, and test sets\n",
        "  train_indices = get_subset(indices, 0, train_count)\n",
        "  validation_indices = get_subset(indices, train_count, validation_count)\n",
        "  test_indices = get_subset(indices, train_count + validation_count, len(dataset))\n",
        "\n",
        "  # ---------------- CREATE DATA LOADER -----------------\n",
        "\n",
        "  dataloaders = {\n",
        "      \"train\": torch.utils.data.DataLoader(\n",
        "          dataset, batch_size=opts.batch_size, sampler=SubsetRandomSampler(train_indices), num_workers=opts.num_workers\n",
        "      ),\n",
        "      \"validation\": torch.utils.data.DataLoader(\n",
        "          dataset, batch_size=opts.batch_size, sampler=SubsetRandomSampler(validation_indices), num_workers=opts.num_workers\n",
        "      ),\n",
        "      \"test\": torch.utils.data.DataLoader(\n",
        "          dataset, batch_size=opts.batch_size, sampler=SubsetRandomSampler(test_indices), num_workers=opts.num_workers\n",
        "      ),\n",
        "  }\n",
        "  \n",
        "  return dataloaders[\"train\"], dataloaders[\"validation\"], dataloaders[\"test\"]\n",
        "\n"
      ],
      "execution_count": 15,
      "outputs": []
    },
    {
      "cell_type": "markdown",
      "metadata": {
        "id": "bRWfRdmVVjUl"
      },
      "source": [
        "## Training and evaluation code"
      ]
    },
    {
      "cell_type": "code",
      "metadata": {
        "id": "nSIhQp41q_Nu"
      },
      "source": [
        "def print_models(G_XtoY, G_YtoX, D_X, D_Y):\n",
        "    \"\"\"Prints model information for the generators and discriminators.\n",
        "    \"\"\"\n",
        "    print(\"                 G                     \")\n",
        "    print(\"---------------------------------------\")\n",
        "    print(G_XtoY)\n",
        "    print(\"---------------------------------------\")\n",
        "\n",
        "    print(\"                  D                    \")\n",
        "    print(\"---------------------------------------\")\n",
        "    print(D_X)\n",
        "    print(\"---------------------------------------\")\n",
        "\n",
        "\n",
        "def create_model(opts):\n",
        "    \"\"\"Builds the generators and discriminators.\n",
        "    \"\"\"\n",
        "    ### GAN\n",
        "    G = DCGenerator(noise_size=opts.noise_size, conv_dim=opts.g_conv_dim, spectral_norm=opts.spectral_norm)\n",
        "    D = DCDiscriminator(conv_dim=opts.d_conv_dim, spectral_norm=opts.spectral_norm)\n",
        "\n",
        "    print_models(G, None, D, None)\n",
        "\n",
        "    if torch.cuda.is_available():\n",
        "        G.cuda()\n",
        "        D.cuda()\n",
        "        print('Models moved to GPU.')\n",
        "    return G, D\n",
        "\n",
        "def train(opts):\n",
        "    \"\"\"Loads the data, creates checkpoint and sample directories, and starts the training loop.\n",
        "    \"\"\"\n",
        "\n",
        "    # Create train and test dataloaders for images from the two domains X and Y\n",
        "    # dataloader_X, test_dataloader_X = get_emoji_loader(emoji_type=opts.X, opts=opts)\n",
        "\n",
        "    dataloader_X, valid_dataloader_X, test_dataloader_X = get_chair_dataloader(opts=opts)\n",
        "    \n",
        "    \n",
        "    # Create checkpoint and sample directories\n",
        "    create_dir(opts.checkpoint_dir)\n",
        "    create_dir(opts.sample_dir)\n",
        "\n",
        "    # Start training\n",
        "    G, D = gan_training_loop(dataloader_X, test_dataloader_X, opts)\n",
        "    return G, D\n",
        "\n",
        "def print_opts(opts):\n",
        "    \"\"\"Prints the values of all command-line arguments.\n",
        "    \"\"\"\n",
        "    print('=' * 80)\n",
        "    print('Opts'.center(80))\n",
        "    print('-' * 80)\n",
        "    for key in opts.__dict__:\n",
        "        if opts.__dict__[key]:\n",
        "            print('{:>30}: {:<30}'.format(key, opts.__dict__[key]).center(80))\n",
        "    print('=' * 80)\n"
      ],
      "execution_count": 25,
      "outputs": []
    },
    {
      "cell_type": "markdown",
      "metadata": {
        "id": "bXNsLNkOn38w"
      },
      "source": [
        "# Your code for generators and discriminators"
      ]
    },
    {
      "cell_type": "markdown",
      "metadata": {
        "id": "u0KxX0sDpXKb"
      },
      "source": [
        "## Helper modules"
      ]
    },
    {
      "cell_type": "code",
      "metadata": {
        "id": "y7s0etAmpUgT"
      },
      "source": [
        "def sample_noise(batch_size, dim):\n",
        "    \"\"\"\n",
        "    Generate a PyTorch Tensor of uniform random noise.\n",
        "\n",
        "    Input:\n",
        "    - batch_size: Integer giving the batch size of noise to generate.\n",
        "    - dim: Integer giving the dimension of noise to generate.\n",
        "\n",
        "    Output:\n",
        "    - A PyTorch Tensor of shape (batch_size, dim, 1, 1) containing uniform\n",
        "      random noise in the range (-1, 1).\n",
        "    \"\"\"\n",
        "    return to_var(torch.rand(batch_size, dim) * 2 - 1).unsqueeze(2).unsqueeze(3)\n",
        "\n",
        "\n",
        "# modify point in latent space as input for the generator (input should be sample_noise)\n",
        "# def modify_latent_noise(noise):\n",
        "#   # noise of of shape (batch_size, dim, 1, 1) containing uniform random noise in the range (-1, 1).\n",
        "#   modified_noise = noise.squeeze(2).squeeze(3)\n",
        "#   rows = torch.arange(modified_noise.size(0)).long()\n",
        "#   rand = torch.randint(-1, 1, (1,))   # rand noise value to update vector at idx \n",
        "#   modified_noise[rows, 0] = rand\n",
        "#   return to_var(modified_noise).unsqueeze(2).unsqueeze(3)\n",
        "  \n",
        "\n",
        "def upconv(in_channels, out_channels, kernel_size, stride=2, padding=2, batch_norm=True, spectral_norm=False):\n",
        "    \"\"\"Creates a upsample-and-convolution layer, with optional batch normalization.\n",
        "    \"\"\"\n",
        "    layers = []\n",
        "    if stride>1:\n",
        "        layers.append(nn.Upsample(scale_factor=stride))\n",
        "    conv_layer = nn.Conv2d(in_channels=in_channels, out_channels=out_channels, kernel_size=kernel_size, stride=1, padding=padding, bias=False)\n",
        "    if spectral_norm:\n",
        "        layers.append(SpectralNorm(conv_layer))\n",
        "    else:\n",
        "        layers.append(conv_layer)\n",
        "    if batch_norm:\n",
        "        layers.append(nn.BatchNorm2d(out_channels))\n",
        "    return nn.Sequential(*layers)\n",
        "\n",
        "\n",
        "def conv(in_channels, out_channels, kernel_size, stride=2, padding=2, batch_norm=True, init_zero_weights=False, spectral_norm=False):\n",
        "    \"\"\"Creates a convolutional layer, with optional batch normalization.\n",
        "    \"\"\"\n",
        "    layers = []\n",
        "    conv_layer = nn.Conv2d(in_channels=in_channels, out_channels=out_channels, kernel_size=kernel_size, stride=stride, padding=padding, bias=False)\n",
        "    if init_zero_weights:\n",
        "        conv_layer.weight.data = torch.randn(out_channels, in_channels, kernel_size, kernel_size) * 0.001\n",
        "            \n",
        "    if spectral_norm:\n",
        "        layers.append(SpectralNorm(conv_layer))\n",
        "    else:\n",
        "        layers.append(conv_layer)\n",
        "\n",
        "    if batch_norm:\n",
        "        layers.append(nn.BatchNorm2d(out_channels))\n",
        "    return nn.Sequential(*layers)\n",
        "  \n",
        "\n",
        "class ResnetBlock(nn.Module):\n",
        "    def __init__(self, conv_dim):\n",
        "        super(ResnetBlock, self).__init__()\n",
        "        self.conv_layer = conv(in_channels=conv_dim, out_channels=conv_dim, kernel_size=3, stride=1, padding=1)\n",
        "\n",
        "    def forward(self, x):\n",
        "        out = x + self.conv_layer(x)\n",
        "        return out"
      ],
      "execution_count": 26,
      "outputs": []
    },
    {
      "cell_type": "markdown",
      "metadata": {
        "id": "S0_YbBwe5k35"
      },
      "source": [
        "## DCGAN"
      ]
    },
    {
      "cell_type": "markdown",
      "metadata": {
        "id": "m1E_jDaBLT1P"
      },
      "source": [
        "## Spectral Norm class"
      ]
    },
    {
      "cell_type": "code",
      "metadata": {
        "id": "2hy97i1-LT1Q"
      },
      "source": [
        "def l2normalize(v, eps=1e-12):\n",
        "    return v / (v.norm() + eps)\n",
        "\n",
        "\n",
        "class SpectralNorm(nn.Module):\n",
        "    def __init__(self, module, name='weight', power_iterations=1):\n",
        "        super(SpectralNorm, self).__init__()\n",
        "        self.module = module\n",
        "        self.name = name\n",
        "        self.power_iterations = power_iterations\n",
        "        if not self._made_params():\n",
        "            self._make_params()\n",
        "\n",
        "    def _update_u_v(self):\n",
        "        u = getattr(self.module, self.name + \"_u\")\n",
        "        v = getattr(self.module, self.name + \"_v\")\n",
        "        w = getattr(self.module, self.name + \"_bar\")\n",
        "\n",
        "        height = w.data.shape[0]\n",
        "        for _ in range(self.power_iterations):\n",
        "            v.data = l2normalize(torch.mv(torch.t(w.view(height,-1).data), u.data))\n",
        "            u.data = l2normalize(torch.mv(w.view(height,-1).data, v.data))\n",
        "\n",
        "        # sigma = torch.dot(u.data, torch.mv(w.view(height,-1).data, v.data))\n",
        "        sigma = u.dot(w.view(height, -1).mv(v))\n",
        "        setattr(self.module, self.name, w / sigma.expand_as(w))\n",
        "\n",
        "    def _made_params(self):\n",
        "        try:\n",
        "            u = getattr(self.module, self.name + \"_u\")\n",
        "            v = getattr(self.module, self.name + \"_v\")\n",
        "            w = getattr(self.module, self.name + \"_bar\")\n",
        "            return True\n",
        "        except AttributeError:\n",
        "            return False\n",
        "\n",
        "    def _make_params(self):\n",
        "        w = getattr(self.module, self.name)\n",
        "\n",
        "        height = w.data.shape[0]\n",
        "        width = w.view(height, -1).data.shape[1]\n",
        "\n",
        "        u = Parameter(w.data.new(height).normal_(0, 1), requires_grad=False)\n",
        "        v = Parameter(w.data.new(width).normal_(0, 1), requires_grad=False)\n",
        "        u.data = l2normalize(u.data)\n",
        "        v.data = l2normalize(v.data)\n",
        "        w_bar = Parameter(w.data)\n",
        "\n",
        "        del self.module._parameters[self.name]\n",
        "\n",
        "        self.module.register_parameter(self.name + \"_u\", u)\n",
        "        self.module.register_parameter(self.name + \"_v\", v)\n",
        "        self.module.register_parameter(self.name + \"_bar\", w_bar)\n",
        "\n",
        "    def forward(self, *args):\n",
        "        self._update_u_v()\n",
        "        return self.module.forward(*args)"
      ],
      "execution_count": 27,
      "outputs": []
    },
    {
      "cell_type": "markdown",
      "metadata": {
        "id": "_BAfi_8yWB3y"
      },
      "source": [
        "### GAN generator"
      ]
    },
    {
      "cell_type": "code",
      "metadata": {
        "id": "9ztmyA5Ro67o"
      },
      "source": [
        "class DCGenerator(nn.Module):\n",
        "    def __init__(self, noise_size, conv_dim, spectral_norm=False):\n",
        "        super(DCGenerator, self).__init__()\n",
        "\n",
        "        self.conv_dim = conv_dim  # conv_dim = size 32 = prev image size\n",
        "        ###########################################\n",
        "        ##   FILL THIS IN: CREATE ARCHITECTURE   ##\n",
        "        ###########################################\n",
        "        self.linear_bn = upconv(in_channels=noise_size, out_channels=128*4*4, kernel_size=1, stride=0, padding=0) # treat as fc linear layer\n",
        "        self.upconv1 = upconv(in_channels=conv_dim*4, out_channels=conv_dim*2, kernel_size=5, spectral_norm=spectral_norm)\n",
        "        self.upconv2 = upconv(in_channels=conv_dim*2, out_channels=conv_dim, kernel_size=5, spectral_norm=spectral_norm)\n",
        "        self.upconv3 = upconv(in_channels=conv_dim, out_channels=3, kernel_size=5, batch_norm=False, spectral_norm=spectral_norm) # out_channels=1 for grayscale\n",
        "\n",
        "    def forward(self, z):\n",
        "        \"\"\"Generates an image given a sample of random noise.\n",
        "\n",
        "            Input\n",
        "            -----\n",
        "                z: BS x noise_size x 1 x 1   -->  BSx100x1x1 (during training)\n",
        "\n",
        "            Output\n",
        "            ------\n",
        "                out: BS x channels x image_width x image_height  -->  BSx3x32x32 (during training)\n",
        "        \"\"\"\n",
        "        batch_size = z.size(0)\n",
        "        \n",
        "        out = F.relu(self.linear_bn(z)).view(-1, self.conv_dim*4, 4, 4)    # BS x 128 x 4 x 4     Chair: BS X 128 * 4 * 4 (might need to change conv_dim)\n",
        "        out = F.relu(self.upconv1(out))  # BS x 64 x 8 x 8\n",
        "        out = F.relu(self.upconv2(out))  # BS x 32 x 16 x 16\n",
        "        out = F.tanh(self.upconv3(out))  # BS x 3 x 32 x 32 -> 1 x 32 x 32\n",
        "        \n",
        "        out_size = out.size()\n",
        "        if out_size != torch.Size([batch_size, 3, 32, 32]):\n",
        "            raise ValueError(\"expect {} x 3 x 32 x 32, but get {}\".format(batch_size, out_size))\n",
        "        return out\n"
      ],
      "execution_count": 28,
      "outputs": []
    },
    {
      "cell_type": "markdown",
      "metadata": {
        "id": "cG4uqAVPp8_B"
      },
      "source": [
        "### GAN discriminator"
      ]
    },
    {
      "cell_type": "code",
      "metadata": {
        "id": "0GkjXydnqARR"
      },
      "source": [
        "class DCDiscriminator(nn.Module):\n",
        "    \"\"\"Defines the architecture of the discriminator network.\n",
        "       Note: Both discriminators D_X and D_Y have the same architecture in this assignment.\n",
        "    \"\"\"\n",
        "    def __init__(self, conv_dim=64, spectral_norm=False):\n",
        "        super(DCDiscriminator, self).__init__()\n",
        "\n",
        "        self.conv1 = conv(in_channels=3, out_channels=conv_dim, kernel_size=5, stride=2, spectral_norm=spectral_norm)\n",
        "        self.conv2 = conv(in_channels=conv_dim, out_channels=conv_dim*2, kernel_size=5, stride=2, spectral_norm=spectral_norm)\n",
        "        self.conv3 = conv(in_channels=conv_dim*2, out_channels=conv_dim*4, kernel_size=5, stride=2, spectral_norm=spectral_norm)\n",
        "        self.conv4 = conv(in_channels=conv_dim*4, out_channels=1, kernel_size=5, stride=2, padding=1, batch_norm=False, spectral_norm=spectral_norm)\n",
        "\n",
        "    def forward(self, x):\n",
        "        batch_size = x.size(0)\n",
        "\n",
        "        out = F.relu(self.conv1(x))    # BS x 64 x 16 x 16\n",
        "        out = F.relu(self.conv2(out))    # BS x 64 x 8 x 8\n",
        "        out = F.relu(self.conv3(out))    # BS x 64 x 4 x 4\n",
        "\n",
        "        out = self.conv4(out).squeeze()\n",
        "        out_size = out.size()\n",
        "        \n",
        "        '''\n",
        "        when you call train i get this : ValueError: expect 32 x 1, but get torch.Size([32, 3, 3])\n",
        "        '''\n",
        "\n",
        "        if out_size != torch.Size([batch_size,]):\n",
        "            raise ValueError(\"expect {} x 1, but get {}\".format(batch_size, out_size))\n",
        "        return out"
      ],
      "execution_count": 29,
      "outputs": []
    },
    {
      "cell_type": "markdown",
      "metadata": {
        "id": "G8RtBMu55ysm"
      },
      "source": [
        "### GAN training loop"
      ]
    },
    {
      "cell_type": "code",
      "metadata": {
        "id": "MxIJ2Zua51KI"
      },
      "source": [
        "def gan_training_loop(dataloader, test_dataloader, opts):\n",
        "    \"\"\"Runs the training loop.\n",
        "        * Saves checkpoint every opts.checkpoint_every iterations\n",
        "        * Saves generated samples every opts.sample_every iterations\n",
        "    \"\"\"\n",
        "\n",
        "    # Create generators and discriminators\n",
        "    G, D = create_model(opts)\n",
        "\n",
        "    g_params = G.parameters()  # Get generator parameters\n",
        "    d_params = D.parameters()  # Get discriminator parameters\n",
        "\n",
        "    # Create optimizers for the generators and discriminators\n",
        "    g_optimizer = optim.Adam(g_params, opts.lr, [opts.beta1, opts.beta2])\n",
        "    d_optimizer = optim.Adam(d_params, opts.lr * 2., [opts.beta1, opts.beta2])\n",
        "\n",
        "    train_iter = iter(dataloader)\n",
        "\n",
        "    test_iter = iter(test_dataloader)\n",
        "\n",
        "    # Get some fixed data from domains X and Y for sampling. These are images that are held\n",
        "    # constant throughout training, that allow us to inspect the model's performance.\n",
        "    fixed_noise = sample_noise(100, opts.noise_size)  # # 100 x noise_size x 1 x 1\n",
        "\n",
        "    iter_per_epoch = len(train_iter)\n",
        "    total_train_iters = opts.train_iters\n",
        "\n",
        "    losses = {\"iteration\": [], \"D_fake_loss\": [], \"D_real_loss\": [], \"G_loss\": []}\n",
        "\n",
        "    # adversarial_loss = torch.nn.BCEWithLogitsLoss()\n",
        "    gp_weight = 1\n",
        "\n",
        "    try:\n",
        "        for iteration in range(1, opts.train_iters + 1):\n",
        "\n",
        "            # Reset data_iter for each epoch\n",
        "            if iteration % iter_per_epoch == 0:\n",
        "                train_iter = iter(dataloader)\n",
        "\n",
        "            real_images, real_labels = train_iter.next()\n",
        "            real_images, real_labels = to_var(real_images), to_var(real_labels).long().squeeze()\n",
        "            m = real_images.shape[0]\n",
        "\n",
        "            # ones = Variable(torch.Tensor(real_images.shape[0]).float().cuda().fill_(1.0), requires_grad=False)\n",
        "\n",
        "            for d_i in range(opts.d_train_iters):\n",
        "                d_optimizer.zero_grad()\n",
        "\n",
        "                # FILL THIS IN\n",
        "                # 1. Compute the discriminator loss on real images\n",
        "                D_real_loss = 1.0/(2*m) * torch.sum((D(real_images)-1)**2)\n",
        "\n",
        "                # 2. Sample noise\n",
        "                noise = sample_noise(m, opts.noise_size)\n",
        "\n",
        "                # 3. Generate fake images from the noise\n",
        "                fake_images = G(noise)  # out: BS x channels x image_width x image_height  -->  BSx3x32x32 (during training)\n",
        "\n",
        "                # 4. Compute the discriminator loss on the fake images\n",
        "                D_fake_loss = 1.0/(2*m) * torch.sum(D(fake_images)**2)\n",
        "\n",
        "                # ---- Gradient Penalty ----\n",
        "                if opts.gradient_penalty:\n",
        "                    alpha = torch.rand(real_images.shape[0], 1, 1, 1)\n",
        "                    alpha = alpha.expand_as(real_images).cuda()\n",
        "                    interp_images = Variable(alpha * real_images.data + (1 - alpha) * fake_images.data, requires_grad=True).cuda()\n",
        "                    D_interp_output = D(interp_images)\n",
        "\n",
        "                    gradients = torch.autograd.grad(outputs=D_interp_output, inputs=interp_images,\n",
        "                                                    grad_outputs=torch.ones(D_interp_output.size()).cuda(),\n",
        "                                                    create_graph=True, retain_graph=True)[0]\n",
        "                    gradients = gradients.view(real_images.shape[0], -1)\n",
        "                    gradients_norm = torch.sqrt(torch.sum(gradients ** 2, dim=1) + 1e-12)\n",
        "\n",
        "                    gp = gp_weight * gradients_norm.mean()\n",
        "                else:\n",
        "                    gp = 0.0\n",
        "\n",
        "                # --------------------------\n",
        "                # 5. Compute the total discriminator loss\n",
        "                D_total_loss = D_real_loss + D_fake_loss + gp\n",
        "\n",
        "                D_total_loss.backward()\n",
        "                d_optimizer.step()\n",
        "\n",
        "            ###########################################\n",
        "            ###          TRAIN THE GENERATOR        ###\n",
        "            ###########################################\n",
        "\n",
        "            g_optimizer.zero_grad()\n",
        "\n",
        "            # FILL THIS IN\n",
        "            # 1. Sample noise\n",
        "            noise = sample_noise(m, opts.noise_size)\n",
        "\n",
        "            # 2. Generate fake images from the noise\n",
        "            fake_images = G(noise)\n",
        "\n",
        "            # 3. Compute the generator loss\n",
        "            G_loss = 1.0/m * torch.sum((D(fake_images)-1)**2)\n",
        "\n",
        "            G_loss.backward()\n",
        "            g_optimizer.step()\n",
        "\n",
        "            # Print the log info\n",
        "            if iteration % opts.log_step == 0:\n",
        "                losses['iteration'].append(iteration)\n",
        "                losses['D_real_loss'].append(D_real_loss.item())\n",
        "                losses['D_fake_loss'].append(D_fake_loss.item())\n",
        "                losses['G_loss'].append(G_loss.item())\n",
        "                print('Iteration [{:4d}/{:4d}] | D_real_loss: {:6.4f} | D_fake_loss: {:6.4f} | G_loss: {:6.4f}'.format(\n",
        "                    iteration, total_train_iters, D_real_loss.item(), D_fake_loss.item(), G_loss.item()))\n",
        "\n",
        "            # Save the generated samples\n",
        "            if iteration % opts.sample_every == 0:\n",
        "                gan_save_samples(G, fixed_noise, iteration, opts)\n",
        "\n",
        "            # Save the model parameters\n",
        "            if iteration % opts.checkpoint_every == 0:\n",
        "                gan_checkpoint(iteration, G, D, opts)\n",
        "\n",
        "    except KeyboardInterrupt:\n",
        "        print('Exiting early from training.')\n",
        "        return G, D\n",
        "\n",
        "    plt.figure()\n",
        "    plt.plot(losses['iteration'], losses['D_real_loss'], label='D_real')\n",
        "    plt.plot(losses['iteration'], losses['D_fake_loss'], label='D_fake')\n",
        "    plt.plot(losses['iteration'], losses['G_loss'], label='G')\n",
        "    plt.legend()\n",
        "    plt.savefig(os.path.join(opts.sample_dir, 'losses.png'))\n",
        "    plt.close()\n",
        "    return G, D"
      ],
      "execution_count": 30,
      "outputs": []
    },
    {
      "cell_type": "code",
      "metadata": {
        "id": "UDw8jHiOO-Cu"
      },
      "source": [
        "# from google.colab import drive\n",
        "# drive.mount('/content/drive')"
      ],
      "execution_count": 31,
      "outputs": []
    },
    {
      "cell_type": "markdown",
      "metadata": {
        "id": "XuNFd6LNo0-o"
      },
      "source": [
        "# Training\n"
      ]
    },
    {
      "cell_type": "markdown",
      "metadata": {
        "id": "kiUwiOITHTW4"
      },
      "source": [
        "## Download dataset"
      ]
    },
    {
      "cell_type": "code",
      "metadata": {
        "id": "xwcFjsEpHRbI"
      },
      "source": [
        "######################################################################\n",
        "# Download Translation datasets\n",
        "######################################################################\n",
        "# data_fpath = get_file(fname='emojis', \n",
        "#                          origin='http://www.cs.toronto.edu/~jba/emojis.tar.gz', \n",
        "#                          untar=True)"
      ],
      "execution_count": 32,
      "outputs": []
    },
    {
      "cell_type": "markdown",
      "metadata": {
        "id": "hmQmyJDSRFKR"
      },
      "source": [
        "## DCGAN"
      ]
    },
    {
      "cell_type": "code",
      "metadata": {
        "id": "0LKaRF1jwhH7",
        "scrolled": true,
        "colab": {
          "base_uri": "https://localhost:8080/"
        },
        "outputId": "9ac11679-6517-41c9-a183-65508141c5c0"
      },
      "source": [
        "SEED = 11\n",
        "\n",
        "# Set the random seed manually for reproducibility.\n",
        "np.random.seed(SEED)\n",
        "torch.manual_seed(SEED)\n",
        "if torch.cuda.is_available():\n",
        "    torch.cuda.manual_seed(SEED)\n",
        "\n",
        "\n",
        "args = AttrDict()\n",
        "args_dict = {\n",
        "              'image_size':32, # 32 previously\n",
        "              'g_conv_dim':32, \n",
        "              'd_conv_dim':64,\n",
        "              'noise_size':256,\n",
        "              'num_workers': 0,\n",
        "              'train_iters':6000,\n",
        "              'X':'Windows',  # options: 'Windows' / 'Apple'\n",
        "              'Y': None,\n",
        "              'lr':0.00003,\n",
        "              'beta1':0.5,\n",
        "              'beta2':0.999,\n",
        "              'batch_size':32, \n",
        "              'checkpoint_dir': 'results/checkpoints_gan_gp1_lr3e-5',\n",
        "              'sample_dir': 'results/samples_gan_gp1_lr3e-5',\n",
        "              'load': None,\n",
        "              'log_step':200,\n",
        "              'sample_every':200,\n",
        "              'checkpoint_every':1000,\n",
        "              'spectral_norm': False,\n",
        "              'gradient_penalty': True,\n",
        "              'd_train_iters': 1\n",
        "}\n",
        "args.update(args_dict)\n",
        "\n",
        "print_opts(args)\n",
        "G, D = train(args)\n",
        "\n",
        "generate_gif(\"results/samples_gan_gp1_lr3e-5\")"
      ],
      "execution_count": 33,
      "outputs": [
        {
          "output_type": "stream",
          "text": [
            "================================================================================\n",
            "                                      Opts                                      \n",
            "--------------------------------------------------------------------------------\n",
            "                             image_size: 32                                     \n",
            "                             g_conv_dim: 32                                     \n",
            "                             d_conv_dim: 64                                     \n",
            "                             noise_size: 256                                    \n",
            "                            train_iters: 6000                                   \n",
            "                                      X: Windows                                \n",
            "                                     lr: 3e-05                                  \n",
            "                                  beta1: 0.5                                    \n",
            "                                  beta2: 0.999                                  \n",
            "                             batch_size: 32                                     \n",
            "                       checkpoint_dir: results/checkpoints_gan_gp1_lr3e-5       \n",
            "                             sample_dir: results/samples_gan_gp1_lr3e-5         \n",
            "                               log_step: 200                                    \n",
            "                           sample_every: 200                                    \n",
            "                       checkpoint_every: 1000                                   \n",
            "                       gradient_penalty: 1                                      \n",
            "                          d_train_iters: 1                                      \n",
            "================================================================================\n"
          ],
          "name": "stdout"
        },
        {
          "output_type": "stream",
          "text": [
            "/usr/local/lib/python3.7/dist-packages/torchvision/transforms/transforms.py:285: UserWarning: The use of the transforms.Scale transform is deprecated, please use transforms.Resize instead.\n",
            "  warnings.warn(\"The use of the transforms.Scale transform is deprecated, \" +\n"
          ],
          "name": "stderr"
        },
        {
          "output_type": "stream",
          "text": [
            "86366\n",
            "51819\n",
            "17273\n",
            "                 G                     \n",
            "---------------------------------------\n",
            "DCGenerator(\n",
            "  (linear_bn): Sequential(\n",
            "    (0): Conv2d(256, 2048, kernel_size=(1, 1), stride=(1, 1), bias=False)\n",
            "    (1): BatchNorm2d(2048, eps=1e-05, momentum=0.1, affine=True, track_running_stats=True)\n",
            "  )\n",
            "  (upconv1): Sequential(\n",
            "    (0): Upsample(scale_factor=2.0, mode=nearest)\n",
            "    (1): Conv2d(128, 64, kernel_size=(5, 5), stride=(1, 1), padding=(2, 2), bias=False)\n",
            "    (2): BatchNorm2d(64, eps=1e-05, momentum=0.1, affine=True, track_running_stats=True)\n",
            "  )\n",
            "  (upconv2): Sequential(\n",
            "    (0): Upsample(scale_factor=2.0, mode=nearest)\n",
            "    (1): Conv2d(64, 32, kernel_size=(5, 5), stride=(1, 1), padding=(2, 2), bias=False)\n",
            "    (2): BatchNorm2d(32, eps=1e-05, momentum=0.1, affine=True, track_running_stats=True)\n",
            "  )\n",
            "  (upconv3): Sequential(\n",
            "    (0): Upsample(scale_factor=2.0, mode=nearest)\n",
            "    (1): Conv2d(32, 3, kernel_size=(5, 5), stride=(1, 1), padding=(2, 2), bias=False)\n",
            "  )\n",
            ")\n",
            "---------------------------------------\n",
            "                  D                    \n",
            "---------------------------------------\n",
            "DCDiscriminator(\n",
            "  (conv1): Sequential(\n",
            "    (0): Conv2d(3, 64, kernel_size=(5, 5), stride=(2, 2), padding=(2, 2), bias=False)\n",
            "    (1): BatchNorm2d(64, eps=1e-05, momentum=0.1, affine=True, track_running_stats=True)\n",
            "  )\n",
            "  (conv2): Sequential(\n",
            "    (0): Conv2d(64, 128, kernel_size=(5, 5), stride=(2, 2), padding=(2, 2), bias=False)\n",
            "    (1): BatchNorm2d(128, eps=1e-05, momentum=0.1, affine=True, track_running_stats=True)\n",
            "  )\n",
            "  (conv3): Sequential(\n",
            "    (0): Conv2d(128, 256, kernel_size=(5, 5), stride=(2, 2), padding=(2, 2), bias=False)\n",
            "    (1): BatchNorm2d(256, eps=1e-05, momentum=0.1, affine=True, track_running_stats=True)\n",
            "  )\n",
            "  (conv4): Sequential(\n",
            "    (0): Conv2d(256, 1, kernel_size=(5, 5), stride=(2, 2), padding=(1, 1), bias=False)\n",
            "  )\n",
            ")\n",
            "---------------------------------------\n",
            "Models moved to GPU.\n"
          ],
          "name": "stdout"
        },
        {
          "output_type": "stream",
          "text": [
            "/usr/local/lib/python3.7/dist-packages/torch/nn/functional.py:1698: UserWarning: nn.functional.tanh is deprecated. Use torch.tanh instead.\n",
            "  warnings.warn(\"nn.functional.tanh is deprecated. Use torch.tanh instead.\")\n",
            "WARNING:root:Lossy conversion from float32 to uint8. Range [-0.9205370545387268, 0.9839378595352173]. Convert image to uint8 prior to saving to suppress this warning.\n"
          ],
          "name": "stderr"
        },
        {
          "output_type": "stream",
          "text": [
            "Iteration [ 200/6000] | D_real_loss: 0.0106 | D_fake_loss: 0.0071 | G_loss: 0.7046\n",
            "Saved results/samples_gan_gp1_lr3e-5/sample-000200.png\n"
          ],
          "name": "stdout"
        },
        {
          "output_type": "stream",
          "text": [
            "WARNING:root:Lossy conversion from float32 to uint8. Range [-0.9985429644584656, 0.9984263181686401]. Convert image to uint8 prior to saving to suppress this warning.\n"
          ],
          "name": "stderr"
        },
        {
          "output_type": "stream",
          "text": [
            "Iteration [ 400/6000] | D_real_loss: 0.0343 | D_fake_loss: 0.0106 | G_loss: 0.6291\n",
            "Saved results/samples_gan_gp1_lr3e-5/sample-000400.png\n"
          ],
          "name": "stdout"
        },
        {
          "output_type": "stream",
          "text": [
            "WARNING:root:Lossy conversion from float32 to uint8. Range [-0.999851644039154, 0.9998910427093506]. Convert image to uint8 prior to saving to suppress this warning.\n"
          ],
          "name": "stderr"
        },
        {
          "output_type": "stream",
          "text": [
            "Iteration [ 600/6000] | D_real_loss: 0.0377 | D_fake_loss: 0.0234 | G_loss: 0.6109\n",
            "Saved results/samples_gan_gp1_lr3e-5/sample-000600.png\n"
          ],
          "name": "stdout"
        },
        {
          "output_type": "stream",
          "text": [
            "WARNING:root:Lossy conversion from float32 to uint8. Range [-0.9999669790267944, 0.9999847412109375]. Convert image to uint8 prior to saving to suppress this warning.\n"
          ],
          "name": "stderr"
        },
        {
          "output_type": "stream",
          "text": [
            "Iteration [ 800/6000] | D_real_loss: 0.0113 | D_fake_loss: 0.0464 | G_loss: 0.7887\n",
            "Saved results/samples_gan_gp1_lr3e-5/sample-000800.png\n"
          ],
          "name": "stdout"
        },
        {
          "output_type": "stream",
          "text": [
            "WARNING:root:Lossy conversion from float32 to uint8. Range [-0.9999361634254456, 0.9999943375587463]. Convert image to uint8 prior to saving to suppress this warning.\n"
          ],
          "name": "stderr"
        },
        {
          "output_type": "stream",
          "text": [
            "Iteration [1000/6000] | D_real_loss: 0.0602 | D_fake_loss: 0.0226 | G_loss: 0.4310\n",
            "Saved results/samples_gan_gp1_lr3e-5/sample-001000.png\n"
          ],
          "name": "stdout"
        },
        {
          "output_type": "stream",
          "text": [
            "WARNING:root:Lossy conversion from float32 to uint8. Range [-0.9998884797096252, 0.9999988079071045]. Convert image to uint8 prior to saving to suppress this warning.\n"
          ],
          "name": "stderr"
        },
        {
          "output_type": "stream",
          "text": [
            "Iteration [1200/6000] | D_real_loss: 0.0697 | D_fake_loss: 0.0359 | G_loss: 0.4205\n",
            "Saved results/samples_gan_gp1_lr3e-5/sample-001200.png\n"
          ],
          "name": "stdout"
        },
        {
          "output_type": "stream",
          "text": [
            "WARNING:root:Lossy conversion from float32 to uint8. Range [-0.9999895095825195, 0.9999986290931702]. Convert image to uint8 prior to saving to suppress this warning.\n"
          ],
          "name": "stderr"
        },
        {
          "output_type": "stream",
          "text": [
            "Iteration [1400/6000] | D_real_loss: 0.0667 | D_fake_loss: 0.0642 | G_loss: 0.4753\n",
            "Saved results/samples_gan_gp1_lr3e-5/sample-001400.png\n"
          ],
          "name": "stdout"
        },
        {
          "output_type": "stream",
          "text": [
            "WARNING:root:Lossy conversion from float32 to uint8. Range [-0.9999933242797852, 0.9999995231628418]. Convert image to uint8 prior to saving to suppress this warning.\n"
          ],
          "name": "stderr"
        },
        {
          "output_type": "stream",
          "text": [
            "Iteration [1600/6000] | D_real_loss: 0.1146 | D_fake_loss: 0.0372 | G_loss: 0.2903\n",
            "Saved results/samples_gan_gp1_lr3e-5/sample-001600.png\n"
          ],
          "name": "stdout"
        },
        {
          "output_type": "stream",
          "text": [
            "WARNING:root:Lossy conversion from float32 to uint8. Range [-0.9999976754188538, 0.9999994039535522]. Convert image to uint8 prior to saving to suppress this warning.\n"
          ],
          "name": "stderr"
        },
        {
          "output_type": "stream",
          "text": [
            "Iteration [1800/6000] | D_real_loss: 0.0793 | D_fake_loss: 0.0496 | G_loss: 0.3001\n",
            "Saved results/samples_gan_gp1_lr3e-5/sample-001800.png\n"
          ],
          "name": "stdout"
        },
        {
          "output_type": "stream",
          "text": [
            "WARNING:root:Lossy conversion from float32 to uint8. Range [-0.9999992847442627, 0.9999999403953552]. Convert image to uint8 prior to saving to suppress this warning.\n"
          ],
          "name": "stderr"
        },
        {
          "output_type": "stream",
          "text": [
            "Iteration [2000/6000] | D_real_loss: 0.0465 | D_fake_loss: 0.0618 | G_loss: 0.3996\n",
            "Saved results/samples_gan_gp1_lr3e-5/sample-002000.png\n"
          ],
          "name": "stdout"
        },
        {
          "output_type": "stream",
          "text": [
            "WARNING:root:Lossy conversion from float32 to uint8. Range [-0.9999937415122986, 1.0]. Convert image to uint8 prior to saving to suppress this warning.\n"
          ],
          "name": "stderr"
        },
        {
          "output_type": "stream",
          "text": [
            "Iteration [2200/6000] | D_real_loss: 0.1677 | D_fake_loss: 0.0214 | G_loss: 0.3170\n",
            "Saved results/samples_gan_gp1_lr3e-5/sample-002200.png\n"
          ],
          "name": "stdout"
        },
        {
          "output_type": "stream",
          "text": [
            "WARNING:root:Lossy conversion from float32 to uint8. Range [-0.9999970197677612, 1.0]. Convert image to uint8 prior to saving to suppress this warning.\n"
          ],
          "name": "stderr"
        },
        {
          "output_type": "stream",
          "text": [
            "Iteration [2400/6000] | D_real_loss: 0.0606 | D_fake_loss: 0.0566 | G_loss: 0.5919\n",
            "Saved results/samples_gan_gp1_lr3e-5/sample-002400.png\n"
          ],
          "name": "stdout"
        },
        {
          "output_type": "stream",
          "text": [
            "WARNING:root:Lossy conversion from float32 to uint8. Range [-0.9999973773956299, 1.0]. Convert image to uint8 prior to saving to suppress this warning.\n"
          ],
          "name": "stderr"
        },
        {
          "output_type": "stream",
          "text": [
            "Iteration [2600/6000] | D_real_loss: 0.0361 | D_fake_loss: 0.1197 | G_loss: 0.2363\n",
            "Saved results/samples_gan_gp1_lr3e-5/sample-002600.png\n"
          ],
          "name": "stdout"
        },
        {
          "output_type": "stream",
          "text": [
            "WARNING:root:Lossy conversion from float32 to uint8. Range [-0.9999946355819702, 1.0]. Convert image to uint8 prior to saving to suppress this warning.\n"
          ],
          "name": "stderr"
        },
        {
          "output_type": "stream",
          "text": [
            "Iteration [2800/6000] | D_real_loss: 0.0335 | D_fake_loss: 0.0704 | G_loss: 0.5045\n",
            "Saved results/samples_gan_gp1_lr3e-5/sample-002800.png\n"
          ],
          "name": "stdout"
        },
        {
          "output_type": "stream",
          "text": [
            "WARNING:root:Lossy conversion from float32 to uint8. Range [-0.999995768070221, 1.0]. Convert image to uint8 prior to saving to suppress this warning.\n"
          ],
          "name": "stderr"
        },
        {
          "output_type": "stream",
          "text": [
            "Iteration [3000/6000] | D_real_loss: 0.0831 | D_fake_loss: 0.0937 | G_loss: 0.3771\n",
            "Saved results/samples_gan_gp1_lr3e-5/sample-003000.png\n"
          ],
          "name": "stdout"
        },
        {
          "output_type": "stream",
          "text": [
            "WARNING:root:Lossy conversion from float32 to uint8. Range [-0.9999998807907104, 1.0]. Convert image to uint8 prior to saving to suppress this warning.\n"
          ],
          "name": "stderr"
        },
        {
          "output_type": "stream",
          "text": [
            "Iteration [3200/6000] | D_real_loss: 0.0363 | D_fake_loss: 0.0695 | G_loss: 0.5828\n",
            "Saved results/samples_gan_gp1_lr3e-5/sample-003200.png\n"
          ],
          "name": "stdout"
        },
        {
          "output_type": "stream",
          "text": [
            "WARNING:root:Lossy conversion from float32 to uint8. Range [-0.9999997615814209, 1.0]. Convert image to uint8 prior to saving to suppress this warning.\n"
          ],
          "name": "stderr"
        },
        {
          "output_type": "stream",
          "text": [
            "Iteration [3400/6000] | D_real_loss: 0.0742 | D_fake_loss: 0.0464 | G_loss: 0.3117\n",
            "Saved results/samples_gan_gp1_lr3e-5/sample-003400.png\n"
          ],
          "name": "stdout"
        },
        {
          "output_type": "stream",
          "text": [
            "WARNING:root:Lossy conversion from float32 to uint8. Range [-0.9999939203262329, 1.0]. Convert image to uint8 prior to saving to suppress this warning.\n"
          ],
          "name": "stderr"
        },
        {
          "output_type": "stream",
          "text": [
            "Iteration [3600/6000] | D_real_loss: 0.0636 | D_fake_loss: 0.0809 | G_loss: 0.3655\n",
            "Saved results/samples_gan_gp1_lr3e-5/sample-003600.png\n"
          ],
          "name": "stdout"
        },
        {
          "output_type": "stream",
          "text": [
            "WARNING:root:Lossy conversion from float32 to uint8. Range [-0.9999978542327881, 1.0]. Convert image to uint8 prior to saving to suppress this warning.\n"
          ],
          "name": "stderr"
        },
        {
          "output_type": "stream",
          "text": [
            "Iteration [3800/6000] | D_real_loss: 0.0780 | D_fake_loss: 0.0449 | G_loss: 0.4670\n",
            "Saved results/samples_gan_gp1_lr3e-5/sample-003800.png\n"
          ],
          "name": "stdout"
        },
        {
          "output_type": "stream",
          "text": [
            "WARNING:root:Lossy conversion from float32 to uint8. Range [-0.9999952912330627, 1.0]. Convert image to uint8 prior to saving to suppress this warning.\n"
          ],
          "name": "stderr"
        },
        {
          "output_type": "stream",
          "text": [
            "Iteration [4000/6000] | D_real_loss: 0.1035 | D_fake_loss: 0.0324 | G_loss: 0.4520\n",
            "Saved results/samples_gan_gp1_lr3e-5/sample-004000.png\n"
          ],
          "name": "stdout"
        },
        {
          "output_type": "stream",
          "text": [
            "WARNING:root:Lossy conversion from float32 to uint8. Range [-0.9999988675117493, 1.0]. Convert image to uint8 prior to saving to suppress this warning.\n"
          ],
          "name": "stderr"
        },
        {
          "output_type": "stream",
          "text": [
            "Iteration [4200/6000] | D_real_loss: 0.0976 | D_fake_loss: 0.0702 | G_loss: 0.2214\n",
            "Saved results/samples_gan_gp1_lr3e-5/sample-004200.png\n"
          ],
          "name": "stdout"
        },
        {
          "output_type": "stream",
          "text": [
            "WARNING:root:Lossy conversion from float32 to uint8. Range [-0.9999980926513672, 1.0]. Convert image to uint8 prior to saving to suppress this warning.\n"
          ],
          "name": "stderr"
        },
        {
          "output_type": "stream",
          "text": [
            "Iteration [4400/6000] | D_real_loss: 0.0764 | D_fake_loss: 0.0497 | G_loss: 0.4059\n",
            "Saved results/samples_gan_gp1_lr3e-5/sample-004400.png\n"
          ],
          "name": "stdout"
        },
        {
          "output_type": "stream",
          "text": [
            "WARNING:root:Lossy conversion from float32 to uint8. Range [-0.9999966621398926, 1.0]. Convert image to uint8 prior to saving to suppress this warning.\n"
          ],
          "name": "stderr"
        },
        {
          "output_type": "stream",
          "text": [
            "Iteration [4600/6000] | D_real_loss: 0.0554 | D_fake_loss: 0.0492 | G_loss: 0.4174\n",
            "Saved results/samples_gan_gp1_lr3e-5/sample-004600.png\n"
          ],
          "name": "stdout"
        },
        {
          "output_type": "stream",
          "text": [
            "WARNING:root:Lossy conversion from float32 to uint8. Range [-0.9999991655349731, 1.0]. Convert image to uint8 prior to saving to suppress this warning.\n"
          ],
          "name": "stderr"
        },
        {
          "output_type": "stream",
          "text": [
            "Iteration [4800/6000] | D_real_loss: 0.1209 | D_fake_loss: 0.0167 | G_loss: 0.4592\n",
            "Saved results/samples_gan_gp1_lr3e-5/sample-004800.png\n"
          ],
          "name": "stdout"
        },
        {
          "output_type": "stream",
          "text": [
            "WARNING:root:Lossy conversion from float32 to uint8. Range [-0.9999995231628418, 1.0]. Convert image to uint8 prior to saving to suppress this warning.\n"
          ],
          "name": "stderr"
        },
        {
          "output_type": "stream",
          "text": [
            "Iteration [5000/6000] | D_real_loss: 0.0507 | D_fake_loss: 0.0706 | G_loss: 0.6122\n",
            "Saved results/samples_gan_gp1_lr3e-5/sample-005000.png\n"
          ],
          "name": "stdout"
        },
        {
          "output_type": "stream",
          "text": [
            "WARNING:root:Lossy conversion from float32 to uint8. Range [-0.9999975562095642, 1.0]. Convert image to uint8 prior to saving to suppress this warning.\n"
          ],
          "name": "stderr"
        },
        {
          "output_type": "stream",
          "text": [
            "Iteration [5200/6000] | D_real_loss: 0.0948 | D_fake_loss: 0.0303 | G_loss: 0.4719\n",
            "Saved results/samples_gan_gp1_lr3e-5/sample-005200.png\n"
          ],
          "name": "stdout"
        },
        {
          "output_type": "stream",
          "text": [
            "WARNING:root:Lossy conversion from float32 to uint8. Range [-0.9999995231628418, 1.0]. Convert image to uint8 prior to saving to suppress this warning.\n"
          ],
          "name": "stderr"
        },
        {
          "output_type": "stream",
          "text": [
            "Iteration [5400/6000] | D_real_loss: 0.0675 | D_fake_loss: 0.0369 | G_loss: 0.6368\n",
            "Saved results/samples_gan_gp1_lr3e-5/sample-005400.png\n"
          ],
          "name": "stdout"
        },
        {
          "output_type": "stream",
          "text": [
            "WARNING:root:Lossy conversion from float32 to uint8. Range [-0.9999998211860657, 1.0]. Convert image to uint8 prior to saving to suppress this warning.\n"
          ],
          "name": "stderr"
        },
        {
          "output_type": "stream",
          "text": [
            "Iteration [5600/6000] | D_real_loss: 0.0067 | D_fake_loss: 0.0859 | G_loss: 0.8425\n",
            "Saved results/samples_gan_gp1_lr3e-5/sample-005600.png\n"
          ],
          "name": "stdout"
        },
        {
          "output_type": "stream",
          "text": [
            "WARNING:root:Lossy conversion from float32 to uint8. Range [-0.9999967217445374, 1.0]. Convert image to uint8 prior to saving to suppress this warning.\n"
          ],
          "name": "stderr"
        },
        {
          "output_type": "stream",
          "text": [
            "Iteration [5800/6000] | D_real_loss: 0.0277 | D_fake_loss: 0.0464 | G_loss: 0.5201\n",
            "Saved results/samples_gan_gp1_lr3e-5/sample-005800.png\n"
          ],
          "name": "stdout"
        },
        {
          "output_type": "stream",
          "text": [
            "WARNING:root:Lossy conversion from float32 to uint8. Range [-0.9999998211860657, 1.0]. Convert image to uint8 prior to saving to suppress this warning.\n"
          ],
          "name": "stderr"
        },
        {
          "output_type": "stream",
          "text": [
            "Iteration [6000/6000] | D_real_loss: 0.0171 | D_fake_loss: 0.0401 | G_loss: 0.7450\n",
            "Saved results/samples_gan_gp1_lr3e-5/sample-006000.png\n",
            "adding image results/samples_gan_gp1_lr3e-5/losses.png\n",
            "adding image results/samples_gan_gp1_lr3e-5/sample-000200.png\n",
            "adding image results/samples_gan_gp1_lr3e-5/sample-000400.png\n",
            "adding image results/samples_gan_gp1_lr3e-5/sample-000600.png\n",
            "adding image results/samples_gan_gp1_lr3e-5/sample-000800.png\n",
            "adding image results/samples_gan_gp1_lr3e-5/sample-001000.png\n",
            "adding image results/samples_gan_gp1_lr3e-5/sample-001200.png\n",
            "adding image results/samples_gan_gp1_lr3e-5/sample-001400.png\n",
            "adding image results/samples_gan_gp1_lr3e-5/sample-001600.png\n",
            "adding image results/samples_gan_gp1_lr3e-5/sample-001800.png\n",
            "adding image results/samples_gan_gp1_lr3e-5/sample-002000.png\n",
            "adding image results/samples_gan_gp1_lr3e-5/sample-002200.png\n",
            "adding image results/samples_gan_gp1_lr3e-5/sample-002400.png\n",
            "adding image results/samples_gan_gp1_lr3e-5/sample-002600.png\n",
            "adding image results/samples_gan_gp1_lr3e-5/sample-002800.png\n",
            "adding image results/samples_gan_gp1_lr3e-5/sample-003000.png\n",
            "adding image results/samples_gan_gp1_lr3e-5/sample-003200.png\n",
            "adding image results/samples_gan_gp1_lr3e-5/sample-003400.png\n",
            "adding image results/samples_gan_gp1_lr3e-5/sample-003600.png\n",
            "adding image results/samples_gan_gp1_lr3e-5/sample-003800.png\n",
            "adding image results/samples_gan_gp1_lr3e-5/sample-004000.png\n",
            "adding image results/samples_gan_gp1_lr3e-5/sample-004200.png\n",
            "adding image results/samples_gan_gp1_lr3e-5/sample-004400.png\n",
            "adding image results/samples_gan_gp1_lr3e-5/sample-004600.png\n",
            "adding image results/samples_gan_gp1_lr3e-5/sample-004800.png\n",
            "adding image results/samples_gan_gp1_lr3e-5/sample-005000.png\n",
            "adding image results/samples_gan_gp1_lr3e-5/sample-005200.png\n",
            "adding image results/samples_gan_gp1_lr3e-5/sample-005400.png\n",
            "adding image results/samples_gan_gp1_lr3e-5/sample-005600.png\n",
            "adding image results/samples_gan_gp1_lr3e-5/sample-005800.png\n",
            "adding image results/samples_gan_gp1_lr3e-5/sample-006000.png\n"
          ],
          "name": "stdout"
        }
      ]
    },
    {
      "cell_type": "code",
      "metadata": {
        "id": "VyYaHldfXqO_"
      },
      "source": [
        "torch.save(G.state_dict(), \"/content/generator_weight\")\n",
        "torch.save(D.state_dict(), \"/content/discriminator_weight\")"
      ],
      "execution_count": 35,
      "outputs": []
    },
    {
      "cell_type": "code",
      "metadata": {
        "id": "C4QfmZ-1ltwU"
      },
      "source": [
        "# vae_model.load_state_dict(torch.load(\"/h/mhasan/CSC413_FINAL_PROJECT/weights/VAE_dsprites_weights\"))"
      ],
      "execution_count": 34,
      "outputs": []
    },
    {
      "cell_type": "code",
      "metadata": {
        "id": "T7bV2Fe5rrjc"
      },
      "source": [
        "NOISE_SIZE = 256 # same as args.noise_size\n",
        "\n",
        "def sample_new_noise():\n",
        "    \"\"\"\n",
        "    Generate a PyTorch Tensor of uniform random noise.\n",
        "\n",
        "    Input:\n",
        "    - batch_size: Integer giving the batch size of noise to generate.\n",
        "    - dim: Integer giving the dimension of noise to generate.\n",
        "\n",
        "    Output:\n",
        "    - A PyTorch Tensor of shape (1, dim, 1, 1) containing uniform\n",
        "      random noise in the range (-1, 1).\n",
        "    \"\"\"\n",
        "    return to_var(torch.rand(1, NOISE_SIZE) * 2 - 1).unsqueeze(2).unsqueeze(3)\n",
        "\n",
        "\n",
        "\n",
        "# modify point in latent space as input for the generator (input should be sample_noise)\n",
        "def modify_latent_noise(noise):\n",
        "  # noise of of shape (batch_size, dim, 1, 1) containing uniform random noise in the range (-1, 1).\n",
        "  modified_noise = noise.squeeze(2).squeeze(3)\n",
        "  rows = torch.arange(modified_noise.size(0)).long()\n",
        "  rand = torch.randint(-1, 1, (1,))   # rand noise value to update vector at idx \n",
        "  modified_noise[rows, 0] = rand\n",
        "  return to_var(modified_noise).unsqueeze(2).unsqueeze(3)\n",
        "\n",
        "\n",
        "# Generate new noise\n",
        "noise = sample_new_noise(m, opts.noise_size)\n",
        "# Generate fake images from the noise on trained model\n",
        "fake_image = G(noise)\n"
      ],
      "execution_count": null,
      "outputs": []
    }
  ]
}